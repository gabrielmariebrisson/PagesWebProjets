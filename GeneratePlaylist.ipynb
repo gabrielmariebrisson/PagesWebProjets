{
 "cells": [
  {
   "cell_type": "code",
   "execution_count": 1,
   "id": "d85decf3",
   "metadata": {},
   "outputs": [],
   "source": [
    "\n",
    "# # FMA Music Genre Prediction with PCA Playlist Generation\n",
    "# \n",
    "# This notebook modifies the original CNN BatchNorm code to:\n",
    "# 1. Work with the FMA small dataset for music genre prediction\n",
    "# 2. Extract features from the second-to-last layer for PCA analysis\n",
    "# 3. Generate playlists by creating lines between tracks in PCA space"
   ]
  },
  {
   "cell_type": "code",
   "execution_count": 2,
   "id": "691c027a",
   "metadata": {
    "lines_to_next_cell": 2
   },
   "outputs": [
    {
     "name": "stdout",
     "output_type": "stream",
     "text": [
      "Requirement already satisfied: kagglehub in /home/gabriel/anaconda3/envs/cine_reco/lib/python3.12/site-packages (0.3.13)\n",
      "Requirement already satisfied: pandas in /home/gabriel/anaconda3/envs/cine_reco/lib/python3.12/site-packages (2.3.2)\n",
      "Requirement already satisfied: scikit-learn in /home/gabriel/anaconda3/envs/cine_reco/lib/python3.12/site-packages (1.7.1)\n",
      "Requirement already satisfied: matplotlib in /home/gabriel/anaconda3/envs/cine_reco/lib/python3.12/site-packages (3.10.6)\n",
      "Requirement already satisfied: seaborn in /home/gabriel/anaconda3/envs/cine_reco/lib/python3.12/site-packages (0.13.2)\n",
      "Requirement already satisfied: plotly in /home/gabriel/anaconda3/envs/cine_reco/lib/python3.12/site-packages (6.3.1)\n",
      "Requirement already satisfied: packaging in /home/gabriel/anaconda3/envs/cine_reco/lib/python3.12/site-packages (from kagglehub) (25.0)\n",
      "Requirement already satisfied: pyyaml in /home/gabriel/anaconda3/envs/cine_reco/lib/python3.12/site-packages (from kagglehub) (6.0.3)\n",
      "Requirement already satisfied: requests in /home/gabriel/anaconda3/envs/cine_reco/lib/python3.12/site-packages (from kagglehub) (2.32.5)\n",
      "Requirement already satisfied: tqdm in /home/gabriel/anaconda3/envs/cine_reco/lib/python3.12/site-packages (from kagglehub) (4.67.1)\n",
      "Requirement already satisfied: numpy>=1.26.0 in /home/gabriel/anaconda3/envs/cine_reco/lib/python3.12/site-packages (from pandas) (2.3.2)\n",
      "Requirement already satisfied: python-dateutil>=2.8.2 in /home/gabriel/anaconda3/envs/cine_reco/lib/python3.12/site-packages (from pandas) (2.9.0.post0)\n",
      "Requirement already satisfied: pytz>=2020.1 in /home/gabriel/anaconda3/envs/cine_reco/lib/python3.12/site-packages (from pandas) (2025.2)\n",
      "Requirement already satisfied: tzdata>=2022.7 in /home/gabriel/anaconda3/envs/cine_reco/lib/python3.12/site-packages (from pandas) (2025.2)\n",
      "Requirement already satisfied: scipy>=1.8.0 in /home/gabriel/anaconda3/envs/cine_reco/lib/python3.12/site-packages (from scikit-learn) (1.16.1)\n",
      "Requirement already satisfied: joblib>=1.2.0 in /home/gabriel/anaconda3/envs/cine_reco/lib/python3.12/site-packages (from scikit-learn) (1.5.2)\n",
      "Requirement already satisfied: threadpoolctl>=3.1.0 in /home/gabriel/anaconda3/envs/cine_reco/lib/python3.12/site-packages (from scikit-learn) (3.6.0)\n",
      "Requirement already satisfied: contourpy>=1.0.1 in /home/gabriel/anaconda3/envs/cine_reco/lib/python3.12/site-packages (from matplotlib) (1.3.3)\n",
      "Requirement already satisfied: cycler>=0.10 in /home/gabriel/anaconda3/envs/cine_reco/lib/python3.12/site-packages (from matplotlib) (0.12.1)\n",
      "Requirement already satisfied: fonttools>=4.22.0 in /home/gabriel/anaconda3/envs/cine_reco/lib/python3.12/site-packages (from matplotlib) (4.60.1)\n",
      "Requirement already satisfied: kiwisolver>=1.3.1 in /home/gabriel/anaconda3/envs/cine_reco/lib/python3.12/site-packages (from matplotlib) (1.4.9)\n",
      "Requirement already satisfied: pillow>=8 in /home/gabriel/anaconda3/envs/cine_reco/lib/python3.12/site-packages (from matplotlib) (11.3.0)\n",
      "Requirement already satisfied: pyparsing>=2.3.1 in /home/gabriel/anaconda3/envs/cine_reco/lib/python3.12/site-packages (from matplotlib) (3.2.5)\n",
      "Requirement already satisfied: narwhals>=1.15.1 in /home/gabriel/anaconda3/envs/cine_reco/lib/python3.12/site-packages (from plotly) (2.2.0)\n",
      "Requirement already satisfied: six>=1.5 in /home/gabriel/anaconda3/envs/cine_reco/lib/python3.12/site-packages (from python-dateutil>=2.8.2->pandas) (1.17.0)\n",
      "Requirement already satisfied: charset_normalizer<4,>=2 in /home/gabriel/anaconda3/envs/cine_reco/lib/python3.12/site-packages (from requests->kagglehub) (3.4.3)\n",
      "Requirement already satisfied: idna<4,>=2.5 in /home/gabriel/anaconda3/envs/cine_reco/lib/python3.12/site-packages (from requests->kagglehub) (3.10)\n",
      "Requirement already satisfied: urllib3<3,>=1.21.1 in /home/gabriel/anaconda3/envs/cine_reco/lib/python3.12/site-packages (from requests->kagglehub) (2.5.0)\n",
      "Requirement already satisfied: certifi>=2017.4.17 in /home/gabriel/anaconda3/envs/cine_reco/lib/python3.12/site-packages (from requests->kagglehub) (2025.8.3)\n",
      "Requirement already satisfied: torch in /home/gabriel/anaconda3/envs/cine_reco/lib/python3.12/site-packages (2.8.0)\n",
      "Requirement already satisfied: torchaudio in /home/gabriel/anaconda3/envs/cine_reco/lib/python3.12/site-packages (2.8.0)\n",
      "Requirement already satisfied: librosa in /home/gabriel/anaconda3/envs/cine_reco/lib/python3.12/site-packages (0.11.0)\n",
      "Requirement already satisfied: filelock in /home/gabriel/anaconda3/envs/cine_reco/lib/python3.12/site-packages (from torch) (3.20.0)\n",
      "Requirement already satisfied: typing-extensions>=4.10.0 in /home/gabriel/anaconda3/envs/cine_reco/lib/python3.12/site-packages (from torch) (4.15.0)\n",
      "Requirement already satisfied: setuptools in /home/gabriel/anaconda3/envs/cine_reco/lib/python3.12/site-packages (from torch) (78.1.1)\n",
      "Requirement already satisfied: sympy>=1.13.3 in /home/gabriel/anaconda3/envs/cine_reco/lib/python3.12/site-packages (from torch) (1.14.0)\n",
      "Requirement already satisfied: networkx in /home/gabriel/anaconda3/envs/cine_reco/lib/python3.12/site-packages (from torch) (3.5)\n",
      "Requirement already satisfied: jinja2 in /home/gabriel/anaconda3/envs/cine_reco/lib/python3.12/site-packages (from torch) (3.1.6)\n",
      "Requirement already satisfied: fsspec in /home/gabriel/anaconda3/envs/cine_reco/lib/python3.12/site-packages (from torch) (2025.9.0)\n",
      "Requirement already satisfied: nvidia-cuda-nvrtc-cu12==12.8.93 in /home/gabriel/anaconda3/envs/cine_reco/lib/python3.12/site-packages (from torch) (12.8.93)\n",
      "Requirement already satisfied: nvidia-cuda-runtime-cu12==12.8.90 in /home/gabriel/anaconda3/envs/cine_reco/lib/python3.12/site-packages (from torch) (12.8.90)\n",
      "Requirement already satisfied: nvidia-cuda-cupti-cu12==12.8.90 in /home/gabriel/anaconda3/envs/cine_reco/lib/python3.12/site-packages (from torch) (12.8.90)\n",
      "Requirement already satisfied: nvidia-cudnn-cu12==9.10.2.21 in /home/gabriel/anaconda3/envs/cine_reco/lib/python3.12/site-packages (from torch) (9.10.2.21)\n",
      "Requirement already satisfied: nvidia-cublas-cu12==12.8.4.1 in /home/gabriel/anaconda3/envs/cine_reco/lib/python3.12/site-packages (from torch) (12.8.4.1)\n",
      "Requirement already satisfied: nvidia-cufft-cu12==11.3.3.83 in /home/gabriel/anaconda3/envs/cine_reco/lib/python3.12/site-packages (from torch) (11.3.3.83)\n",
      "Requirement already satisfied: nvidia-curand-cu12==10.3.9.90 in /home/gabriel/anaconda3/envs/cine_reco/lib/python3.12/site-packages (from torch) (10.3.9.90)\n",
      "Requirement already satisfied: nvidia-cusolver-cu12==11.7.3.90 in /home/gabriel/anaconda3/envs/cine_reco/lib/python3.12/site-packages (from torch) (11.7.3.90)\n",
      "Requirement already satisfied: nvidia-cusparse-cu12==12.5.8.93 in /home/gabriel/anaconda3/envs/cine_reco/lib/python3.12/site-packages (from torch) (12.5.8.93)\n",
      "Requirement already satisfied: nvidia-cusparselt-cu12==0.7.1 in /home/gabriel/anaconda3/envs/cine_reco/lib/python3.12/site-packages (from torch) (0.7.1)\n",
      "Requirement already satisfied: nvidia-nccl-cu12==2.27.3 in /home/gabriel/anaconda3/envs/cine_reco/lib/python3.12/site-packages (from torch) (2.27.3)\n",
      "Requirement already satisfied: nvidia-nvtx-cu12==12.8.90 in /home/gabriel/anaconda3/envs/cine_reco/lib/python3.12/site-packages (from torch) (12.8.90)\n",
      "Requirement already satisfied: nvidia-nvjitlink-cu12==12.8.93 in /home/gabriel/anaconda3/envs/cine_reco/lib/python3.12/site-packages (from torch) (12.8.93)\n",
      "Requirement already satisfied: nvidia-cufile-cu12==1.13.1.3 in /home/gabriel/anaconda3/envs/cine_reco/lib/python3.12/site-packages (from torch) (1.13.1.3)\n",
      "Requirement already satisfied: triton==3.4.0 in /home/gabriel/anaconda3/envs/cine_reco/lib/python3.12/site-packages (from torch) (3.4.0)\n",
      "Requirement already satisfied: audioread>=2.1.9 in /home/gabriel/anaconda3/envs/cine_reco/lib/python3.12/site-packages (from librosa) (3.0.1)\n",
      "Requirement already satisfied: numba>=0.51.0 in /home/gabriel/anaconda3/envs/cine_reco/lib/python3.12/site-packages (from librosa) (0.62.1)\n",
      "Requirement already satisfied: numpy>=1.22.3 in /home/gabriel/anaconda3/envs/cine_reco/lib/python3.12/site-packages (from librosa) (2.3.2)\n",
      "Requirement already satisfied: scipy>=1.6.0 in /home/gabriel/anaconda3/envs/cine_reco/lib/python3.12/site-packages (from librosa) (1.16.1)\n",
      "Requirement already satisfied: scikit-learn>=1.1.0 in /home/gabriel/anaconda3/envs/cine_reco/lib/python3.12/site-packages (from librosa) (1.7.1)\n",
      "Requirement already satisfied: joblib>=1.0 in /home/gabriel/anaconda3/envs/cine_reco/lib/python3.12/site-packages (from librosa) (1.5.2)\n",
      "Requirement already satisfied: decorator>=4.3.0 in /home/gabriel/anaconda3/envs/cine_reco/lib/python3.12/site-packages (from librosa) (5.2.1)\n",
      "Requirement already satisfied: soundfile>=0.12.1 in /home/gabriel/anaconda3/envs/cine_reco/lib/python3.12/site-packages (from librosa) (0.13.1)\n",
      "Requirement already satisfied: pooch>=1.1 in /home/gabriel/anaconda3/envs/cine_reco/lib/python3.12/site-packages (from librosa) (1.8.2)\n",
      "Requirement already satisfied: soxr>=0.3.2 in /home/gabriel/anaconda3/envs/cine_reco/lib/python3.12/site-packages (from librosa) (1.0.0)\n",
      "Requirement already satisfied: lazy_loader>=0.1 in /home/gabriel/anaconda3/envs/cine_reco/lib/python3.12/site-packages (from librosa) (0.4)\n",
      "Requirement already satisfied: msgpack>=1.0 in /home/gabriel/anaconda3/envs/cine_reco/lib/python3.12/site-packages (from librosa) (1.1.2)\n",
      "Requirement already satisfied: packaging in /home/gabriel/anaconda3/envs/cine_reco/lib/python3.12/site-packages (from lazy_loader>=0.1->librosa) (25.0)\n",
      "Requirement already satisfied: llvmlite<0.46,>=0.45.0dev0 in /home/gabriel/anaconda3/envs/cine_reco/lib/python3.12/site-packages (from numba>=0.51.0->librosa) (0.45.1)\n",
      "Requirement already satisfied: platformdirs>=2.5.0 in /home/gabriel/anaconda3/envs/cine_reco/lib/python3.12/site-packages (from pooch>=1.1->librosa) (4.4.0)\n",
      "Requirement already satisfied: requests>=2.19.0 in /home/gabriel/anaconda3/envs/cine_reco/lib/python3.12/site-packages (from pooch>=1.1->librosa) (2.32.5)\n",
      "Requirement already satisfied: charset_normalizer<4,>=2 in /home/gabriel/anaconda3/envs/cine_reco/lib/python3.12/site-packages (from requests>=2.19.0->pooch>=1.1->librosa) (3.4.3)\n",
      "Requirement already satisfied: idna<4,>=2.5 in /home/gabriel/anaconda3/envs/cine_reco/lib/python3.12/site-packages (from requests>=2.19.0->pooch>=1.1->librosa) (3.10)\n",
      "Requirement already satisfied: urllib3<3,>=1.21.1 in /home/gabriel/anaconda3/envs/cine_reco/lib/python3.12/site-packages (from requests>=2.19.0->pooch>=1.1->librosa) (2.5.0)\n",
      "Requirement already satisfied: certifi>=2017.4.17 in /home/gabriel/anaconda3/envs/cine_reco/lib/python3.12/site-packages (from requests>=2.19.0->pooch>=1.1->librosa) (2025.8.3)\n",
      "Requirement already satisfied: threadpoolctl>=3.1.0 in /home/gabriel/anaconda3/envs/cine_reco/lib/python3.12/site-packages (from scikit-learn>=1.1.0->librosa) (3.6.0)\n",
      "Requirement already satisfied: cffi>=1.0 in /home/gabriel/anaconda3/envs/cine_reco/lib/python3.12/site-packages (from soundfile>=0.12.1->librosa) (2.0.0)\n",
      "Requirement already satisfied: pycparser in /home/gabriel/anaconda3/envs/cine_reco/lib/python3.12/site-packages (from cffi>=1.0->soundfile>=0.12.1->librosa) (2.23)\n",
      "Requirement already satisfied: mpmath<1.4,>=1.1.0 in /home/gabriel/anaconda3/envs/cine_reco/lib/python3.12/site-packages (from sympy>=1.13.3->torch) (1.3.0)\n",
      "Requirement already satisfied: MarkupSafe>=2.0 in /home/gabriel/anaconda3/envs/cine_reco/lib/python3.12/site-packages (from jinja2->torch) (3.0.2)\n"
     ]
    }
   ],
   "source": [
    "\n",
    "\n",
    "# Install required packages\n",
    "get_ipython().system('pip install kagglehub pandas scikit-learn matplotlib seaborn plotly')\n",
    "get_ipython().system('pip install torch torchaudio librosa')"
   ]
  },
  {
   "cell_type": "code",
   "execution_count": 3,
   "id": "3bf3723e",
   "metadata": {},
   "outputs": [],
   "source": [
    "\n",
    "\n",
    "import torch\n",
    "import torchaudio\n",
    "import os\n",
    "import shutil\n",
    "import random\n",
    "import librosa\n",
    "import numpy as np\n",
    "import pandas as pd\n",
    "import matplotlib.pyplot as plt\n",
    "import seaborn as sns\n",
    "from sklearn.decomposition import PCA\n",
    "from sklearn.preprocessing import StandardScaler\n",
    "from sklearn.metrics import classification_report, confusion_matrix\n",
    "import plotly.express as px\n",
    "import plotly.graph_objects as go\n",
    "from plotly.subplots import make_subplots\n",
    "import warnings\n",
    "warnings.filterwarnings('ignore')\n",
    "import kagglehub\n",
    "\n",
    "\n",
    "# ## 1. Load FMA Small Dataset"
   ]
  },
  {
   "cell_type": "code",
   "execution_count": 4,
   "id": "e6862b16",
   "metadata": {},
   "outputs": [
    {
     "name": "stdout",
     "output_type": "stream",
     "text": [
      "âœ“ 8000 tracks dans le subset 'small'\n",
      "âœ“ 8 genres : ['Hip-Hop', 'Pop', 'Folk', 'Experimental', 'Rock', 'International', 'Electronic', 'Instrumental']\n"
     ]
    }
   ],
   "source": [
    "\n",
    "\n",
    "# Localisation des fichiers\n",
    "tracks_file =  \"../fma_metadata/tracks.csv\"\n",
    "genres_file = \"../fma_metadata/genres.csv\"\n",
    "\n",
    "# Chargement des mÃ©tadonnÃ©es\n",
    "tracks = pd.read_csv(tracks_file, index_col=0, header=[0, 1])\n",
    "genres_df = pd.read_csv(genres_file)\n",
    "subset = tracks[tracks[('set', 'subset')] == 'small']\n",
    "\n",
    "print(f\"âœ“ {len(subset)} tracks dans le subset 'small'\")\n",
    "\n",
    "# CrÃ©ation du genre mapping\n",
    "unique_genres = subset[('track', 'genre_top')].dropna().unique()\n",
    "genre_mapping = {genre: idx for idx, genre in enumerate(unique_genres)}\n",
    "reverse_genre_mapping = {idx: genre for genre, idx in genre_mapping.items()}\n",
    "\n",
    "print(f\"âœ“ {len(genre_mapping)} genres : {list(genre_mapping.keys())}\")\n",
    "\n",
    "\n",
    "# ## 2. Modified CNN Architecture for FMA Dataset"
   ]
  },
  {
   "cell_type": "code",
   "execution_count": 11,
   "id": "3987ef54",
   "metadata": {},
   "outputs": [
    {
     "data": {
      "text/html": [
       "<pre style=\"white-space:pre;overflow-x:auto;line-height:normal;font-family:Menlo,'DejaVu Sans Mono',consolas,'Courier New',monospace\"><span style=\"font-weight: bold\">Model: \"FMA_CNN_Residual\"</span>\n",
       "</pre>\n"
      ],
      "text/plain": [
       "\u001b[1mModel: \"FMA_CNN_Residual\"\u001b[0m\n"
      ]
     },
     "metadata": {},
     "output_type": "display_data"
    },
    {
     "data": {
      "text/html": [
       "<pre style=\"white-space:pre;overflow-x:auto;line-height:normal;font-family:Menlo,'DejaVu Sans Mono',consolas,'Courier New',monospace\">┏━━━━━━━━━━━━━━━━━━━━━┳━━━━━━━━━━━━━━━━━━━┳━━━━━━━━━━━━┳━━━━━━━━━━━━━━━━━━━┓\n",
       "┃<span style=\"font-weight: bold\"> Layer (type)        </span>┃<span style=\"font-weight: bold\"> Output Shape      </span>┃<span style=\"font-weight: bold\">    Param # </span>┃<span style=\"font-weight: bold\"> Connected to      </span>┃\n",
       "┡━━━━━━━━━━━━━━━━━━━━━╇━━━━━━━━━━━━━━━━━━━╇━━━━━━━━━━━━╇━━━━━━━━━━━━━━━━━━━┩\n",
       "│ input_layer_3       │ (<span style=\"color: #00d7ff; text-decoration-color: #00d7ff\">None</span>, <span style=\"color: #00af00; text-decoration-color: #00af00\">128</span>, <span style=\"color: #00af00; text-decoration-color: #00af00\">646</span>,  │          <span style=\"color: #00af00; text-decoration-color: #00af00\">0</span> │ -                 │\n",
       "│ (<span style=\"color: #0087ff; text-decoration-color: #0087ff\">InputLayer</span>)        │ <span style=\"color: #00af00; text-decoration-color: #00af00\">1</span>)                │            │                   │\n",
       "├─────────────────────┼───────────────────┼────────────┼───────────────────┤\n",
       "│ conv2d_30 (<span style=\"color: #0087ff; text-decoration-color: #0087ff\">Conv2D</span>)  │ (<span style=\"color: #00d7ff; text-decoration-color: #00d7ff\">None</span>, <span style=\"color: #00af00; text-decoration-color: #00af00\">128</span>, <span style=\"color: #00af00; text-decoration-color: #00af00\">646</span>,  │        <span style=\"color: #00af00; text-decoration-color: #00af00\">832</span> │ input_layer_3[<span style=\"color: #00af00; text-decoration-color: #00af00\">0</span>]… │\n",
       "│                     │ <span style=\"color: #00af00; text-decoration-color: #00af00\">32</span>)               │            │                   │\n",
       "├─────────────────────┼───────────────────┼────────────┼───────────────────┤\n",
       "│ batch_normalizatio… │ (<span style=\"color: #00d7ff; text-decoration-color: #00d7ff\">None</span>, <span style=\"color: #00af00; text-decoration-color: #00af00\">128</span>, <span style=\"color: #00af00; text-decoration-color: #00af00\">646</span>,  │        <span style=\"color: #00af00; text-decoration-color: #00af00\">128</span> │ conv2d_30[<span style=\"color: #00af00; text-decoration-color: #00af00\">0</span>][<span style=\"color: #00af00; text-decoration-color: #00af00\">0</span>]   │\n",
       "│ (<span style=\"color: #0087ff; text-decoration-color: #0087ff\">BatchNormalizatio…</span> │ <span style=\"color: #00af00; text-decoration-color: #00af00\">32</span>)               │            │                   │\n",
       "├─────────────────────┼───────────────────┼────────────┼───────────────────┤\n",
       "│ activation_36       │ (<span style=\"color: #00d7ff; text-decoration-color: #00d7ff\">None</span>, <span style=\"color: #00af00; text-decoration-color: #00af00\">128</span>, <span style=\"color: #00af00; text-decoration-color: #00af00\">646</span>,  │          <span style=\"color: #00af00; text-decoration-color: #00af00\">0</span> │ batch_normalizat… │\n",
       "│ (<span style=\"color: #0087ff; text-decoration-color: #0087ff\">Activation</span>)        │ <span style=\"color: #00af00; text-decoration-color: #00af00\">32</span>)               │            │                   │\n",
       "├─────────────────────┼───────────────────┼────────────┼───────────────────┤\n",
       "│ max_pooling2d_12    │ (<span style=\"color: #00d7ff; text-decoration-color: #00d7ff\">None</span>, <span style=\"color: #00af00; text-decoration-color: #00af00\">64</span>, <span style=\"color: #00af00; text-decoration-color: #00af00\">323</span>,   │          <span style=\"color: #00af00; text-decoration-color: #00af00\">0</span> │ activation_36[<span style=\"color: #00af00; text-decoration-color: #00af00\">0</span>]… │\n",
       "│ (<span style=\"color: #0087ff; text-decoration-color: #0087ff\">MaxPooling2D</span>)      │ <span style=\"color: #00af00; text-decoration-color: #00af00\">32</span>)               │            │                   │\n",
       "├─────────────────────┼───────────────────┼────────────┼───────────────────┤\n",
       "│ batch_normalizatio… │ (<span style=\"color: #00d7ff; text-decoration-color: #00d7ff\">None</span>, <span style=\"color: #00af00; text-decoration-color: #00af00\">64</span>, <span style=\"color: #00af00; text-decoration-color: #00af00\">323</span>,   │        <span style=\"color: #00af00; text-decoration-color: #00af00\">128</span> │ max_pooling2d_12… │\n",
       "│ (<span style=\"color: #0087ff; text-decoration-color: #0087ff\">BatchNormalizatio…</span> │ <span style=\"color: #00af00; text-decoration-color: #00af00\">32</span>)               │            │                   │\n",
       "├─────────────────────┼───────────────────┼────────────┼───────────────────┤\n",
       "│ activation_37       │ (<span style=\"color: #00d7ff; text-decoration-color: #00d7ff\">None</span>, <span style=\"color: #00af00; text-decoration-color: #00af00\">64</span>, <span style=\"color: #00af00; text-decoration-color: #00af00\">323</span>,   │          <span style=\"color: #00af00; text-decoration-color: #00af00\">0</span> │ batch_normalizat… │\n",
       "│ (<span style=\"color: #0087ff; text-decoration-color: #0087ff\">Activation</span>)        │ <span style=\"color: #00af00; text-decoration-color: #00af00\">32</span>)               │            │                   │\n",
       "├─────────────────────┼───────────────────┼────────────┼───────────────────┤\n",
       "│ conv2d_31 (<span style=\"color: #0087ff; text-decoration-color: #0087ff\">Conv2D</span>)  │ (<span style=\"color: #00d7ff; text-decoration-color: #00d7ff\">None</span>, <span style=\"color: #00af00; text-decoration-color: #00af00\">64</span>, <span style=\"color: #00af00; text-decoration-color: #00af00\">323</span>,   │     <span style=\"color: #00af00; text-decoration-color: #00af00\">18,496</span> │ activation_37[<span style=\"color: #00af00; text-decoration-color: #00af00\">0</span>]… │\n",
       "│                     │ <span style=\"color: #00af00; text-decoration-color: #00af00\">64</span>)               │            │                   │\n",
       "├─────────────────────┼───────────────────┼────────────┼───────────────────┤\n",
       "│ batch_normalizatio… │ (<span style=\"color: #00d7ff; text-decoration-color: #00d7ff\">None</span>, <span style=\"color: #00af00; text-decoration-color: #00af00\">64</span>, <span style=\"color: #00af00; text-decoration-color: #00af00\">323</span>,   │        <span style=\"color: #00af00; text-decoration-color: #00af00\">256</span> │ conv2d_31[<span style=\"color: #00af00; text-decoration-color: #00af00\">0</span>][<span style=\"color: #00af00; text-decoration-color: #00af00\">0</span>]   │\n",
       "│ (<span style=\"color: #0087ff; text-decoration-color: #0087ff\">BatchNormalizatio…</span> │ <span style=\"color: #00af00; text-decoration-color: #00af00\">64</span>)               │            │                   │\n",
       "├─────────────────────┼───────────────────┼────────────┼───────────────────┤\n",
       "│ activation_38       │ (<span style=\"color: #00d7ff; text-decoration-color: #00d7ff\">None</span>, <span style=\"color: #00af00; text-decoration-color: #00af00\">64</span>, <span style=\"color: #00af00; text-decoration-color: #00af00\">323</span>,   │          <span style=\"color: #00af00; text-decoration-color: #00af00\">0</span> │ batch_normalizat… │\n",
       "│ (<span style=\"color: #0087ff; text-decoration-color: #0087ff\">Activation</span>)        │ <span style=\"color: #00af00; text-decoration-color: #00af00\">64</span>)               │            │                   │\n",
       "├─────────────────────┼───────────────────┼────────────┼───────────────────┤\n",
       "│ conv2d_33 (<span style=\"color: #0087ff; text-decoration-color: #0087ff\">Conv2D</span>)  │ (<span style=\"color: #00d7ff; text-decoration-color: #00d7ff\">None</span>, <span style=\"color: #00af00; text-decoration-color: #00af00\">64</span>, <span style=\"color: #00af00; text-decoration-color: #00af00\">323</span>,   │      <span style=\"color: #00af00; text-decoration-color: #00af00\">2,112</span> │ max_pooling2d_12… │\n",
       "│                     │ <span style=\"color: #00af00; text-decoration-color: #00af00\">64</span>)               │            │                   │\n",
       "├─────────────────────┼───────────────────┼────────────┼───────────────────┤\n",
       "│ conv2d_32 (<span style=\"color: #0087ff; text-decoration-color: #0087ff\">Conv2D</span>)  │ (<span style=\"color: #00d7ff; text-decoration-color: #00d7ff\">None</span>, <span style=\"color: #00af00; text-decoration-color: #00af00\">64</span>, <span style=\"color: #00af00; text-decoration-color: #00af00\">323</span>,   │     <span style=\"color: #00af00; text-decoration-color: #00af00\">36,928</span> │ activation_38[<span style=\"color: #00af00; text-decoration-color: #00af00\">0</span>]… │\n",
       "│                     │ <span style=\"color: #00af00; text-decoration-color: #00af00\">64</span>)               │            │                   │\n",
       "├─────────────────────┼───────────────────┼────────────┼───────────────────┤\n",
       "│ batch_normalizatio… │ (<span style=\"color: #00d7ff; text-decoration-color: #00d7ff\">None</span>, <span style=\"color: #00af00; text-decoration-color: #00af00\">64</span>, <span style=\"color: #00af00; text-decoration-color: #00af00\">323</span>,   │        <span style=\"color: #00af00; text-decoration-color: #00af00\">256</span> │ conv2d_33[<span style=\"color: #00af00; text-decoration-color: #00af00\">0</span>][<span style=\"color: #00af00; text-decoration-color: #00af00\">0</span>]   │\n",
       "│ (<span style=\"color: #0087ff; text-decoration-color: #0087ff\">BatchNormalizatio…</span> │ <span style=\"color: #00af00; text-decoration-color: #00af00\">64</span>)               │            │                   │\n",
       "├─────────────────────┼───────────────────┼────────────┼───────────────────┤\n",
       "│ add_9 (<span style=\"color: #0087ff; text-decoration-color: #0087ff\">Add</span>)         │ (<span style=\"color: #00d7ff; text-decoration-color: #00d7ff\">None</span>, <span style=\"color: #00af00; text-decoration-color: #00af00\">64</span>, <span style=\"color: #00af00; text-decoration-color: #00af00\">323</span>,   │          <span style=\"color: #00af00; text-decoration-color: #00af00\">0</span> │ conv2d_32[<span style=\"color: #00af00; text-decoration-color: #00af00\">0</span>][<span style=\"color: #00af00; text-decoration-color: #00af00\">0</span>],  │\n",
       "│                     │ <span style=\"color: #00af00; text-decoration-color: #00af00\">64</span>)               │            │ batch_normalizat… │\n",
       "├─────────────────────┼───────────────────┼────────────┼───────────────────┤\n",
       "│ activation_39       │ (<span style=\"color: #00d7ff; text-decoration-color: #00d7ff\">None</span>, <span style=\"color: #00af00; text-decoration-color: #00af00\">64</span>, <span style=\"color: #00af00; text-decoration-color: #00af00\">323</span>,   │          <span style=\"color: #00af00; text-decoration-color: #00af00\">0</span> │ add_9[<span style=\"color: #00af00; text-decoration-color: #00af00\">0</span>][<span style=\"color: #00af00; text-decoration-color: #00af00\">0</span>]       │\n",
       "│ (<span style=\"color: #0087ff; text-decoration-color: #0087ff\">Activation</span>)        │ <span style=\"color: #00af00; text-decoration-color: #00af00\">64</span>)               │            │                   │\n",
       "├─────────────────────┼───────────────────┼────────────┼───────────────────┤\n",
       "│ max_pooling2d_13    │ (<span style=\"color: #00d7ff; text-decoration-color: #00d7ff\">None</span>, <span style=\"color: #00af00; text-decoration-color: #00af00\">32</span>, <span style=\"color: #00af00; text-decoration-color: #00af00\">161</span>,   │          <span style=\"color: #00af00; text-decoration-color: #00af00\">0</span> │ activation_39[<span style=\"color: #00af00; text-decoration-color: #00af00\">0</span>]… │\n",
       "│ (<span style=\"color: #0087ff; text-decoration-color: #0087ff\">MaxPooling2D</span>)      │ <span style=\"color: #00af00; text-decoration-color: #00af00\">64</span>)               │            │                   │\n",
       "├─────────────────────┼───────────────────┼────────────┼───────────────────┤\n",
       "│ batch_normalizatio… │ (<span style=\"color: #00d7ff; text-decoration-color: #00d7ff\">None</span>, <span style=\"color: #00af00; text-decoration-color: #00af00\">32</span>, <span style=\"color: #00af00; text-decoration-color: #00af00\">161</span>,   │        <span style=\"color: #00af00; text-decoration-color: #00af00\">256</span> │ max_pooling2d_13… │\n",
       "│ (<span style=\"color: #0087ff; text-decoration-color: #0087ff\">BatchNormalizatio…</span> │ <span style=\"color: #00af00; text-decoration-color: #00af00\">64</span>)               │            │                   │\n",
       "├─────────────────────┼───────────────────┼────────────┼───────────────────┤\n",
       "│ activation_40       │ (<span style=\"color: #00d7ff; text-decoration-color: #00d7ff\">None</span>, <span style=\"color: #00af00; text-decoration-color: #00af00\">32</span>, <span style=\"color: #00af00; text-decoration-color: #00af00\">161</span>,   │          <span style=\"color: #00af00; text-decoration-color: #00af00\">0</span> │ batch_normalizat… │\n",
       "│ (<span style=\"color: #0087ff; text-decoration-color: #0087ff\">Activation</span>)        │ <span style=\"color: #00af00; text-decoration-color: #00af00\">64</span>)               │            │                   │\n",
       "├─────────────────────┼───────────────────┼────────────┼───────────────────┤\n",
       "│ conv2d_34 (<span style=\"color: #0087ff; text-decoration-color: #0087ff\">Conv2D</span>)  │ (<span style=\"color: #00d7ff; text-decoration-color: #00d7ff\">None</span>, <span style=\"color: #00af00; text-decoration-color: #00af00\">32</span>, <span style=\"color: #00af00; text-decoration-color: #00af00\">161</span>,   │     <span style=\"color: #00af00; text-decoration-color: #00af00\">73,856</span> │ activation_40[<span style=\"color: #00af00; text-decoration-color: #00af00\">0</span>]… │\n",
       "│                     │ <span style=\"color: #00af00; text-decoration-color: #00af00\">128</span>)              │            │                   │\n",
       "├─────────────────────┼───────────────────┼────────────┼───────────────────┤\n",
       "│ batch_normalizatio… │ (<span style=\"color: #00d7ff; text-decoration-color: #00d7ff\">None</span>, <span style=\"color: #00af00; text-decoration-color: #00af00\">32</span>, <span style=\"color: #00af00; text-decoration-color: #00af00\">161</span>,   │        <span style=\"color: #00af00; text-decoration-color: #00af00\">512</span> │ conv2d_34[<span style=\"color: #00af00; text-decoration-color: #00af00\">0</span>][<span style=\"color: #00af00; text-decoration-color: #00af00\">0</span>]   │\n",
       "│ (<span style=\"color: #0087ff; text-decoration-color: #0087ff\">BatchNormalizatio…</span> │ <span style=\"color: #00af00; text-decoration-color: #00af00\">128</span>)              │            │                   │\n",
       "├─────────────────────┼───────────────────┼────────────┼───────────────────┤\n",
       "│ activation_41       │ (<span style=\"color: #00d7ff; text-decoration-color: #00d7ff\">None</span>, <span style=\"color: #00af00; text-decoration-color: #00af00\">32</span>, <span style=\"color: #00af00; text-decoration-color: #00af00\">161</span>,   │          <span style=\"color: #00af00; text-decoration-color: #00af00\">0</span> │ batch_normalizat… │\n",
       "│ (<span style=\"color: #0087ff; text-decoration-color: #0087ff\">Activation</span>)        │ <span style=\"color: #00af00; text-decoration-color: #00af00\">128</span>)              │            │                   │\n",
       "├─────────────────────┼───────────────────┼────────────┼───────────────────┤\n",
       "│ conv2d_36 (<span style=\"color: #0087ff; text-decoration-color: #0087ff\">Conv2D</span>)  │ (<span style=\"color: #00d7ff; text-decoration-color: #00d7ff\">None</span>, <span style=\"color: #00af00; text-decoration-color: #00af00\">32</span>, <span style=\"color: #00af00; text-decoration-color: #00af00\">161</span>,   │      <span style=\"color: #00af00; text-decoration-color: #00af00\">8,320</span> │ max_pooling2d_13… │\n",
       "│                     │ <span style=\"color: #00af00; text-decoration-color: #00af00\">128</span>)              │            │                   │\n",
       "├─────────────────────┼───────────────────┼────────────┼───────────────────┤\n",
       "│ conv2d_35 (<span style=\"color: #0087ff; text-decoration-color: #0087ff\">Conv2D</span>)  │ (<span style=\"color: #00d7ff; text-decoration-color: #00d7ff\">None</span>, <span style=\"color: #00af00; text-decoration-color: #00af00\">32</span>, <span style=\"color: #00af00; text-decoration-color: #00af00\">161</span>,   │    <span style=\"color: #00af00; text-decoration-color: #00af00\">147,584</span> │ activation_41[<span style=\"color: #00af00; text-decoration-color: #00af00\">0</span>]… │\n",
       "│                     │ <span style=\"color: #00af00; text-decoration-color: #00af00\">128</span>)              │            │                   │\n",
       "├─────────────────────┼───────────────────┼────────────┼───────────────────┤\n",
       "│ batch_normalizatio… │ (<span style=\"color: #00d7ff; text-decoration-color: #00d7ff\">None</span>, <span style=\"color: #00af00; text-decoration-color: #00af00\">32</span>, <span style=\"color: #00af00; text-decoration-color: #00af00\">161</span>,   │        <span style=\"color: #00af00; text-decoration-color: #00af00\">512</span> │ conv2d_36[<span style=\"color: #00af00; text-decoration-color: #00af00\">0</span>][<span style=\"color: #00af00; text-decoration-color: #00af00\">0</span>]   │\n",
       "│ (<span style=\"color: #0087ff; text-decoration-color: #0087ff\">BatchNormalizatio…</span> │ <span style=\"color: #00af00; text-decoration-color: #00af00\">128</span>)              │            │                   │\n",
       "├─────────────────────┼───────────────────┼────────────┼───────────────────┤\n",
       "│ add_10 (<span style=\"color: #0087ff; text-decoration-color: #0087ff\">Add</span>)        │ (<span style=\"color: #00d7ff; text-decoration-color: #00d7ff\">None</span>, <span style=\"color: #00af00; text-decoration-color: #00af00\">32</span>, <span style=\"color: #00af00; text-decoration-color: #00af00\">161</span>,   │          <span style=\"color: #00af00; text-decoration-color: #00af00\">0</span> │ conv2d_35[<span style=\"color: #00af00; text-decoration-color: #00af00\">0</span>][<span style=\"color: #00af00; text-decoration-color: #00af00\">0</span>],  │\n",
       "│                     │ <span style=\"color: #00af00; text-decoration-color: #00af00\">128</span>)              │            │ batch_normalizat… │\n",
       "├─────────────────────┼───────────────────┼────────────┼───────────────────┤\n",
       "│ activation_42       │ (<span style=\"color: #00d7ff; text-decoration-color: #00d7ff\">None</span>, <span style=\"color: #00af00; text-decoration-color: #00af00\">32</span>, <span style=\"color: #00af00; text-decoration-color: #00af00\">161</span>,   │          <span style=\"color: #00af00; text-decoration-color: #00af00\">0</span> │ add_10[<span style=\"color: #00af00; text-decoration-color: #00af00\">0</span>][<span style=\"color: #00af00; text-decoration-color: #00af00\">0</span>]      │\n",
       "│ (<span style=\"color: #0087ff; text-decoration-color: #0087ff\">Activation</span>)        │ <span style=\"color: #00af00; text-decoration-color: #00af00\">128</span>)              │            │                   │\n",
       "├─────────────────────┼───────────────────┼────────────┼───────────────────┤\n",
       "│ max_pooling2d_14    │ (<span style=\"color: #00d7ff; text-decoration-color: #00d7ff\">None</span>, <span style=\"color: #00af00; text-decoration-color: #00af00\">16</span>, <span style=\"color: #00af00; text-decoration-color: #00af00\">80</span>,    │          <span style=\"color: #00af00; text-decoration-color: #00af00\">0</span> │ activation_42[<span style=\"color: #00af00; text-decoration-color: #00af00\">0</span>]… │\n",
       "│ (<span style=\"color: #0087ff; text-decoration-color: #0087ff\">MaxPooling2D</span>)      │ <span style=\"color: #00af00; text-decoration-color: #00af00\">128</span>)              │            │                   │\n",
       "├─────────────────────┼───────────────────┼────────────┼───────────────────┤\n",
       "│ batch_normalizatio… │ (<span style=\"color: #00d7ff; text-decoration-color: #00d7ff\">None</span>, <span style=\"color: #00af00; text-decoration-color: #00af00\">16</span>, <span style=\"color: #00af00; text-decoration-color: #00af00\">80</span>,    │        <span style=\"color: #00af00; text-decoration-color: #00af00\">512</span> │ max_pooling2d_14… │\n",
       "│ (<span style=\"color: #0087ff; text-decoration-color: #0087ff\">BatchNormalizatio…</span> │ <span style=\"color: #00af00; text-decoration-color: #00af00\">128</span>)              │            │                   │\n",
       "├─────────────────────┼───────────────────┼────────────┼───────────────────┤\n",
       "│ activation_43       │ (<span style=\"color: #00d7ff; text-decoration-color: #00d7ff\">None</span>, <span style=\"color: #00af00; text-decoration-color: #00af00\">16</span>, <span style=\"color: #00af00; text-decoration-color: #00af00\">80</span>,    │          <span style=\"color: #00af00; text-decoration-color: #00af00\">0</span> │ batch_normalizat… │\n",
       "│ (<span style=\"color: #0087ff; text-decoration-color: #0087ff\">Activation</span>)        │ <span style=\"color: #00af00; text-decoration-color: #00af00\">128</span>)              │            │                   │\n",
       "├─────────────────────┼───────────────────┼────────────┼───────────────────┤\n",
       "│ conv2d_37 (<span style=\"color: #0087ff; text-decoration-color: #0087ff\">Conv2D</span>)  │ (<span style=\"color: #00d7ff; text-decoration-color: #00d7ff\">None</span>, <span style=\"color: #00af00; text-decoration-color: #00af00\">16</span>, <span style=\"color: #00af00; text-decoration-color: #00af00\">80</span>,    │    <span style=\"color: #00af00; text-decoration-color: #00af00\">295,168</span> │ activation_43[<span style=\"color: #00af00; text-decoration-color: #00af00\">0</span>]… │\n",
       "│                     │ <span style=\"color: #00af00; text-decoration-color: #00af00\">256</span>)              │            │                   │\n",
       "├─────────────────────┼───────────────────┼────────────┼───────────────────┤\n",
       "│ batch_normalizatio… │ (<span style=\"color: #00d7ff; text-decoration-color: #00d7ff\">None</span>, <span style=\"color: #00af00; text-decoration-color: #00af00\">16</span>, <span style=\"color: #00af00; text-decoration-color: #00af00\">80</span>,    │      <span style=\"color: #00af00; text-decoration-color: #00af00\">1,024</span> │ conv2d_37[<span style=\"color: #00af00; text-decoration-color: #00af00\">0</span>][<span style=\"color: #00af00; text-decoration-color: #00af00\">0</span>]   │\n",
       "│ (<span style=\"color: #0087ff; text-decoration-color: #0087ff\">BatchNormalizatio…</span> │ <span style=\"color: #00af00; text-decoration-color: #00af00\">256</span>)              │            │                   │\n",
       "├─────────────────────┼───────────────────┼────────────┼───────────────────┤\n",
       "│ activation_44       │ (<span style=\"color: #00d7ff; text-decoration-color: #00d7ff\">None</span>, <span style=\"color: #00af00; text-decoration-color: #00af00\">16</span>, <span style=\"color: #00af00; text-decoration-color: #00af00\">80</span>,    │          <span style=\"color: #00af00; text-decoration-color: #00af00\">0</span> │ batch_normalizat… │\n",
       "│ (<span style=\"color: #0087ff; text-decoration-color: #0087ff\">Activation</span>)        │ <span style=\"color: #00af00; text-decoration-color: #00af00\">256</span>)              │            │                   │\n",
       "├─────────────────────┼───────────────────┼────────────┼───────────────────┤\n",
       "│ conv2d_39 (<span style=\"color: #0087ff; text-decoration-color: #0087ff\">Conv2D</span>)  │ (<span style=\"color: #00d7ff; text-decoration-color: #00d7ff\">None</span>, <span style=\"color: #00af00; text-decoration-color: #00af00\">16</span>, <span style=\"color: #00af00; text-decoration-color: #00af00\">80</span>,    │     <span style=\"color: #00af00; text-decoration-color: #00af00\">33,024</span> │ max_pooling2d_14… │\n",
       "│                     │ <span style=\"color: #00af00; text-decoration-color: #00af00\">256</span>)              │            │                   │\n",
       "├─────────────────────┼───────────────────┼────────────┼───────────────────┤\n",
       "│ conv2d_38 (<span style=\"color: #0087ff; text-decoration-color: #0087ff\">Conv2D</span>)  │ (<span style=\"color: #00d7ff; text-decoration-color: #00d7ff\">None</span>, <span style=\"color: #00af00; text-decoration-color: #00af00\">16</span>, <span style=\"color: #00af00; text-decoration-color: #00af00\">80</span>,    │    <span style=\"color: #00af00; text-decoration-color: #00af00\">590,080</span> │ activation_44[<span style=\"color: #00af00; text-decoration-color: #00af00\">0</span>]… │\n",
       "│                     │ <span style=\"color: #00af00; text-decoration-color: #00af00\">256</span>)              │            │                   │\n",
       "├─────────────────────┼───────────────────┼────────────┼───────────────────┤\n",
       "│ batch_normalizatio… │ (<span style=\"color: #00d7ff; text-decoration-color: #00d7ff\">None</span>, <span style=\"color: #00af00; text-decoration-color: #00af00\">16</span>, <span style=\"color: #00af00; text-decoration-color: #00af00\">80</span>,    │      <span style=\"color: #00af00; text-decoration-color: #00af00\">1,024</span> │ conv2d_39[<span style=\"color: #00af00; text-decoration-color: #00af00\">0</span>][<span style=\"color: #00af00; text-decoration-color: #00af00\">0</span>]   │\n",
       "│ (<span style=\"color: #0087ff; text-decoration-color: #0087ff\">BatchNormalizatio…</span> │ <span style=\"color: #00af00; text-decoration-color: #00af00\">256</span>)              │            │                   │\n",
       "├─────────────────────┼───────────────────┼────────────┼───────────────────┤\n",
       "│ add_11 (<span style=\"color: #0087ff; text-decoration-color: #0087ff\">Add</span>)        │ (<span style=\"color: #00d7ff; text-decoration-color: #00d7ff\">None</span>, <span style=\"color: #00af00; text-decoration-color: #00af00\">16</span>, <span style=\"color: #00af00; text-decoration-color: #00af00\">80</span>,    │          <span style=\"color: #00af00; text-decoration-color: #00af00\">0</span> │ conv2d_38[<span style=\"color: #00af00; text-decoration-color: #00af00\">0</span>][<span style=\"color: #00af00; text-decoration-color: #00af00\">0</span>],  │\n",
       "│                     │ <span style=\"color: #00af00; text-decoration-color: #00af00\">256</span>)              │            │ batch_normalizat… │\n",
       "├─────────────────────┼───────────────────┼────────────┼───────────────────┤\n",
       "│ activation_45       │ (<span style=\"color: #00d7ff; text-decoration-color: #00d7ff\">None</span>, <span style=\"color: #00af00; text-decoration-color: #00af00\">16</span>, <span style=\"color: #00af00; text-decoration-color: #00af00\">80</span>,    │          <span style=\"color: #00af00; text-decoration-color: #00af00\">0</span> │ add_11[<span style=\"color: #00af00; text-decoration-color: #00af00\">0</span>][<span style=\"color: #00af00; text-decoration-color: #00af00\">0</span>]      │\n",
       "│ (<span style=\"color: #0087ff; text-decoration-color: #0087ff\">Activation</span>)        │ <span style=\"color: #00af00; text-decoration-color: #00af00\">256</span>)              │            │                   │\n",
       "├─────────────────────┼───────────────────┼────────────┼───────────────────┤\n",
       "│ max_pooling2d_15    │ (<span style=\"color: #00d7ff; text-decoration-color: #00d7ff\">None</span>, <span style=\"color: #00af00; text-decoration-color: #00af00\">8</span>, <span style=\"color: #00af00; text-decoration-color: #00af00\">40</span>,     │          <span style=\"color: #00af00; text-decoration-color: #00af00\">0</span> │ activation_45[<span style=\"color: #00af00; text-decoration-color: #00af00\">0</span>]… │\n",
       "│ (<span style=\"color: #0087ff; text-decoration-color: #0087ff\">MaxPooling2D</span>)      │ <span style=\"color: #00af00; text-decoration-color: #00af00\">256</span>)              │            │                   │\n",
       "├─────────────────────┼───────────────────┼────────────┼───────────────────┤\n",
       "│ lambda_6 (<span style=\"color: #0087ff; text-decoration-color: #0087ff\">Lambda</span>)   │ (<span style=\"color: #00d7ff; text-decoration-color: #00d7ff\">None</span>, <span style=\"color: #00af00; text-decoration-color: #00af00\">40</span>, <span style=\"color: #00af00; text-decoration-color: #00af00\">256</span>)   │          <span style=\"color: #00af00; text-decoration-color: #00af00\">0</span> │ max_pooling2d_15… │\n",
       "├─────────────────────┼───────────────────┼────────────┼───────────────────┤\n",
       "│ lambda_7 (<span style=\"color: #0087ff; text-decoration-color: #0087ff\">Lambda</span>)   │ (<span style=\"color: #00d7ff; text-decoration-color: #00d7ff\">None</span>, <span style=\"color: #00af00; text-decoration-color: #00af00\">40</span>, <span style=\"color: #00af00; text-decoration-color: #00af00\">256</span>)   │          <span style=\"color: #00af00; text-decoration-color: #00af00\">0</span> │ max_pooling2d_15… │\n",
       "├─────────────────────┼───────────────────┼────────────┼───────────────────┤\n",
       "│ concatenate_3       │ (<span style=\"color: #00d7ff; text-decoration-color: #00d7ff\">None</span>, <span style=\"color: #00af00; text-decoration-color: #00af00\">40</span>, <span style=\"color: #00af00; text-decoration-color: #00af00\">512</span>)   │          <span style=\"color: #00af00; text-decoration-color: #00af00\">0</span> │ lambda_6[<span style=\"color: #00af00; text-decoration-color: #00af00\">0</span>][<span style=\"color: #00af00; text-decoration-color: #00af00\">0</span>],   │\n",
       "│ (<span style=\"color: #0087ff; text-decoration-color: #0087ff\">Concatenate</span>)       │                   │            │ lambda_7[<span style=\"color: #00af00; text-decoration-color: #00af00\">0</span>][<span style=\"color: #00af00; text-decoration-color: #00af00\">0</span>]    │\n",
       "├─────────────────────┼───────────────────┼────────────┼───────────────────┤\n",
       "│ flatten_3 (<span style=\"color: #0087ff; text-decoration-color: #0087ff\">Flatten</span>) │ (<span style=\"color: #00d7ff; text-decoration-color: #00d7ff\">None</span>, <span style=\"color: #00af00; text-decoration-color: #00af00\">20480</span>)     │          <span style=\"color: #00af00; text-decoration-color: #00af00\">0</span> │ concatenate_3[<span style=\"color: #00af00; text-decoration-color: #00af00\">0</span>]… │\n",
       "├─────────────────────┼───────────────────┼────────────┼───────────────────┤\n",
       "│ dense_9 (<span style=\"color: #0087ff; text-decoration-color: #0087ff\">Dense</span>)     │ (<span style=\"color: #00d7ff; text-decoration-color: #00d7ff\">None</span>, <span style=\"color: #00af00; text-decoration-color: #00af00\">512</span>)       │ <span style=\"color: #00af00; text-decoration-color: #00af00\">10,486,272</span> │ flatten_3[<span style=\"color: #00af00; text-decoration-color: #00af00\">0</span>][<span style=\"color: #00af00; text-decoration-color: #00af00\">0</span>]   │\n",
       "├─────────────────────┼───────────────────┼────────────┼───────────────────┤\n",
       "│ batch_normalizatio… │ (<span style=\"color: #00d7ff; text-decoration-color: #00d7ff\">None</span>, <span style=\"color: #00af00; text-decoration-color: #00af00\">512</span>)       │      <span style=\"color: #00af00; text-decoration-color: #00af00\">2,048</span> │ dense_9[<span style=\"color: #00af00; text-decoration-color: #00af00\">0</span>][<span style=\"color: #00af00; text-decoration-color: #00af00\">0</span>]     │\n",
       "│ (<span style=\"color: #0087ff; text-decoration-color: #0087ff\">BatchNormalizatio…</span> │                   │            │                   │\n",
       "├─────────────────────┼───────────────────┼────────────┼───────────────────┤\n",
       "│ activation_46       │ (<span style=\"color: #00d7ff; text-decoration-color: #00d7ff\">None</span>, <span style=\"color: #00af00; text-decoration-color: #00af00\">512</span>)       │          <span style=\"color: #00af00; text-decoration-color: #00af00\">0</span> │ batch_normalizat… │\n",
       "│ (<span style=\"color: #0087ff; text-decoration-color: #0087ff\">Activation</span>)        │                   │            │                   │\n",
       "├─────────────────────┼───────────────────┼────────────┼───────────────────┤\n",
       "│ dropout_6 (<span style=\"color: #0087ff; text-decoration-color: #0087ff\">Dropout</span>) │ (<span style=\"color: #00d7ff; text-decoration-color: #00d7ff\">None</span>, <span style=\"color: #00af00; text-decoration-color: #00af00\">512</span>)       │          <span style=\"color: #00af00; text-decoration-color: #00af00\">0</span> │ activation_46[<span style=\"color: #00af00; text-decoration-color: #00af00\">0</span>]… │\n",
       "├─────────────────────┼───────────────────┼────────────┼───────────────────┤\n",
       "│ dense_10 (<span style=\"color: #0087ff; text-decoration-color: #0087ff\">Dense</span>)    │ (<span style=\"color: #00d7ff; text-decoration-color: #00d7ff\">None</span>, <span style=\"color: #00af00; text-decoration-color: #00af00\">256</span>)       │    <span style=\"color: #00af00; text-decoration-color: #00af00\">131,328</span> │ dropout_6[<span style=\"color: #00af00; text-decoration-color: #00af00\">0</span>][<span style=\"color: #00af00; text-decoration-color: #00af00\">0</span>]   │\n",
       "├─────────────────────┼───────────────────┼────────────┼───────────────────┤\n",
       "│ batch_normalizatio… │ (<span style=\"color: #00d7ff; text-decoration-color: #00d7ff\">None</span>, <span style=\"color: #00af00; text-decoration-color: #00af00\">256</span>)       │      <span style=\"color: #00af00; text-decoration-color: #00af00\">1,024</span> │ dense_10[<span style=\"color: #00af00; text-decoration-color: #00af00\">0</span>][<span style=\"color: #00af00; text-decoration-color: #00af00\">0</span>]    │\n",
       "│ (<span style=\"color: #0087ff; text-decoration-color: #0087ff\">BatchNormalizatio…</span> │                   │            │                   │\n",
       "├─────────────────────┼───────────────────┼────────────┼───────────────────┤\n",
       "│ activation_47       │ (<span style=\"color: #00d7ff; text-decoration-color: #00d7ff\">None</span>, <span style=\"color: #00af00; text-decoration-color: #00af00\">256</span>)       │          <span style=\"color: #00af00; text-decoration-color: #00af00\">0</span> │ batch_normalizat… │\n",
       "│ (<span style=\"color: #0087ff; text-decoration-color: #0087ff\">Activation</span>)        │                   │            │                   │\n",
       "├─────────────────────┼───────────────────┼────────────┼───────────────────┤\n",
       "│ dropout_7 (<span style=\"color: #0087ff; text-decoration-color: #0087ff\">Dropout</span>) │ (<span style=\"color: #00d7ff; text-decoration-color: #00d7ff\">None</span>, <span style=\"color: #00af00; text-decoration-color: #00af00\">256</span>)       │          <span style=\"color: #00af00; text-decoration-color: #00af00\">0</span> │ activation_47[<span style=\"color: #00af00; text-decoration-color: #00af00\">0</span>]… │\n",
       "├─────────────────────┼───────────────────┼────────────┼───────────────────┤\n",
       "│ dense_11 (<span style=\"color: #0087ff; text-decoration-color: #0087ff\">Dense</span>)    │ (<span style=\"color: #00d7ff; text-decoration-color: #00d7ff\">None</span>, <span style=\"color: #00af00; text-decoration-color: #00af00\">8</span>)         │      <span style=\"color: #00af00; text-decoration-color: #00af00\">2,056</span> │ dropout_7[<span style=\"color: #00af00; text-decoration-color: #00af00\">0</span>][<span style=\"color: #00af00; text-decoration-color: #00af00\">0</span>]   │\n",
       "└─────────────────────┴───────────────────┴────────────┴───────────────────┘\n",
       "</pre>\n"
      ],
      "text/plain": [
       "┏━━━━━━━━━━━━━━━━━━━━━┳━━━━━━━━━━━━━━━━━━━┳━━━━━━━━━━━━┳━━━━━━━━━━━━━━━━━━━┓\n",
       "┃\u001b[1m \u001b[0m\u001b[1mLayer (type)       \u001b[0m\u001b[1m \u001b[0m┃\u001b[1m \u001b[0m\u001b[1mOutput Shape     \u001b[0m\u001b[1m \u001b[0m┃\u001b[1m \u001b[0m\u001b[1m   Param #\u001b[0m\u001b[1m \u001b[0m┃\u001b[1m \u001b[0m\u001b[1mConnected to     \u001b[0m\u001b[1m \u001b[0m┃\n",
       "┡━━━━━━━━━━━━━━━━━━━━━╇━━━━━━━━━━━━━━━━━━━╇━━━━━━━━━━━━╇━━━━━━━━━━━━━━━━━━━┩\n",
       "│ input_layer_3       │ (\u001b[38;5;45mNone\u001b[0m, \u001b[38;5;34m128\u001b[0m, \u001b[38;5;34m646\u001b[0m,  │          \u001b[38;5;34m0\u001b[0m │ -                 │\n",
       "│ (\u001b[38;5;33mInputLayer\u001b[0m)        │ \u001b[38;5;34m1\u001b[0m)                │            │                   │\n",
       "├─────────────────────┼───────────────────┼────────────┼───────────────────┤\n",
       "│ conv2d_30 (\u001b[38;5;33mConv2D\u001b[0m)  │ (\u001b[38;5;45mNone\u001b[0m, \u001b[38;5;34m128\u001b[0m, \u001b[38;5;34m646\u001b[0m,  │        \u001b[38;5;34m832\u001b[0m │ input_layer_3[\u001b[38;5;34m0\u001b[0m]… │\n",
       "│                     │ \u001b[38;5;34m32\u001b[0m)               │            │                   │\n",
       "├─────────────────────┼───────────────────┼────────────┼───────────────────┤\n",
       "│ batch_normalizatio… │ (\u001b[38;5;45mNone\u001b[0m, \u001b[38;5;34m128\u001b[0m, \u001b[38;5;34m646\u001b[0m,  │        \u001b[38;5;34m128\u001b[0m │ conv2d_30[\u001b[38;5;34m0\u001b[0m][\u001b[38;5;34m0\u001b[0m]   │\n",
       "│ (\u001b[38;5;33mBatchNormalizatio…\u001b[0m │ \u001b[38;5;34m32\u001b[0m)               │            │                   │\n",
       "├─────────────────────┼───────────────────┼────────────┼───────────────────┤\n",
       "│ activation_36       │ (\u001b[38;5;45mNone\u001b[0m, \u001b[38;5;34m128\u001b[0m, \u001b[38;5;34m646\u001b[0m,  │          \u001b[38;5;34m0\u001b[0m │ batch_normalizat… │\n",
       "│ (\u001b[38;5;33mActivation\u001b[0m)        │ \u001b[38;5;34m32\u001b[0m)               │            │                   │\n",
       "├─────────────────────┼───────────────────┼────────────┼───────────────────┤\n",
       "│ max_pooling2d_12    │ (\u001b[38;5;45mNone\u001b[0m, \u001b[38;5;34m64\u001b[0m, \u001b[38;5;34m323\u001b[0m,   │          \u001b[38;5;34m0\u001b[0m │ activation_36[\u001b[38;5;34m0\u001b[0m]… │\n",
       "│ (\u001b[38;5;33mMaxPooling2D\u001b[0m)      │ \u001b[38;5;34m32\u001b[0m)               │            │                   │\n",
       "├─────────────────────┼───────────────────┼────────────┼───────────────────┤\n",
       "│ batch_normalizatio… │ (\u001b[38;5;45mNone\u001b[0m, \u001b[38;5;34m64\u001b[0m, \u001b[38;5;34m323\u001b[0m,   │        \u001b[38;5;34m128\u001b[0m │ max_pooling2d_12… │\n",
       "│ (\u001b[38;5;33mBatchNormalizatio…\u001b[0m │ \u001b[38;5;34m32\u001b[0m)               │            │                   │\n",
       "├─────────────────────┼───────────────────┼────────────┼───────────────────┤\n",
       "│ activation_37       │ (\u001b[38;5;45mNone\u001b[0m, \u001b[38;5;34m64\u001b[0m, \u001b[38;5;34m323\u001b[0m,   │          \u001b[38;5;34m0\u001b[0m │ batch_normalizat… │\n",
       "│ (\u001b[38;5;33mActivation\u001b[0m)        │ \u001b[38;5;34m32\u001b[0m)               │            │                   │\n",
       "├─────────────────────┼───────────────────┼────────────┼───────────────────┤\n",
       "│ conv2d_31 (\u001b[38;5;33mConv2D\u001b[0m)  │ (\u001b[38;5;45mNone\u001b[0m, \u001b[38;5;34m64\u001b[0m, \u001b[38;5;34m323\u001b[0m,   │     \u001b[38;5;34m18,496\u001b[0m │ activation_37[\u001b[38;5;34m0\u001b[0m]… │\n",
       "│                     │ \u001b[38;5;34m64\u001b[0m)               │            │                   │\n",
       "├─────────────────────┼───────────────────┼────────────┼───────────────────┤\n",
       "│ batch_normalizatio… │ (\u001b[38;5;45mNone\u001b[0m, \u001b[38;5;34m64\u001b[0m, \u001b[38;5;34m323\u001b[0m,   │        \u001b[38;5;34m256\u001b[0m │ conv2d_31[\u001b[38;5;34m0\u001b[0m][\u001b[38;5;34m0\u001b[0m]   │\n",
       "│ (\u001b[38;5;33mBatchNormalizatio…\u001b[0m │ \u001b[38;5;34m64\u001b[0m)               │            │                   │\n",
       "├─────────────────────┼───────────────────┼────────────┼───────────────────┤\n",
       "│ activation_38       │ (\u001b[38;5;45mNone\u001b[0m, \u001b[38;5;34m64\u001b[0m, \u001b[38;5;34m323\u001b[0m,   │          \u001b[38;5;34m0\u001b[0m │ batch_normalizat… │\n",
       "│ (\u001b[38;5;33mActivation\u001b[0m)        │ \u001b[38;5;34m64\u001b[0m)               │            │                   │\n",
       "├─────────────────────┼───────────────────┼────────────┼───────────────────┤\n",
       "│ conv2d_33 (\u001b[38;5;33mConv2D\u001b[0m)  │ (\u001b[38;5;45mNone\u001b[0m, \u001b[38;5;34m64\u001b[0m, \u001b[38;5;34m323\u001b[0m,   │      \u001b[38;5;34m2,112\u001b[0m │ max_pooling2d_12… │\n",
       "│                     │ \u001b[38;5;34m64\u001b[0m)               │            │                   │\n",
       "├─────────────────────┼───────────────────┼────────────┼───────────────────┤\n",
       "│ conv2d_32 (\u001b[38;5;33mConv2D\u001b[0m)  │ (\u001b[38;5;45mNone\u001b[0m, \u001b[38;5;34m64\u001b[0m, \u001b[38;5;34m323\u001b[0m,   │     \u001b[38;5;34m36,928\u001b[0m │ activation_38[\u001b[38;5;34m0\u001b[0m]… │\n",
       "│                     │ \u001b[38;5;34m64\u001b[0m)               │            │                   │\n",
       "├─────────────────────┼───────────────────┼────────────┼───────────────────┤\n",
       "│ batch_normalizatio… │ (\u001b[38;5;45mNone\u001b[0m, \u001b[38;5;34m64\u001b[0m, \u001b[38;5;34m323\u001b[0m,   │        \u001b[38;5;34m256\u001b[0m │ conv2d_33[\u001b[38;5;34m0\u001b[0m][\u001b[38;5;34m0\u001b[0m]   │\n",
       "│ (\u001b[38;5;33mBatchNormalizatio…\u001b[0m │ \u001b[38;5;34m64\u001b[0m)               │            │                   │\n",
       "├─────────────────────┼───────────────────┼────────────┼───────────────────┤\n",
       "│ add_9 (\u001b[38;5;33mAdd\u001b[0m)         │ (\u001b[38;5;45mNone\u001b[0m, \u001b[38;5;34m64\u001b[0m, \u001b[38;5;34m323\u001b[0m,   │          \u001b[38;5;34m0\u001b[0m │ conv2d_32[\u001b[38;5;34m0\u001b[0m][\u001b[38;5;34m0\u001b[0m],  │\n",
       "│                     │ \u001b[38;5;34m64\u001b[0m)               │            │ batch_normalizat… │\n",
       "├─────────────────────┼───────────────────┼────────────┼───────────────────┤\n",
       "│ activation_39       │ (\u001b[38;5;45mNone\u001b[0m, \u001b[38;5;34m64\u001b[0m, \u001b[38;5;34m323\u001b[0m,   │          \u001b[38;5;34m0\u001b[0m │ add_9[\u001b[38;5;34m0\u001b[0m][\u001b[38;5;34m0\u001b[0m]       │\n",
       "│ (\u001b[38;5;33mActivation\u001b[0m)        │ \u001b[38;5;34m64\u001b[0m)               │            │                   │\n",
       "├─────────────────────┼───────────────────┼────────────┼───────────────────┤\n",
       "│ max_pooling2d_13    │ (\u001b[38;5;45mNone\u001b[0m, \u001b[38;5;34m32\u001b[0m, \u001b[38;5;34m161\u001b[0m,   │          \u001b[38;5;34m0\u001b[0m │ activation_39[\u001b[38;5;34m0\u001b[0m]… │\n",
       "│ (\u001b[38;5;33mMaxPooling2D\u001b[0m)      │ \u001b[38;5;34m64\u001b[0m)               │            │                   │\n",
       "├─────────────────────┼───────────────────┼────────────┼───────────────────┤\n",
       "│ batch_normalizatio… │ (\u001b[38;5;45mNone\u001b[0m, \u001b[38;5;34m32\u001b[0m, \u001b[38;5;34m161\u001b[0m,   │        \u001b[38;5;34m256\u001b[0m │ max_pooling2d_13… │\n",
       "│ (\u001b[38;5;33mBatchNormalizatio…\u001b[0m │ \u001b[38;5;34m64\u001b[0m)               │            │                   │\n",
       "├─────────────────────┼───────────────────┼────────────┼───────────────────┤\n",
       "│ activation_40       │ (\u001b[38;5;45mNone\u001b[0m, \u001b[38;5;34m32\u001b[0m, \u001b[38;5;34m161\u001b[0m,   │          \u001b[38;5;34m0\u001b[0m │ batch_normalizat… │\n",
       "│ (\u001b[38;5;33mActivation\u001b[0m)        │ \u001b[38;5;34m64\u001b[0m)               │            │                   │\n",
       "├─────────────────────┼───────────────────┼────────────┼───────────────────┤\n",
       "│ conv2d_34 (\u001b[38;5;33mConv2D\u001b[0m)  │ (\u001b[38;5;45mNone\u001b[0m, \u001b[38;5;34m32\u001b[0m, \u001b[38;5;34m161\u001b[0m,   │     \u001b[38;5;34m73,856\u001b[0m │ activation_40[\u001b[38;5;34m0\u001b[0m]… │\n",
       "│                     │ \u001b[38;5;34m128\u001b[0m)              │            │                   │\n",
       "├─────────────────────┼───────────────────┼────────────┼───────────────────┤\n",
       "│ batch_normalizatio… │ (\u001b[38;5;45mNone\u001b[0m, \u001b[38;5;34m32\u001b[0m, \u001b[38;5;34m161\u001b[0m,   │        \u001b[38;5;34m512\u001b[0m │ conv2d_34[\u001b[38;5;34m0\u001b[0m][\u001b[38;5;34m0\u001b[0m]   │\n",
       "│ (\u001b[38;5;33mBatchNormalizatio…\u001b[0m │ \u001b[38;5;34m128\u001b[0m)              │            │                   │\n",
       "├─────────────────────┼───────────────────┼────────────┼───────────────────┤\n",
       "│ activation_41       │ (\u001b[38;5;45mNone\u001b[0m, \u001b[38;5;34m32\u001b[0m, \u001b[38;5;34m161\u001b[0m,   │          \u001b[38;5;34m0\u001b[0m │ batch_normalizat… │\n",
       "│ (\u001b[38;5;33mActivation\u001b[0m)        │ \u001b[38;5;34m128\u001b[0m)              │            │                   │\n",
       "├─────────────────────┼───────────────────┼────────────┼───────────────────┤\n",
       "│ conv2d_36 (\u001b[38;5;33mConv2D\u001b[0m)  │ (\u001b[38;5;45mNone\u001b[0m, \u001b[38;5;34m32\u001b[0m, \u001b[38;5;34m161\u001b[0m,   │      \u001b[38;5;34m8,320\u001b[0m │ max_pooling2d_13… │\n",
       "│                     │ \u001b[38;5;34m128\u001b[0m)              │            │                   │\n",
       "├─────────────────────┼───────────────────┼────────────┼───────────────────┤\n",
       "│ conv2d_35 (\u001b[38;5;33mConv2D\u001b[0m)  │ (\u001b[38;5;45mNone\u001b[0m, \u001b[38;5;34m32\u001b[0m, \u001b[38;5;34m161\u001b[0m,   │    \u001b[38;5;34m147,584\u001b[0m │ activation_41[\u001b[38;5;34m0\u001b[0m]… │\n",
       "│                     │ \u001b[38;5;34m128\u001b[0m)              │            │                   │\n",
       "├─────────────────────┼───────────────────┼────────────┼───────────────────┤\n",
       "│ batch_normalizatio… │ (\u001b[38;5;45mNone\u001b[0m, \u001b[38;5;34m32\u001b[0m, \u001b[38;5;34m161\u001b[0m,   │        \u001b[38;5;34m512\u001b[0m │ conv2d_36[\u001b[38;5;34m0\u001b[0m][\u001b[38;5;34m0\u001b[0m]   │\n",
       "│ (\u001b[38;5;33mBatchNormalizatio…\u001b[0m │ \u001b[38;5;34m128\u001b[0m)              │            │                   │\n",
       "├─────────────────────┼───────────────────┼────────────┼───────────────────┤\n",
       "│ add_10 (\u001b[38;5;33mAdd\u001b[0m)        │ (\u001b[38;5;45mNone\u001b[0m, \u001b[38;5;34m32\u001b[0m, \u001b[38;5;34m161\u001b[0m,   │          \u001b[38;5;34m0\u001b[0m │ conv2d_35[\u001b[38;5;34m0\u001b[0m][\u001b[38;5;34m0\u001b[0m],  │\n",
       "│                     │ \u001b[38;5;34m128\u001b[0m)              │            │ batch_normalizat… │\n",
       "├─────────────────────┼───────────────────┼────────────┼───────────────────┤\n",
       "│ activation_42       │ (\u001b[38;5;45mNone\u001b[0m, \u001b[38;5;34m32\u001b[0m, \u001b[38;5;34m161\u001b[0m,   │          \u001b[38;5;34m0\u001b[0m │ add_10[\u001b[38;5;34m0\u001b[0m][\u001b[38;5;34m0\u001b[0m]      │\n",
       "│ (\u001b[38;5;33mActivation\u001b[0m)        │ \u001b[38;5;34m128\u001b[0m)              │            │                   │\n",
       "├─────────────────────┼───────────────────┼────────────┼───────────────────┤\n",
       "│ max_pooling2d_14    │ (\u001b[38;5;45mNone\u001b[0m, \u001b[38;5;34m16\u001b[0m, \u001b[38;5;34m80\u001b[0m,    │          \u001b[38;5;34m0\u001b[0m │ activation_42[\u001b[38;5;34m0\u001b[0m]… │\n",
       "│ (\u001b[38;5;33mMaxPooling2D\u001b[0m)      │ \u001b[38;5;34m128\u001b[0m)              │            │                   │\n",
       "├─────────────────────┼───────────────────┼────────────┼───────────────────┤\n",
       "│ batch_normalizatio… │ (\u001b[38;5;45mNone\u001b[0m, \u001b[38;5;34m16\u001b[0m, \u001b[38;5;34m80\u001b[0m,    │        \u001b[38;5;34m512\u001b[0m │ max_pooling2d_14… │\n",
       "│ (\u001b[38;5;33mBatchNormalizatio…\u001b[0m │ \u001b[38;5;34m128\u001b[0m)              │            │                   │\n",
       "├─────────────────────┼───────────────────┼────────────┼───────────────────┤\n",
       "│ activation_43       │ (\u001b[38;5;45mNone\u001b[0m, \u001b[38;5;34m16\u001b[0m, \u001b[38;5;34m80\u001b[0m,    │          \u001b[38;5;34m0\u001b[0m │ batch_normalizat… │\n",
       "│ (\u001b[38;5;33mActivation\u001b[0m)        │ \u001b[38;5;34m128\u001b[0m)              │            │                   │\n",
       "├─────────────────────┼───────────────────┼────────────┼───────────────────┤\n",
       "│ conv2d_37 (\u001b[38;5;33mConv2D\u001b[0m)  │ (\u001b[38;5;45mNone\u001b[0m, \u001b[38;5;34m16\u001b[0m, \u001b[38;5;34m80\u001b[0m,    │    \u001b[38;5;34m295,168\u001b[0m │ activation_43[\u001b[38;5;34m0\u001b[0m]… │\n",
       "│                     │ \u001b[38;5;34m256\u001b[0m)              │            │                   │\n",
       "├─────────────────────┼───────────────────┼────────────┼───────────────────┤\n",
       "│ batch_normalizatio… │ (\u001b[38;5;45mNone\u001b[0m, \u001b[38;5;34m16\u001b[0m, \u001b[38;5;34m80\u001b[0m,    │      \u001b[38;5;34m1,024\u001b[0m │ conv2d_37[\u001b[38;5;34m0\u001b[0m][\u001b[38;5;34m0\u001b[0m]   │\n",
       "│ (\u001b[38;5;33mBatchNormalizatio…\u001b[0m │ \u001b[38;5;34m256\u001b[0m)              │            │                   │\n",
       "├─────────────────────┼───────────────────┼────────────┼───────────────────┤\n",
       "│ activation_44       │ (\u001b[38;5;45mNone\u001b[0m, \u001b[38;5;34m16\u001b[0m, \u001b[38;5;34m80\u001b[0m,    │          \u001b[38;5;34m0\u001b[0m │ batch_normalizat… │\n",
       "│ (\u001b[38;5;33mActivation\u001b[0m)        │ \u001b[38;5;34m256\u001b[0m)              │            │                   │\n",
       "├─────────────────────┼───────────────────┼────────────┼───────────────────┤\n",
       "│ conv2d_39 (\u001b[38;5;33mConv2D\u001b[0m)  │ (\u001b[38;5;45mNone\u001b[0m, \u001b[38;5;34m16\u001b[0m, \u001b[38;5;34m80\u001b[0m,    │     \u001b[38;5;34m33,024\u001b[0m │ max_pooling2d_14… │\n",
       "│                     │ \u001b[38;5;34m256\u001b[0m)              │            │                   │\n",
       "├─────────────────────┼───────────────────┼────────────┼───────────────────┤\n",
       "│ conv2d_38 (\u001b[38;5;33mConv2D\u001b[0m)  │ (\u001b[38;5;45mNone\u001b[0m, \u001b[38;5;34m16\u001b[0m, \u001b[38;5;34m80\u001b[0m,    │    \u001b[38;5;34m590,080\u001b[0m │ activation_44[\u001b[38;5;34m0\u001b[0m]… │\n",
       "│                     │ \u001b[38;5;34m256\u001b[0m)              │            │                   │\n",
       "├─────────────────────┼───────────────────┼────────────┼───────────────────┤\n",
       "│ batch_normalizatio… │ (\u001b[38;5;45mNone\u001b[0m, \u001b[38;5;34m16\u001b[0m, \u001b[38;5;34m80\u001b[0m,    │      \u001b[38;5;34m1,024\u001b[0m │ conv2d_39[\u001b[38;5;34m0\u001b[0m][\u001b[38;5;34m0\u001b[0m]   │\n",
       "│ (\u001b[38;5;33mBatchNormalizatio…\u001b[0m │ \u001b[38;5;34m256\u001b[0m)              │            │                   │\n",
       "├─────────────────────┼───────────────────┼────────────┼───────────────────┤\n",
       "│ add_11 (\u001b[38;5;33mAdd\u001b[0m)        │ (\u001b[38;5;45mNone\u001b[0m, \u001b[38;5;34m16\u001b[0m, \u001b[38;5;34m80\u001b[0m,    │          \u001b[38;5;34m0\u001b[0m │ conv2d_38[\u001b[38;5;34m0\u001b[0m][\u001b[38;5;34m0\u001b[0m],  │\n",
       "│                     │ \u001b[38;5;34m256\u001b[0m)              │            │ batch_normalizat… │\n",
       "├─────────────────────┼───────────────────┼────────────┼───────────────────┤\n",
       "│ activation_45       │ (\u001b[38;5;45mNone\u001b[0m, \u001b[38;5;34m16\u001b[0m, \u001b[38;5;34m80\u001b[0m,    │          \u001b[38;5;34m0\u001b[0m │ add_11[\u001b[38;5;34m0\u001b[0m][\u001b[38;5;34m0\u001b[0m]      │\n",
       "│ (\u001b[38;5;33mActivation\u001b[0m)        │ \u001b[38;5;34m256\u001b[0m)              │            │                   │\n",
       "├─────────────────────┼───────────────────┼────────────┼───────────────────┤\n",
       "│ max_pooling2d_15    │ (\u001b[38;5;45mNone\u001b[0m, \u001b[38;5;34m8\u001b[0m, \u001b[38;5;34m40\u001b[0m,     │          \u001b[38;5;34m0\u001b[0m │ activation_45[\u001b[38;5;34m0\u001b[0m]… │\n",
       "│ (\u001b[38;5;33mMaxPooling2D\u001b[0m)      │ \u001b[38;5;34m256\u001b[0m)              │            │                   │\n",
       "├─────────────────────┼───────────────────┼────────────┼───────────────────┤\n",
       "│ lambda_6 (\u001b[38;5;33mLambda\u001b[0m)   │ (\u001b[38;5;45mNone\u001b[0m, \u001b[38;5;34m40\u001b[0m, \u001b[38;5;34m256\u001b[0m)   │          \u001b[38;5;34m0\u001b[0m │ max_pooling2d_15… │\n",
       "├─────────────────────┼───────────────────┼────────────┼───────────────────┤\n",
       "│ lambda_7 (\u001b[38;5;33mLambda\u001b[0m)   │ (\u001b[38;5;45mNone\u001b[0m, \u001b[38;5;34m40\u001b[0m, \u001b[38;5;34m256\u001b[0m)   │          \u001b[38;5;34m0\u001b[0m │ max_pooling2d_15… │\n",
       "├─────────────────────┼───────────────────┼────────────┼───────────────────┤\n",
       "│ concatenate_3       │ (\u001b[38;5;45mNone\u001b[0m, \u001b[38;5;34m40\u001b[0m, \u001b[38;5;34m512\u001b[0m)   │          \u001b[38;5;34m0\u001b[0m │ lambda_6[\u001b[38;5;34m0\u001b[0m][\u001b[38;5;34m0\u001b[0m],   │\n",
       "│ (\u001b[38;5;33mConcatenate\u001b[0m)       │                   │            │ lambda_7[\u001b[38;5;34m0\u001b[0m][\u001b[38;5;34m0\u001b[0m]    │\n",
       "├─────────────────────┼───────────────────┼────────────┼───────────────────┤\n",
       "│ flatten_3 (\u001b[38;5;33mFlatten\u001b[0m) │ (\u001b[38;5;45mNone\u001b[0m, \u001b[38;5;34m20480\u001b[0m)     │          \u001b[38;5;34m0\u001b[0m │ concatenate_3[\u001b[38;5;34m0\u001b[0m]… │\n",
       "├─────────────────────┼───────────────────┼────────────┼───────────────────┤\n",
       "│ dense_9 (\u001b[38;5;33mDense\u001b[0m)     │ (\u001b[38;5;45mNone\u001b[0m, \u001b[38;5;34m512\u001b[0m)       │ \u001b[38;5;34m10,486,272\u001b[0m │ flatten_3[\u001b[38;5;34m0\u001b[0m][\u001b[38;5;34m0\u001b[0m]   │\n",
       "├─────────────────────┼───────────────────┼────────────┼───────────────────┤\n",
       "│ batch_normalizatio… │ (\u001b[38;5;45mNone\u001b[0m, \u001b[38;5;34m512\u001b[0m)       │      \u001b[38;5;34m2,048\u001b[0m │ dense_9[\u001b[38;5;34m0\u001b[0m][\u001b[38;5;34m0\u001b[0m]     │\n",
       "│ (\u001b[38;5;33mBatchNormalizatio…\u001b[0m │                   │            │                   │\n",
       "├─────────────────────┼───────────────────┼────────────┼───────────────────┤\n",
       "│ activation_46       │ (\u001b[38;5;45mNone\u001b[0m, \u001b[38;5;34m512\u001b[0m)       │          \u001b[38;5;34m0\u001b[0m │ batch_normalizat… │\n",
       "│ (\u001b[38;5;33mActivation\u001b[0m)        │                   │            │                   │\n",
       "├─────────────────────┼───────────────────┼────────────┼───────────────────┤\n",
       "│ dropout_6 (\u001b[38;5;33mDropout\u001b[0m) │ (\u001b[38;5;45mNone\u001b[0m, \u001b[38;5;34m512\u001b[0m)       │          \u001b[38;5;34m0\u001b[0m │ activation_46[\u001b[38;5;34m0\u001b[0m]… │\n",
       "├─────────────────────┼───────────────────┼────────────┼───────────────────┤\n",
       "│ dense_10 (\u001b[38;5;33mDense\u001b[0m)    │ (\u001b[38;5;45mNone\u001b[0m, \u001b[38;5;34m256\u001b[0m)       │    \u001b[38;5;34m131,328\u001b[0m │ dropout_6[\u001b[38;5;34m0\u001b[0m][\u001b[38;5;34m0\u001b[0m]   │\n",
       "├─────────────────────┼───────────────────┼────────────┼───────────────────┤\n",
       "│ batch_normalizatio… │ (\u001b[38;5;45mNone\u001b[0m, \u001b[38;5;34m256\u001b[0m)       │      \u001b[38;5;34m1,024\u001b[0m │ dense_10[\u001b[38;5;34m0\u001b[0m][\u001b[38;5;34m0\u001b[0m]    │\n",
       "│ (\u001b[38;5;33mBatchNormalizatio…\u001b[0m │                   │            │                   │\n",
       "├─────────────────────┼───────────────────┼────────────┼───────────────────┤\n",
       "│ activation_47       │ (\u001b[38;5;45mNone\u001b[0m, \u001b[38;5;34m256\u001b[0m)       │          \u001b[38;5;34m0\u001b[0m │ batch_normalizat… │\n",
       "│ (\u001b[38;5;33mActivation\u001b[0m)        │                   │            │                   │\n",
       "├─────────────────────┼───────────────────┼────────────┼───────────────────┤\n",
       "│ dropout_7 (\u001b[38;5;33mDropout\u001b[0m) │ (\u001b[38;5;45mNone\u001b[0m, \u001b[38;5;34m256\u001b[0m)       │          \u001b[38;5;34m0\u001b[0m │ activation_47[\u001b[38;5;34m0\u001b[0m]… │\n",
       "├─────────────────────┼───────────────────┼────────────┼───────────────────┤\n",
       "│ dense_11 (\u001b[38;5;33mDense\u001b[0m)    │ (\u001b[38;5;45mNone\u001b[0m, \u001b[38;5;34m8\u001b[0m)         │      \u001b[38;5;34m2,056\u001b[0m │ dropout_7[\u001b[38;5;34m0\u001b[0m][\u001b[38;5;34m0\u001b[0m]   │\n",
       "└─────────────────────┴───────────────────┴────────────┴───────────────────┘\n"
      ]
     },
     "metadata": {},
     "output_type": "display_data"
    },
    {
     "data": {
      "text/html": [
       "<pre style=\"white-space:pre;overflow-x:auto;line-height:normal;font-family:Menlo,'DejaVu Sans Mono',consolas,'Courier New',monospace\"><span style=\"font-weight: bold\"> Total params: </span><span style=\"color: #00af00; text-decoration-color: #00af00\">11,833,736</span> (45.14 MB)\n",
       "</pre>\n"
      ],
      "text/plain": [
       "\u001b[1m Total params: \u001b[0m\u001b[38;5;34m11,833,736\u001b[0m (45.14 MB)\n"
      ]
     },
     "metadata": {},
     "output_type": "display_data"
    },
    {
     "data": {
      "text/html": [
       "<pre style=\"white-space:pre;overflow-x:auto;line-height:normal;font-family:Menlo,'DejaVu Sans Mono',consolas,'Courier New',monospace\"><span style=\"font-weight: bold\"> Trainable params: </span><span style=\"color: #00af00; text-decoration-color: #00af00\">11,829,896</span> (45.13 MB)\n",
       "</pre>\n"
      ],
      "text/plain": [
       "\u001b[1m Trainable params: \u001b[0m\u001b[38;5;34m11,829,896\u001b[0m (45.13 MB)\n"
      ]
     },
     "metadata": {},
     "output_type": "display_data"
    },
    {
     "data": {
      "text/html": [
       "<pre style=\"white-space:pre;overflow-x:auto;line-height:normal;font-family:Menlo,'DejaVu Sans Mono',consolas,'Courier New',monospace\"><span style=\"font-weight: bold\"> Non-trainable params: </span><span style=\"color: #00af00; text-decoration-color: #00af00\">3,840</span> (15.00 KB)\n",
       "</pre>\n"
      ],
      "text/plain": [
       "\u001b[1m Non-trainable params: \u001b[0m\u001b[38;5;34m3,840\u001b[0m (15.00 KB)\n"
      ]
     },
     "metadata": {},
     "output_type": "display_data"
    }
   ],
   "source": [
    "import tensorflow as tf\n",
    "from tensorflow.keras import layers, models, activations\n",
    "\n",
    "def residual_block(x, filters, kernel_size=3, stride=1):\n",
    "    \"\"\"\n",
    "    Residual block with two conv layers and skip connection\n",
    "    \"\"\"\n",
    "    shortcut = x\n",
    "\n",
    "    # First conv\n",
    "    x = layers.BatchNormalization()(x)\n",
    "    x = layers.Activation('relu')(x)\n",
    "    x = layers.Conv2D(filters, kernel_size, strides=stride, padding='same')(x)\n",
    "\n",
    "    # Second conv\n",
    "    x = layers.BatchNormalization()(x)\n",
    "    x = layers.Activation('relu')(x)\n",
    "    x = layers.Conv2D(filters, kernel_size, padding='same')(x)\n",
    "\n",
    "    # Adjust shortcut if needed\n",
    "    if stride != 1 or shortcut.shape[-1] != filters:\n",
    "        shortcut = layers.Conv2D(filters, 1, strides=stride, padding='same')(shortcut)\n",
    "        shortcut = layers.BatchNormalization()(shortcut)\n",
    "\n",
    "    x = layers.Add()([x, shortcut])\n",
    "    x = layers.Activation('relu')(x)\n",
    "    return x\n",
    "\n",
    "def FMA_CNN(input_shape=(128, 128, 1), num_genres=8):\n",
    "    \"\"\"\n",
    "    Residual CNN adapted for FMA Small\n",
    "    \"\"\"\n",
    "    inputs = layers.Input(shape=input_shape)\n",
    "\n",
    "    # Initial conv\n",
    "    x = layers.Conv2D(32, 5, padding='same')(inputs)\n",
    "    x = layers.BatchNormalization()(x)\n",
    "    x = layers.Activation('relu')(x)\n",
    "    x = layers.MaxPooling2D(2)(x)\n",
    "\n",
    "    # Residual blocks\n",
    "    x = residual_block(x, 64)\n",
    "    x = layers.MaxPooling2D(2)(x)\n",
    "\n",
    "    x = residual_block(x, 128)\n",
    "    x = layers.MaxPooling2D(2)(x)\n",
    "\n",
    "    x = residual_block(x, 256)\n",
    "    x = layers.MaxPooling2D(2)(x)\n",
    "\n",
    "    # Global pooling (mean + max over frequency axis) via Lambda layers\n",
    "    mean_pool = layers.Lambda(lambda t: tf.reduce_mean(t, axis=1))(x)\n",
    "    max_pool = layers.Lambda(lambda t: tf.reduce_max(t, axis=1))(x)\n",
    "    x = layers.Concatenate(axis=-1)([mean_pool, max_pool])\n",
    "    x = layers.Flatten()(x)\n",
    "\n",
    "    # Fully connected layers\n",
    "    x = layers.Dense(512)(x)\n",
    "    x = layers.BatchNormalization()(x)\n",
    "    x = layers.Activation('relu')(x)\n",
    "    x = layers.Dropout(0.5)(x)\n",
    "\n",
    "    features = layers.Dense(256)(x)   # feature layer\n",
    "    features = layers.BatchNormalization()(features)\n",
    "    features = layers.Activation('relu')(features)\n",
    "    x = layers.Dropout(0.5)(features)\n",
    "\n",
    "    outputs = layers.Dense(num_genres, activation='softmax')(x)\n",
    "\n",
    "    model = models.Model(inputs=inputs, outputs=outputs, name=\"FMA_CNN_Residual\")\n",
    "    feature_model = models.Model(inputs=inputs, outputs=features, name=\"FMA_Feature_Model\")\n",
    "\n",
    "    return model, feature_model\n",
    "\n",
    "num_genres = len(genre_mapping)\n",
    "model, feature_model = FMA_CNN(input_shape=(128, 646, 1), num_genres=8)\n",
    "model.summary()\n"
   ]
  },
  {
   "cell_type": "code",
   "execution_count": 6,
   "id": "cfa15355",
   "metadata": {
    "lines_to_next_cell": 2
   },
   "outputs": [
    {
     "name": "stderr",
     "output_type": "stream",
     "text": [
      "Extraction des spectrogrammes:  56%|█████▌    | 4472/8000 [11:49<08:24,  6.99it/s]"
     ]
    },
    {
     "name": "stdout",
     "output_type": "stream",
     "text": [
      "❌ Erreur avec ../fma_small/099/099134.mp3: Decoding failed. ffmpeg returned error code: 234\n",
      "\n",
      "Output from ffmpeg/avlib:\n",
      "\n",
      "ffmpeg version 6.1.1-3ubuntu5 Copyright (c) 2000-2023 the FFmpeg developers\n",
      "  built with gcc 13 (Ubuntu 13.2.0-23ubuntu3)\n",
      "  configuration: --prefix=/usr --extra-version=3ubuntu5 --toolchain=hardened --libdir=/usr/lib/x86_64-linux-gnu --incdir=/usr/include/x86_64-linux-gnu --arch=amd64 --enable-gpl --disable-stripping --disable-omx --enable-gnutls --enable-libaom --enable-libass --enable-libbs2b --enable-libcaca --enable-libcdio --enable-libcodec2 --enable-libdav1d --enable-libflite --enable-libfontconfig --enable-libfreetype --enable-libfribidi --enable-libglslang --enable-libgme --enable-libgsm --enable-libharfbuzz --enable-libmp3lame --enable-libmysofa --enable-libopenjpeg --enable-libopenmpt --enable-libopus --enable-librubberband --enable-libshine --enable-libsnappy --enable-libsoxr --enable-libspeex --enable-libtheora --enable-libtwolame --enable-libvidstab --enable-libvorbis --enable-libvpx --enable-libwebp --enable-libx265 --enable-libxml2 --enable-libxvid --enable-libzimg --enable-openal --enable-opencl --enable-opengl --disable-sndio --enable-libvpl --disable-libmfx --enable-libdc1394 --enable-libdrm --enable-libiec61883 --enable-chromaprint --enable-frei0r --enable-ladspa --enable-libbluray --enable-libjack --enable-libpulse --enable-librabbitmq --enable-librist --enable-libsrt --enable-libssh --enable-libsvtav1 --enable-libx264 --enable-libzmq --enable-libzvbi --enable-lv2 --enable-sdl2 --enable-libplacebo --enable-librav1e --enable-pocketsphinx --enable-librsvg --enable-libjxl --enable-shared\n",
      "  libavutil      58. 29.100 / 58. 29.100\n",
      "  libavcodec     60. 31.102 / 60. 31.102\n",
      "  libavformat    60. 16.100 / 60. 16.100\n",
      "  libavdevice    60.  3.100 / 60.  3.100\n",
      "  libavfilter     9. 12.100 /  9. 12.100\n",
      "  libswscale      7.  5.100 /  7.  5.100\n",
      "  libswresample   4. 12.100 /  4. 12.100\n",
      "  libpostproc    57.  3.100 / 57.  3.100\n",
      "[mp3 @ 0x63973446ae80] Format mp3 detected only with low score of 24, misdetection possible!\n",
      "[mp3 @ 0x63973446ae80] Failed to read frame size: Could not seek to 1026.\n",
      "[in#0 @ 0x63973446ad80] Error opening input: Invalid argument\n",
      "Error opening input file ../fma_small/099/099134.mp3.\n",
      "Error opening input files: Invalid argument\n",
      "\n"
     ]
    },
    {
     "name": "stderr",
     "output_type": "stream",
     "text": [
      "Extraction des spectrogrammes:  61%|██████▏   | 4905/8000 [12:58<07:08,  7.23it/s]"
     ]
    },
    {
     "name": "stdout",
     "output_type": "stream",
     "text": [
      "❌ Erreur avec ../fma_small/108/108925.mp3: Decoding failed. ffmpeg returned error code: 234\n",
      "\n",
      "Output from ffmpeg/avlib:\n",
      "\n",
      "ffmpeg version 6.1.1-3ubuntu5 Copyright (c) 2000-2023 the FFmpeg developers\n",
      "  built with gcc 13 (Ubuntu 13.2.0-23ubuntu3)\n",
      "  configuration: --prefix=/usr --extra-version=3ubuntu5 --toolchain=hardened --libdir=/usr/lib/x86_64-linux-gnu --incdir=/usr/include/x86_64-linux-gnu --arch=amd64 --enable-gpl --disable-stripping --disable-omx --enable-gnutls --enable-libaom --enable-libass --enable-libbs2b --enable-libcaca --enable-libcdio --enable-libcodec2 --enable-libdav1d --enable-libflite --enable-libfontconfig --enable-libfreetype --enable-libfribidi --enable-libglslang --enable-libgme --enable-libgsm --enable-libharfbuzz --enable-libmp3lame --enable-libmysofa --enable-libopenjpeg --enable-libopenmpt --enable-libopus --enable-librubberband --enable-libshine --enable-libsnappy --enable-libsoxr --enable-libspeex --enable-libtheora --enable-libtwolame --enable-libvidstab --enable-libvorbis --enable-libvpx --enable-libwebp --enable-libx265 --enable-libxml2 --enable-libxvid --enable-libzimg --enable-openal --enable-opencl --enable-opengl --disable-sndio --enable-libvpl --disable-libmfx --enable-libdc1394 --enable-libdrm --enable-libiec61883 --enable-chromaprint --enable-frei0r --enable-ladspa --enable-libbluray --enable-libjack --enable-libpulse --enable-librabbitmq --enable-librist --enable-libsrt --enable-libssh --enable-libsvtav1 --enable-libx264 --enable-libzmq --enable-libzvbi --enable-lv2 --enable-sdl2 --enable-libplacebo --enable-librav1e --enable-pocketsphinx --enable-librsvg --enable-libjxl --enable-shared\n",
      "  libavutil      58. 29.100 / 58. 29.100\n",
      "  libavcodec     60. 31.102 / 60. 31.102\n",
      "  libavformat    60. 16.100 / 60. 16.100\n",
      "  libavdevice    60.  3.100 / 60.  3.100\n",
      "  libavfilter     9. 12.100 /  9. 12.100\n",
      "  libswscale      7.  5.100 /  7.  5.100\n",
      "  libswresample   4. 12.100 /  4. 12.100\n",
      "  libpostproc    57.  3.100 / 57.  3.100\n",
      "[mp3 @ 0x57fb7a6dfe80] Format mp3 detected only with low score of 24, misdetection possible!\n",
      "[mp3 @ 0x57fb7a6dfe80] Failed to read frame size: Could not seek to 1026.\n",
      "[in#0 @ 0x57fb7a6dfd80] Error opening input: Invalid argument\n",
      "Error opening input file ../fma_small/108/108925.mp3.\n",
      "Error opening input files: Invalid argument\n",
      "\n"
     ]
    },
    {
     "name": "stderr",
     "output_type": "stream",
     "text": [
      "Extraction des spectrogrammes:  87%|████████▋ | 6967/8000 [18:26<02:31,  6.82it/s]"
     ]
    },
    {
     "name": "stdout",
     "output_type": "stream",
     "text": [
      "❌ Erreur avec ../fma_small/133/133297.mp3: Decoding failed. ffmpeg returned error code: 234\n",
      "\n",
      "Output from ffmpeg/avlib:\n",
      "\n",
      "ffmpeg version 6.1.1-3ubuntu5 Copyright (c) 2000-2023 the FFmpeg developers\n",
      "  built with gcc 13 (Ubuntu 13.2.0-23ubuntu3)\n",
      "  configuration: --prefix=/usr --extra-version=3ubuntu5 --toolchain=hardened --libdir=/usr/lib/x86_64-linux-gnu --incdir=/usr/include/x86_64-linux-gnu --arch=amd64 --enable-gpl --disable-stripping --disable-omx --enable-gnutls --enable-libaom --enable-libass --enable-libbs2b --enable-libcaca --enable-libcdio --enable-libcodec2 --enable-libdav1d --enable-libflite --enable-libfontconfig --enable-libfreetype --enable-libfribidi --enable-libglslang --enable-libgme --enable-libgsm --enable-libharfbuzz --enable-libmp3lame --enable-libmysofa --enable-libopenjpeg --enable-libopenmpt --enable-libopus --enable-librubberband --enable-libshine --enable-libsnappy --enable-libsoxr --enable-libspeex --enable-libtheora --enable-libtwolame --enable-libvidstab --enable-libvorbis --enable-libvpx --enable-libwebp --enable-libx265 --enable-libxml2 --enable-libxvid --enable-libzimg --enable-openal --enable-opencl --enable-opengl --disable-sndio --enable-libvpl --disable-libmfx --enable-libdc1394 --enable-libdrm --enable-libiec61883 --enable-chromaprint --enable-frei0r --enable-ladspa --enable-libbluray --enable-libjack --enable-libpulse --enable-librabbitmq --enable-librist --enable-libsrt --enable-libssh --enable-libsvtav1 --enable-libx264 --enable-libzmq --enable-libzvbi --enable-lv2 --enable-sdl2 --enable-libplacebo --enable-librav1e --enable-pocketsphinx --enable-librsvg --enable-libjxl --enable-shared\n",
      "  libavutil      58. 29.100 / 58. 29.100\n",
      "  libavcodec     60. 31.102 / 60. 31.102\n",
      "  libavformat    60. 16.100 / 60. 16.100\n",
      "  libavdevice    60.  3.100 / 60.  3.100\n",
      "  libavfilter     9. 12.100 /  9. 12.100\n",
      "  libswscale      7.  5.100 /  7.  5.100\n",
      "  libswresample   4. 12.100 /  4. 12.100\n",
      "  libpostproc    57.  3.100 / 57.  3.100\n",
      "[mp3 @ 0x632f2c3ece80] Format mp3 detected only with low score of 1, misdetection possible!\n",
      "[mp3 @ 0x632f2c3ece80] Failed to read frame size: Could not seek to 1026.\n",
      "[in#0 @ 0x632f2c3ecd80] Error opening input: Invalid argument\n",
      "Error opening input file ../fma_small/133/133297.mp3.\n",
      "Error opening input files: Invalid argument\n",
      "\n"
     ]
    },
    {
     "name": "stderr",
     "output_type": "stream",
     "text": [
      "Extraction des spectrogrammes: 100%|██████████| 8000/8000 [21:14<00:00,  6.28it/s]\n"
     ]
    },
    {
     "name": "stdout",
     "output_type": "stream",
     "text": [
      "\n",
      "✅ Extraction terminée : 7997 spectrogrammes valides.\n",
      "⚠️ Fichiers échoués : 3\n"
     ]
    },
    {
     "name": "stderr",
     "output_type": "stream",
     "text": [
      "2025-10-14 20:25:39.866499: W external/local_xla/xla/tsl/framework/cpu_allocator_impl.cc:84] Allocation of 2645023744 exceeds 10% of free system memory.\n"
     ]
    }
   ],
   "source": [
    "import os\n",
    "import numpy as np\n",
    "import tensorflow as tf\n",
    "from tqdm import tqdm\n",
    "from pydub import AudioSegment\n",
    "import librosa\n",
    "\n",
    "# --- Paramètres ---\n",
    "SR = 22050\n",
    "N_FFT = 2048\n",
    "HOP_LENGTH = 1024\n",
    "N_MELS = 128\n",
    "DURATION = 30.0  # secondes\n",
    "EXPECTED_FRAMES = int(np.ceil(DURATION * SR / HOP_LENGTH))  # ≈ 646 frames\n",
    "\n",
    "spectrograms = []\n",
    "labels = []\n",
    "track_ids = []\n",
    "failed_files = 0\n",
    "\n",
    "def load_audio(filepath, sr=SR, duration=DURATION):\n",
    "    \"\"\"\n",
    "    Load audio using pydub + ffmpeg, convert to mono, resample, and truncate/pad to duration\n",
    "    \"\"\"\n",
    "    audio = AudioSegment.from_file(filepath)\n",
    "    audio = audio.set_channels(1).set_frame_rate(sr)\n",
    "    samples = np.array(audio.get_array_of_samples(), dtype=np.float32)\n",
    "    samples /= np.iinfo(audio.array_type).max  # normalize [-1,1]\n",
    "    \n",
    "    max_len = int(duration * sr)\n",
    "    if len(samples) > max_len:\n",
    "        samples = samples[:max_len]\n",
    "    elif len(samples) < max_len:\n",
    "        samples = np.pad(samples, (0, max_len - len(samples)))\n",
    "    \n",
    "    return samples\n",
    "\n",
    "# --- Extraction ---\n",
    "for track_id, row in tqdm(subset.iterrows(), total=len(subset), desc=\"Extraction des spectrogrammes\"):\n",
    "    genre_id = row[('track', 'genre_top')]\n",
    "    if pd.isna(genre_id):\n",
    "        continue\n",
    "\n",
    "    folder = f\"{track_id // 1000:03d}\"\n",
    "    filepath = os.path.join(\"../fma_small\", folder, f\"{track_id:06d}.mp3\")\n",
    "\n",
    "    if not os.path.exists(filepath):\n",
    "        print(f\"⚠️ Fichier introuvable : {filepath}\")\n",
    "        failed_files += 1\n",
    "        continue\n",
    "\n",
    "    try:\n",
    "        # Chargement audio avec pydub\n",
    "        y = load_audio(filepath, sr=SR, duration=DURATION)\n",
    "\n",
    "        # Calcul du log-mel spectrogramme\n",
    "        mel = librosa.feature.melspectrogram(\n",
    "            y=y,\n",
    "            sr=SR,\n",
    "            n_fft=N_FFT,\n",
    "            hop_length=HOP_LENGTH,\n",
    "            n_mels=N_MELS,\n",
    "            power=2.0\n",
    "        )\n",
    "        log_mel = librosa.power_to_db(mel, ref=np.max)\n",
    "\n",
    "        # Ajustement taille temporelle à EXPECTED_FRAMES\n",
    "        n_frames = log_mel.shape[1]\n",
    "        if n_frames < EXPECTED_FRAMES:\n",
    "            log_mel = np.pad(log_mel, ((0, 0), (0, EXPECTED_FRAMES - n_frames)), mode='constant')\n",
    "        elif n_frames > EXPECTED_FRAMES:\n",
    "            log_mel = log_mel[:, :EXPECTED_FRAMES]\n",
    "\n",
    "        # Ajouter un canal pour TensorFlow (hauteur, largeur, channels)\n",
    "        log_mel = np.expand_dims(log_mel, axis=-1)\n",
    "\n",
    "        spectrograms.append(log_mel)\n",
    "        labels.append(genre_mapping[genre_id])\n",
    "        track_ids.append(f\"{track_id:06d}\")\n",
    "\n",
    "    except Exception as e:\n",
    "        print(f\"❌ Erreur avec {filepath}: {e}\")\n",
    "        failed_files += 1\n",
    "        continue\n",
    "\n",
    "# --- Conversion en tenseurs TensorFlow ---\n",
    "spectrograms = tf.convert_to_tensor(np.array(spectrograms), dtype=tf.float32)\n",
    "labels = tf.convert_to_tensor(np.array(labels), dtype=tf.int32)\n",
    "\n",
    "print(f\"\\n✅ Extraction terminée : {spectrograms.shape[0]} spectrogrammes valides.\")\n",
    "print(f\"⚠️ Fichiers échoués : {failed_files}\")\n",
    "\n"
   ]
  },
  {
   "cell_type": "code",
   "execution_count": 7,
   "id": "7cf51919",
   "metadata": {},
   "outputs": [
    {
     "name": "stderr",
     "output_type": "stream",
     "text": [
      "2025-10-14 20:25:52.003528: W external/local_xla/xla/tsl/framework/cpu_allocator_impl.cc:84] Allocation of 1851218944 exceeds 10% of free system memory.\n"
     ]
    },
    {
     "name": "stdout",
     "output_type": "stream",
     "text": [
      "Created 7997 samples\n",
      "Spectrogram shape: (128, 646, 1)\n",
      "Genre mapping: {'Hip-Hop': 0, 'Pop': 1, 'Folk': 2, 'Experimental': 3, 'Rock': 4, 'International': 5, 'Electronic': 6, 'Instrumental': 7}\n",
      "Train set: 5597 samples\n",
      "Validation set: 1200 samples\n",
      "Test set: 1200 samples\n"
     ]
    },
    {
     "name": "stderr",
     "output_type": "stream",
     "text": [
      "2025-10-14 20:25:52.272144: W external/local_xla/xla/tsl/framework/cpu_allocator_impl.cc:84] Allocation of 396902400 exceeds 10% of free system memory.\n",
      "2025-10-14 20:25:52.321504: W external/local_xla/xla/tsl/framework/cpu_allocator_impl.cc:84] Allocation of 396902400 exceeds 10% of free system memory.\n"
     ]
    }
   ],
   "source": [
    "import tensorflow as tf\n",
    "import random\n",
    "import numpy as np\n",
    "\n",
    "print(f\"Created {len(spectrograms)} samples\")\n",
    "print(f\"Spectrogram shape: {spectrograms[0].shape}\")\n",
    "print(f\"Genre mapping: {genre_mapping}\")\n",
    "\n",
    "def split_fma_dataset_tf(spectrograms, labels, track_ids, train_ratio=0.7, val_ratio=0.15):\n",
    "    \"\"\"\n",
    "    Split FMA dataset into train/validation/test sets (TensorFlow version)\n",
    "    \"\"\"\n",
    "    n_samples = spectrograms.shape[0]\n",
    "    indices = list(range(n_samples))\n",
    "    random.shuffle(indices)\n",
    "\n",
    "    train_end = int(train_ratio * n_samples)\n",
    "    val_end = int((train_ratio + val_ratio) * n_samples)\n",
    "\n",
    "    train_indices = indices[:train_end]\n",
    "    val_indices = indices[train_end:val_end]\n",
    "    test_indices = indices[val_end:]\n",
    "\n",
    "    # Split arrays\n",
    "    train_specs = tf.gather(spectrograms, train_indices)\n",
    "    train_labels = tf.gather(labels, train_indices)\n",
    "    train_ids = [track_ids[i] for i in train_indices]\n",
    "\n",
    "    val_specs = tf.gather(spectrograms, val_indices)\n",
    "    val_labels = tf.gather(labels, val_indices)\n",
    "    val_ids = [track_ids[i] for i in val_indices]\n",
    "\n",
    "    test_specs = tf.gather(spectrograms, test_indices)\n",
    "    test_labels = tf.gather(labels, test_indices)\n",
    "    test_ids = [track_ids[i] for i in test_indices]\n",
    "\n",
    "    return (train_specs, train_labels, train_ids), (val_specs, val_labels, val_ids), (test_specs, test_labels, test_ids)\n",
    "\n",
    "# Split dataset\n",
    "train_data, val_data, test_data = split_fma_dataset_tf(spectrograms, labels, track_ids)\n",
    "\n",
    "print(f\"Train set: {train_data[0].shape[0]} samples\")\n",
    "print(f\"Validation set: {val_data[0].shape[0]} samples\")\n",
    "print(f\"Test set: {test_data[0].shape[0]} samples\")\n",
    "\n",
    "# Créer les tf.data.Dataset\n",
    "batch_size = 32\n",
    "\n",
    "train_dataset = tf.data.Dataset.from_tensor_slices((train_data[0], train_data[1]))\n",
    "train_dataset = train_dataset.shuffle(buffer_size=1000).batch(batch_size).prefetch(tf.data.AUTOTUNE)\n",
    "\n",
    "val_dataset = tf.data.Dataset.from_tensor_slices((val_data[0], val_data[1]))\n",
    "val_dataset = val_dataset.batch(batch_size).prefetch(tf.data.AUTOTUNE)\n",
    "\n",
    "test_dataset = tf.data.Dataset.from_tensor_slices((test_data[0], test_data[1]))\n",
    "test_dataset = test_dataset.batch(batch_size).prefetch(tf.data.AUTOTUNE)\n",
    "\n",
    "\n",
    "\n",
    "# ## 4. Training the Model"
   ]
  },
  {
   "cell_type": "code",
   "execution_count": 12,
   "id": "dcf60d86",
   "metadata": {},
   "outputs": [
    {
     "name": "stdout",
     "output_type": "stream",
     "text": [
      "\n",
      "Epoch 1: LearningRateScheduler setting learning rate to 0.001.\n",
      "Epoch 1/20\n",
      "\u001b[1m175/175\u001b[0m \u001b[32m━━━━━━━━━━━━━━━━━━━━\u001b[0m\u001b[37m\u001b[0m \u001b[1m0s\u001b[0m 5s/step - accuracy: 0.3053 - loss: 2.0901\n",
      "Epoch 1: val_accuracy improved from None to 0.28500, saving model to best_fma_model.h5\n"
     ]
    },
    {
     "name": "stderr",
     "output_type": "stream",
     "text": [
      "WARNING:absl:You are saving your model as an HDF5 file via `model.save()` or `keras.saving.save_model(model)`. This file format is considered legacy. We recommend using instead the native Keras format, e.g. `model.save('my_model.keras')` or `keras.saving.save_model(model, 'my_model.keras')`. \n"
     ]
    },
    {
     "name": "stdout",
     "output_type": "stream",
     "text": [
      "\u001b[1m175/175\u001b[0m \u001b[32m━━━━━━━━━━━━━━━━━━━━\u001b[0m\u001b[37m\u001b[0m \u001b[1m952s\u001b[0m 5s/step - accuracy: 0.3513 - loss: 1.9279 - val_accuracy: 0.2850 - val_loss: 2.5683 - learning_rate: 0.0010\n",
      "\n",
      "Epoch 2: LearningRateScheduler setting learning rate to 0.0009938503261272714.\n",
      "Epoch 2/20\n",
      "\u001b[1m175/175\u001b[0m \u001b[32m━━━━━━━━━━━━━━━━━━━━\u001b[0m\u001b[37m\u001b[0m \u001b[1m0s\u001b[0m 5s/step - accuracy: 0.4237 - loss: 1.6494\n",
      "Epoch 2: val_accuracy did not improve from 0.28500\n",
      "\u001b[1m175/175\u001b[0m \u001b[32m━━━━━━━━━━━━━━━━━━━━\u001b[0m\u001b[37m\u001b[0m \u001b[1m919s\u001b[0m 5s/step - accuracy: 0.4417 - loss: 1.5976 - val_accuracy: 0.2708 - val_loss: 2.5388 - learning_rate: 9.9385e-04\n",
      "\n",
      "Epoch 3: LearningRateScheduler setting learning rate to 0.0009755527298894294.\n",
      "Epoch 3/20\n",
      "\u001b[1m175/175\u001b[0m \u001b[32m━━━━━━━━━━━━━━━━━━━━\u001b[0m\u001b[37m\u001b[0m \u001b[1m0s\u001b[0m 5s/step - accuracy: 0.4813 - loss: 1.5079\n",
      "Epoch 3: val_accuracy improved from 0.28500 to 0.29000, saving model to best_fma_model.h5\n"
     ]
    },
    {
     "name": "stderr",
     "output_type": "stream",
     "text": [
      "WARNING:absl:You are saving your model as an HDF5 file via `model.save()` or `keras.saving.save_model(model)`. This file format is considered legacy. We recommend using instead the native Keras format, e.g. `model.save('my_model.keras')` or `keras.saving.save_model(model, 'my_model.keras')`. \n"
     ]
    },
    {
     "name": "stdout",
     "output_type": "stream",
     "text": [
      "\u001b[1m175/175\u001b[0m \u001b[32m━━━━━━━━━━━━━━━━━━━━\u001b[0m\u001b[37m\u001b[0m \u001b[1m913s\u001b[0m 5s/step - accuracy: 0.4892 - loss: 1.4776 - val_accuracy: 0.2900 - val_loss: 1.9591 - learning_rate: 9.7555e-04\n",
      "\n",
      "Epoch 4: LearningRateScheduler setting learning rate to 0.0009455577588320898.\n",
      "Epoch 4/20\n",
      "\u001b[1m175/175\u001b[0m \u001b[32m━━━━━━━━━━━━━━━━━━━━\u001b[0m\u001b[37m\u001b[0m \u001b[1m0s\u001b[0m 5s/step - accuracy: 0.5331 - loss: 1.3468\n",
      "Epoch 4: val_accuracy improved from 0.29000 to 0.47833, saving model to best_fma_model.h5\n"
     ]
    },
    {
     "name": "stderr",
     "output_type": "stream",
     "text": [
      "WARNING:absl:You are saving your model as an HDF5 file via `model.save()` or `keras.saving.save_model(model)`. This file format is considered legacy. We recommend using instead the native Keras format, e.g. `model.save('my_model.keras')` or `keras.saving.save_model(model, 'my_model.keras')`. \n"
     ]
    },
    {
     "name": "stdout",
     "output_type": "stream",
     "text": [
      "\u001b[1m175/175\u001b[0m \u001b[32m━━━━━━━━━━━━━━━━━━━━\u001b[0m\u001b[37m\u001b[0m \u001b[1m909s\u001b[0m 5s/step - accuracy: 0.5362 - loss: 1.3597 - val_accuracy: 0.4783 - val_loss: 1.5478 - learning_rate: 9.4556e-04\n",
      "\n",
      "Epoch 5: LearningRateScheduler setting learning rate to 0.0009046039886902864.\n",
      "Epoch 5/20\n",
      "\u001b[1m175/175\u001b[0m \u001b[32m━━━━━━━━━━━━━━━━━━━━\u001b[0m\u001b[37m\u001b[0m \u001b[1m0s\u001b[0m 5s/step - accuracy: 0.5520 - loss: 1.2852\n",
      "Epoch 5: val_accuracy did not improve from 0.47833\n",
      "\u001b[1m175/175\u001b[0m \u001b[32m━━━━━━━━━━━━━━━━━━━━\u001b[0m\u001b[37m\u001b[0m \u001b[1m906s\u001b[0m 5s/step - accuracy: 0.5590 - loss: 1.2872 - val_accuracy: 0.3500 - val_loss: 2.0357 - learning_rate: 9.0460e-04\n",
      "\n",
      "Epoch 6: LearningRateScheduler setting learning rate to 0.0008536998372026805.\n",
      "Epoch 6/20\n",
      "\u001b[1m175/175\u001b[0m \u001b[32m━━━━━━━━━━━━━━━━━━━━\u001b[0m\u001b[37m\u001b[0m \u001b[1m0s\u001b[0m 5s/step - accuracy: 0.5764 - loss: 1.2339\n",
      "Epoch 6: val_accuracy did not improve from 0.47833\n",
      "\u001b[1m175/175\u001b[0m \u001b[32m━━━━━━━━━━━━━━━━━━━━\u001b[0m\u001b[37m\u001b[0m \u001b[1m915s\u001b[0m 5s/step - accuracy: 0.5800 - loss: 1.2246 - val_accuracy: 0.4733 - val_loss: 1.6598 - learning_rate: 8.5370e-04\n",
      "\n",
      "Epoch 7: LearningRateScheduler setting learning rate to 0.0007940987335200904.\n",
      "Epoch 7/20\n",
      "\u001b[1m175/175\u001b[0m \u001b[32m━━━━━━━━━━━━━━━━━━━━\u001b[0m\u001b[37m\u001b[0m \u001b[1m0s\u001b[0m 5s/step - accuracy: 0.6020 - loss: 1.1665\n",
      "Epoch 7: val_accuracy did not improve from 0.47833\n",
      "\n",
      "Epoch 7: ReduceLROnPlateau reducing learning rate to 0.00039704935625195503.\n",
      "\u001b[1m175/175\u001b[0m \u001b[32m━━━━━━━━━━━━━━━━━━━━\u001b[0m\u001b[37m\u001b[0m \u001b[1m906s\u001b[0m 5s/step - accuracy: 0.6130 - loss: 1.1476 - val_accuracy: 0.4383 - val_loss: 1.5776 - learning_rate: 3.9705e-04\n",
      "\n",
      "Epoch 8: LearningRateScheduler setting learning rate to 0.0007272682546199037.\n",
      "Epoch 8/20\n",
      "\u001b[1m175/175\u001b[0m \u001b[32m━━━━━━━━━━━━━━━━━━━━\u001b[0m\u001b[37m\u001b[0m \u001b[1m0s\u001b[0m 5s/step - accuracy: 0.6261 - loss: 1.0748\n",
      "Epoch 8: val_accuracy did not improve from 0.47833\n",
      "\u001b[1m175/175\u001b[0m \u001b[32m━━━━━━━━━━━━━━━━━━━━\u001b[0m\u001b[37m\u001b[0m \u001b[1m905s\u001b[0m 5s/step - accuracy: 0.6314 - loss: 1.0653 - val_accuracy: 0.3258 - val_loss: 2.3982 - learning_rate: 7.2727e-04\n",
      "\n",
      "Epoch 9: LearningRateScheduler setting learning rate to 0.0006548539886902864.\n",
      "Epoch 9/20\n",
      "\u001b[1m175/175\u001b[0m \u001b[32m━━━━━━━━━━━━━━━━━━━━\u001b[0m\u001b[37m\u001b[0m \u001b[1m0s\u001b[0m 5s/step - accuracy: 0.6546 - loss: 1.0246\n",
      "Epoch 9: val_accuracy did not improve from 0.47833\n",
      "\u001b[1m175/175\u001b[0m \u001b[32m━━━━━━━━━━━━━━━━━━━━\u001b[0m\u001b[37m\u001b[0m \u001b[1m931s\u001b[0m 5s/step - accuracy: 0.6466 - loss: 1.0181 - val_accuracy: 0.3133 - val_loss: 2.1840 - learning_rate: 6.5485e-04\n",
      "\n",
      "Epoch 10: LearningRateScheduler setting learning rate to 0.0005786390152875954.\n",
      "Epoch 10/20\n",
      "\u001b[1m 13/175\u001b[0m \u001b[32m━\u001b[0m\u001b[37m━━━━━━━━━━━━━━━━━━━\u001b[0m \u001b[1m14:04\u001b[0m 5s/step - accuracy: 0.6956 - loss: 0.9269"
     ]
    },
    {
     "ename": "KeyboardInterrupt",
     "evalue": "",
     "output_type": "error",
     "traceback": [
      "\u001b[31m---------------------------------------------------------------------------\u001b[39m",
      "\u001b[31mKeyboardInterrupt\u001b[39m                         Traceback (most recent call last)",
      "\u001b[36mCell\u001b[39m\u001b[36m \u001b[39m\u001b[32mIn[12]\u001b[39m\u001b[32m, line 46\u001b[39m\n\u001b[32m     39\u001b[39m model.compile(\n\u001b[32m     40\u001b[39m     optimizer=optimizers.Adam(learning_rate=\u001b[32m0.001\u001b[39m),\n\u001b[32m     41\u001b[39m     loss=losses.SparseCategoricalCrossentropy(),\n\u001b[32m     42\u001b[39m     metrics=[metrics.SparseCategoricalAccuracy(name=\u001b[33m'\u001b[39m\u001b[33maccuracy\u001b[39m\u001b[33m'\u001b[39m)]\n\u001b[32m     43\u001b[39m )\n\u001b[32m     45\u001b[39m \u001b[38;5;66;03m# --- Entraîner le modèle ---\u001b[39;00m\n\u001b[32m---> \u001b[39m\u001b[32m46\u001b[39m history = \u001b[43mmodel\u001b[49m\u001b[43m.\u001b[49m\u001b[43mfit\u001b[49m\u001b[43m(\u001b[49m\n\u001b[32m     47\u001b[39m \u001b[43m    \u001b[49m\u001b[43mtrain_dataset\u001b[49m\u001b[43m,\u001b[49m\n\u001b[32m     48\u001b[39m \u001b[43m    \u001b[49m\u001b[43mvalidation_data\u001b[49m\u001b[43m=\u001b[49m\u001b[43mval_dataset\u001b[49m\u001b[43m,\u001b[49m\n\u001b[32m     49\u001b[39m \u001b[43m    \u001b[49m\u001b[43mepochs\u001b[49m\u001b[43m=\u001b[49m\u001b[32;43m20\u001b[39;49m\u001b[43m,\u001b[49m\n\u001b[32m     50\u001b[39m \u001b[43m    \u001b[49m\u001b[43mcallbacks\u001b[49m\u001b[43m=\u001b[49m\u001b[43m[\u001b[49m\u001b[43mcheckpoint_cb\u001b[49m\u001b[43m,\u001b[49m\u001b[43m \u001b[49m\u001b[43mearly_stopping_cb\u001b[49m\u001b[43m,\u001b[49m\u001b[43m \u001b[49m\u001b[43mreduce_lr_cb\u001b[49m\u001b[43m,\u001b[49m\u001b[43m \u001b[49m\u001b[43mcosine_lr_cb\u001b[49m\u001b[43m]\u001b[49m\u001b[43m,\u001b[49m\n\u001b[32m     51\u001b[39m \u001b[43m    \u001b[49m\u001b[43mverbose\u001b[49m\u001b[43m=\u001b[49m\u001b[32;43m1\u001b[39;49m\n\u001b[32m     52\u001b[39m \u001b[43m)\u001b[49m\n\u001b[32m     54\u001b[39m \u001b[38;5;66;03m# --- Historique des métriques ---\u001b[39;00m\n\u001b[32m     55\u001b[39m train_losses = history.history[\u001b[33m'\u001b[39m\u001b[33mloss\u001b[39m\u001b[33m'\u001b[39m]\n",
      "\u001b[36mFile \u001b[39m\u001b[32m~/anaconda3/envs/cine_reco/lib/python3.12/site-packages/keras/src/utils/traceback_utils.py:117\u001b[39m, in \u001b[36mfilter_traceback.<locals>.error_handler\u001b[39m\u001b[34m(*args, **kwargs)\u001b[39m\n\u001b[32m    115\u001b[39m filtered_tb = \u001b[38;5;28;01mNone\u001b[39;00m\n\u001b[32m    116\u001b[39m \u001b[38;5;28;01mtry\u001b[39;00m:\n\u001b[32m--> \u001b[39m\u001b[32m117\u001b[39m     \u001b[38;5;28;01mreturn\u001b[39;00m \u001b[43mfn\u001b[49m\u001b[43m(\u001b[49m\u001b[43m*\u001b[49m\u001b[43margs\u001b[49m\u001b[43m,\u001b[49m\u001b[43m \u001b[49m\u001b[43m*\u001b[49m\u001b[43m*\u001b[49m\u001b[43mkwargs\u001b[49m\u001b[43m)\u001b[49m\n\u001b[32m    118\u001b[39m \u001b[38;5;28;01mexcept\u001b[39;00m \u001b[38;5;167;01mException\u001b[39;00m \u001b[38;5;28;01mas\u001b[39;00m e:\n\u001b[32m    119\u001b[39m     filtered_tb = _process_traceback_frames(e.__traceback__)\n",
      "\u001b[36mFile \u001b[39m\u001b[32m~/anaconda3/envs/cine_reco/lib/python3.12/site-packages/keras/src/backend/tensorflow/trainer.py:377\u001b[39m, in \u001b[36mTensorFlowTrainer.fit\u001b[39m\u001b[34m(self, x, y, batch_size, epochs, verbose, callbacks, validation_split, validation_data, shuffle, class_weight, sample_weight, initial_epoch, steps_per_epoch, validation_steps, validation_batch_size, validation_freq)\u001b[39m\n\u001b[32m    375\u001b[39m \u001b[38;5;28;01mfor\u001b[39;00m begin_step, end_step, iterator \u001b[38;5;129;01min\u001b[39;00m epoch_iterator:\n\u001b[32m    376\u001b[39m     callbacks.on_train_batch_begin(begin_step)\n\u001b[32m--> \u001b[39m\u001b[32m377\u001b[39m     logs = \u001b[38;5;28;43mself\u001b[39;49m\u001b[43m.\u001b[49m\u001b[43mtrain_function\u001b[49m\u001b[43m(\u001b[49m\u001b[43miterator\u001b[49m\u001b[43m)\u001b[49m\n\u001b[32m    378\u001b[39m     callbacks.on_train_batch_end(end_step, logs)\n\u001b[32m    379\u001b[39m     \u001b[38;5;28;01mif\u001b[39;00m \u001b[38;5;28mself\u001b[39m.stop_training:\n",
      "\u001b[36mFile \u001b[39m\u001b[32m~/anaconda3/envs/cine_reco/lib/python3.12/site-packages/keras/src/backend/tensorflow/trainer.py:220\u001b[39m, in \u001b[36mTensorFlowTrainer._make_function.<locals>.function\u001b[39m\u001b[34m(iterator)\u001b[39m\n\u001b[32m    216\u001b[39m \u001b[38;5;28;01mdef\u001b[39;00m\u001b[38;5;250m \u001b[39m\u001b[34mfunction\u001b[39m(iterator):\n\u001b[32m    217\u001b[39m     \u001b[38;5;28;01mif\u001b[39;00m \u001b[38;5;28misinstance\u001b[39m(\n\u001b[32m    218\u001b[39m         iterator, (tf.data.Iterator, tf.distribute.DistributedIterator)\n\u001b[32m    219\u001b[39m     ):\n\u001b[32m--> \u001b[39m\u001b[32m220\u001b[39m         opt_outputs = \u001b[43mmulti_step_on_iterator\u001b[49m\u001b[43m(\u001b[49m\u001b[43miterator\u001b[49m\u001b[43m)\u001b[49m\n\u001b[32m    221\u001b[39m         \u001b[38;5;28;01mif\u001b[39;00m \u001b[38;5;129;01mnot\u001b[39;00m opt_outputs.has_value():\n\u001b[32m    222\u001b[39m             \u001b[38;5;28;01mraise\u001b[39;00m \u001b[38;5;167;01mStopIteration\u001b[39;00m\n",
      "\u001b[36mFile \u001b[39m\u001b[32m~/anaconda3/envs/cine_reco/lib/python3.12/site-packages/tensorflow/python/util/traceback_utils.py:150\u001b[39m, in \u001b[36mfilter_traceback.<locals>.error_handler\u001b[39m\u001b[34m(*args, **kwargs)\u001b[39m\n\u001b[32m    148\u001b[39m filtered_tb = \u001b[38;5;28;01mNone\u001b[39;00m\n\u001b[32m    149\u001b[39m \u001b[38;5;28;01mtry\u001b[39;00m:\n\u001b[32m--> \u001b[39m\u001b[32m150\u001b[39m   \u001b[38;5;28;01mreturn\u001b[39;00m \u001b[43mfn\u001b[49m\u001b[43m(\u001b[49m\u001b[43m*\u001b[49m\u001b[43margs\u001b[49m\u001b[43m,\u001b[49m\u001b[43m \u001b[49m\u001b[43m*\u001b[49m\u001b[43m*\u001b[49m\u001b[43mkwargs\u001b[49m\u001b[43m)\u001b[49m\n\u001b[32m    151\u001b[39m \u001b[38;5;28;01mexcept\u001b[39;00m \u001b[38;5;167;01mException\u001b[39;00m \u001b[38;5;28;01mas\u001b[39;00m e:\n\u001b[32m    152\u001b[39m   filtered_tb = _process_traceback_frames(e.__traceback__)\n",
      "\u001b[36mFile \u001b[39m\u001b[32m~/anaconda3/envs/cine_reco/lib/python3.12/site-packages/tensorflow/python/eager/polymorphic_function/polymorphic_function.py:833\u001b[39m, in \u001b[36mFunction.__call__\u001b[39m\u001b[34m(self, *args, **kwds)\u001b[39m\n\u001b[32m    830\u001b[39m compiler = \u001b[33m\"\u001b[39m\u001b[33mxla\u001b[39m\u001b[33m\"\u001b[39m \u001b[38;5;28;01mif\u001b[39;00m \u001b[38;5;28mself\u001b[39m._jit_compile \u001b[38;5;28;01melse\u001b[39;00m \u001b[33m\"\u001b[39m\u001b[33mnonXla\u001b[39m\u001b[33m\"\u001b[39m\n\u001b[32m    832\u001b[39m \u001b[38;5;28;01mwith\u001b[39;00m OptionalXlaContext(\u001b[38;5;28mself\u001b[39m._jit_compile):\n\u001b[32m--> \u001b[39m\u001b[32m833\u001b[39m   result = \u001b[38;5;28;43mself\u001b[39;49m\u001b[43m.\u001b[49m\u001b[43m_call\u001b[49m\u001b[43m(\u001b[49m\u001b[43m*\u001b[49m\u001b[43margs\u001b[49m\u001b[43m,\u001b[49m\u001b[43m \u001b[49m\u001b[43m*\u001b[49m\u001b[43m*\u001b[49m\u001b[43mkwds\u001b[49m\u001b[43m)\u001b[49m\n\u001b[32m    835\u001b[39m new_tracing_count = \u001b[38;5;28mself\u001b[39m.experimental_get_tracing_count()\n\u001b[32m    836\u001b[39m without_tracing = (tracing_count == new_tracing_count)\n",
      "\u001b[36mFile \u001b[39m\u001b[32m~/anaconda3/envs/cine_reco/lib/python3.12/site-packages/tensorflow/python/eager/polymorphic_function/polymorphic_function.py:878\u001b[39m, in \u001b[36mFunction._call\u001b[39m\u001b[34m(self, *args, **kwds)\u001b[39m\n\u001b[32m    875\u001b[39m \u001b[38;5;28mself\u001b[39m._lock.release()\n\u001b[32m    876\u001b[39m \u001b[38;5;66;03m# In this case we have not created variables on the first call. So we can\u001b[39;00m\n\u001b[32m    877\u001b[39m \u001b[38;5;66;03m# run the first trace but we should fail if variables are created.\u001b[39;00m\n\u001b[32m--> \u001b[39m\u001b[32m878\u001b[39m results = \u001b[43mtracing_compilation\u001b[49m\u001b[43m.\u001b[49m\u001b[43mcall_function\u001b[49m\u001b[43m(\u001b[49m\n\u001b[32m    879\u001b[39m \u001b[43m    \u001b[49m\u001b[43margs\u001b[49m\u001b[43m,\u001b[49m\u001b[43m \u001b[49m\u001b[43mkwds\u001b[49m\u001b[43m,\u001b[49m\u001b[43m \u001b[49m\u001b[38;5;28;43mself\u001b[39;49m\u001b[43m.\u001b[49m\u001b[43m_variable_creation_config\u001b[49m\n\u001b[32m    880\u001b[39m \u001b[43m\u001b[49m\u001b[43m)\u001b[49m\n\u001b[32m    881\u001b[39m \u001b[38;5;28;01mif\u001b[39;00m \u001b[38;5;28mself\u001b[39m._created_variables:\n\u001b[32m    882\u001b[39m   \u001b[38;5;28;01mraise\u001b[39;00m \u001b[38;5;167;01mValueError\u001b[39;00m(\u001b[33m\"\u001b[39m\u001b[33mCreating variables on a non-first call to a function\u001b[39m\u001b[33m\"\u001b[39m\n\u001b[32m    883\u001b[39m                    \u001b[33m\"\u001b[39m\u001b[33m decorated with tf.function.\u001b[39m\u001b[33m\"\u001b[39m)\n",
      "\u001b[36mFile \u001b[39m\u001b[32m~/anaconda3/envs/cine_reco/lib/python3.12/site-packages/tensorflow/python/eager/polymorphic_function/tracing_compilation.py:139\u001b[39m, in \u001b[36mcall_function\u001b[39m\u001b[34m(args, kwargs, tracing_options)\u001b[39m\n\u001b[32m    137\u001b[39m bound_args = function.function_type.bind(*args, **kwargs)\n\u001b[32m    138\u001b[39m flat_inputs = function.function_type.unpack_inputs(bound_args)\n\u001b[32m--> \u001b[39m\u001b[32m139\u001b[39m \u001b[38;5;28;01mreturn\u001b[39;00m \u001b[43mfunction\u001b[49m\u001b[43m.\u001b[49m\u001b[43m_call_flat\u001b[49m\u001b[43m(\u001b[49m\u001b[43m  \u001b[49m\u001b[38;5;66;43;03m# pylint: disable=protected-access\u001b[39;49;00m\n\u001b[32m    140\u001b[39m \u001b[43m    \u001b[49m\u001b[43mflat_inputs\u001b[49m\u001b[43m,\u001b[49m\u001b[43m \u001b[49m\u001b[43mcaptured_inputs\u001b[49m\u001b[43m=\u001b[49m\u001b[43mfunction\u001b[49m\u001b[43m.\u001b[49m\u001b[43mcaptured_inputs\u001b[49m\n\u001b[32m    141\u001b[39m \u001b[43m\u001b[49m\u001b[43m)\u001b[49m\n",
      "\u001b[36mFile \u001b[39m\u001b[32m~/anaconda3/envs/cine_reco/lib/python3.12/site-packages/tensorflow/python/eager/polymorphic_function/concrete_function.py:1322\u001b[39m, in \u001b[36mConcreteFunction._call_flat\u001b[39m\u001b[34m(self, tensor_inputs, captured_inputs)\u001b[39m\n\u001b[32m   1318\u001b[39m possible_gradient_type = gradients_util.PossibleTapeGradientTypes(args)\n\u001b[32m   1319\u001b[39m \u001b[38;5;28;01mif\u001b[39;00m (possible_gradient_type == gradients_util.POSSIBLE_GRADIENT_TYPES_NONE\n\u001b[32m   1320\u001b[39m     \u001b[38;5;129;01mand\u001b[39;00m executing_eagerly):\n\u001b[32m   1321\u001b[39m   \u001b[38;5;66;03m# No tape is watching; skip to running the function.\u001b[39;00m\n\u001b[32m-> \u001b[39m\u001b[32m1322\u001b[39m   \u001b[38;5;28;01mreturn\u001b[39;00m \u001b[38;5;28;43mself\u001b[39;49m\u001b[43m.\u001b[49m\u001b[43m_inference_function\u001b[49m\u001b[43m.\u001b[49m\u001b[43mcall_preflattened\u001b[49m\u001b[43m(\u001b[49m\u001b[43margs\u001b[49m\u001b[43m)\u001b[49m\n\u001b[32m   1323\u001b[39m forward_backward = \u001b[38;5;28mself\u001b[39m._select_forward_and_backward_functions(\n\u001b[32m   1324\u001b[39m     args,\n\u001b[32m   1325\u001b[39m     possible_gradient_type,\n\u001b[32m   1326\u001b[39m     executing_eagerly)\n\u001b[32m   1327\u001b[39m forward_function, args_with_tangents = forward_backward.forward()\n",
      "\u001b[36mFile \u001b[39m\u001b[32m~/anaconda3/envs/cine_reco/lib/python3.12/site-packages/tensorflow/python/eager/polymorphic_function/atomic_function.py:216\u001b[39m, in \u001b[36mAtomicFunction.call_preflattened\u001b[39m\u001b[34m(self, args)\u001b[39m\n\u001b[32m    214\u001b[39m \u001b[38;5;28;01mdef\u001b[39;00m\u001b[38;5;250m \u001b[39m\u001b[34mcall_preflattened\u001b[39m(\u001b[38;5;28mself\u001b[39m, args: Sequence[core.Tensor]) -> Any:\n\u001b[32m    215\u001b[39m \u001b[38;5;250m  \u001b[39m\u001b[33;03m\"\"\"Calls with flattened tensor inputs and returns the structured output.\"\"\"\u001b[39;00m\n\u001b[32m--> \u001b[39m\u001b[32m216\u001b[39m   flat_outputs = \u001b[38;5;28;43mself\u001b[39;49m\u001b[43m.\u001b[49m\u001b[43mcall_flat\u001b[49m\u001b[43m(\u001b[49m\u001b[43m*\u001b[49m\u001b[43margs\u001b[49m\u001b[43m)\u001b[49m\n\u001b[32m    217\u001b[39m   \u001b[38;5;28;01mreturn\u001b[39;00m \u001b[38;5;28mself\u001b[39m.function_type.pack_output(flat_outputs)\n",
      "\u001b[36mFile \u001b[39m\u001b[32m~/anaconda3/envs/cine_reco/lib/python3.12/site-packages/tensorflow/python/eager/polymorphic_function/atomic_function.py:251\u001b[39m, in \u001b[36mAtomicFunction.call_flat\u001b[39m\u001b[34m(self, *args)\u001b[39m\n\u001b[32m    249\u001b[39m \u001b[38;5;28;01mwith\u001b[39;00m record.stop_recording():\n\u001b[32m    250\u001b[39m   \u001b[38;5;28;01mif\u001b[39;00m \u001b[38;5;28mself\u001b[39m._bound_context.executing_eagerly():\n\u001b[32m--> \u001b[39m\u001b[32m251\u001b[39m     outputs = \u001b[38;5;28;43mself\u001b[39;49m\u001b[43m.\u001b[49m\u001b[43m_bound_context\u001b[49m\u001b[43m.\u001b[49m\u001b[43mcall_function\u001b[49m\u001b[43m(\u001b[49m\n\u001b[32m    252\u001b[39m \u001b[43m        \u001b[49m\u001b[38;5;28;43mself\u001b[39;49m\u001b[43m.\u001b[49m\u001b[43mname\u001b[49m\u001b[43m,\u001b[49m\n\u001b[32m    253\u001b[39m \u001b[43m        \u001b[49m\u001b[38;5;28;43mlist\u001b[39;49m\u001b[43m(\u001b[49m\u001b[43margs\u001b[49m\u001b[43m)\u001b[49m\u001b[43m,\u001b[49m\n\u001b[32m    254\u001b[39m \u001b[43m        \u001b[49m\u001b[38;5;28;43mlen\u001b[39;49m\u001b[43m(\u001b[49m\u001b[38;5;28;43mself\u001b[39;49m\u001b[43m.\u001b[49m\u001b[43mfunction_type\u001b[49m\u001b[43m.\u001b[49m\u001b[43mflat_outputs\u001b[49m\u001b[43m)\u001b[49m\u001b[43m,\u001b[49m\n\u001b[32m    255\u001b[39m \u001b[43m    \u001b[49m\u001b[43m)\u001b[49m\n\u001b[32m    256\u001b[39m   \u001b[38;5;28;01melse\u001b[39;00m:\n\u001b[32m    257\u001b[39m     outputs = make_call_op_in_graph(\n\u001b[32m    258\u001b[39m         \u001b[38;5;28mself\u001b[39m,\n\u001b[32m    259\u001b[39m         \u001b[38;5;28mlist\u001b[39m(args),\n\u001b[32m    260\u001b[39m         \u001b[38;5;28mself\u001b[39m._bound_context.function_call_options.as_attrs(),\n\u001b[32m    261\u001b[39m     )\n",
      "\u001b[36mFile \u001b[39m\u001b[32m~/anaconda3/envs/cine_reco/lib/python3.12/site-packages/tensorflow/python/eager/context.py:1688\u001b[39m, in \u001b[36mContext.call_function\u001b[39m\u001b[34m(self, name, tensor_inputs, num_outputs)\u001b[39m\n\u001b[32m   1686\u001b[39m cancellation_context = cancellation.context()\n\u001b[32m   1687\u001b[39m \u001b[38;5;28;01mif\u001b[39;00m cancellation_context \u001b[38;5;129;01mis\u001b[39;00m \u001b[38;5;28;01mNone\u001b[39;00m:\n\u001b[32m-> \u001b[39m\u001b[32m1688\u001b[39m   outputs = \u001b[43mexecute\u001b[49m\u001b[43m.\u001b[49m\u001b[43mexecute\u001b[49m\u001b[43m(\u001b[49m\n\u001b[32m   1689\u001b[39m \u001b[43m      \u001b[49m\u001b[43mname\u001b[49m\u001b[43m.\u001b[49m\u001b[43mdecode\u001b[49m\u001b[43m(\u001b[49m\u001b[33;43m\"\u001b[39;49m\u001b[33;43mutf-8\u001b[39;49m\u001b[33;43m\"\u001b[39;49m\u001b[43m)\u001b[49m\u001b[43m,\u001b[49m\n\u001b[32m   1690\u001b[39m \u001b[43m      \u001b[49m\u001b[43mnum_outputs\u001b[49m\u001b[43m=\u001b[49m\u001b[43mnum_outputs\u001b[49m\u001b[43m,\u001b[49m\n\u001b[32m   1691\u001b[39m \u001b[43m      \u001b[49m\u001b[43minputs\u001b[49m\u001b[43m=\u001b[49m\u001b[43mtensor_inputs\u001b[49m\u001b[43m,\u001b[49m\n\u001b[32m   1692\u001b[39m \u001b[43m      \u001b[49m\u001b[43mattrs\u001b[49m\u001b[43m=\u001b[49m\u001b[43mattrs\u001b[49m\u001b[43m,\u001b[49m\n\u001b[32m   1693\u001b[39m \u001b[43m      \u001b[49m\u001b[43mctx\u001b[49m\u001b[43m=\u001b[49m\u001b[38;5;28;43mself\u001b[39;49m\u001b[43m,\u001b[49m\n\u001b[32m   1694\u001b[39m \u001b[43m  \u001b[49m\u001b[43m)\u001b[49m\n\u001b[32m   1695\u001b[39m \u001b[38;5;28;01melse\u001b[39;00m:\n\u001b[32m   1696\u001b[39m   outputs = execute.execute_with_cancellation(\n\u001b[32m   1697\u001b[39m       name.decode(\u001b[33m\"\u001b[39m\u001b[33mutf-8\u001b[39m\u001b[33m\"\u001b[39m),\n\u001b[32m   1698\u001b[39m       num_outputs=num_outputs,\n\u001b[32m   (...)\u001b[39m\u001b[32m   1702\u001b[39m       cancellation_manager=cancellation_context,\n\u001b[32m   1703\u001b[39m   )\n",
      "\u001b[36mFile \u001b[39m\u001b[32m~/anaconda3/envs/cine_reco/lib/python3.12/site-packages/tensorflow/python/eager/execute.py:53\u001b[39m, in \u001b[36mquick_execute\u001b[39m\u001b[34m(op_name, num_outputs, inputs, attrs, ctx, name)\u001b[39m\n\u001b[32m     51\u001b[39m \u001b[38;5;28;01mtry\u001b[39;00m:\n\u001b[32m     52\u001b[39m   ctx.ensure_initialized()\n\u001b[32m---> \u001b[39m\u001b[32m53\u001b[39m   tensors = \u001b[43mpywrap_tfe\u001b[49m\u001b[43m.\u001b[49m\u001b[43mTFE_Py_Execute\u001b[49m\u001b[43m(\u001b[49m\u001b[43mctx\u001b[49m\u001b[43m.\u001b[49m\u001b[43m_handle\u001b[49m\u001b[43m,\u001b[49m\u001b[43m \u001b[49m\u001b[43mdevice_name\u001b[49m\u001b[43m,\u001b[49m\u001b[43m \u001b[49m\u001b[43mop_name\u001b[49m\u001b[43m,\u001b[49m\n\u001b[32m     54\u001b[39m \u001b[43m                                      \u001b[49m\u001b[43minputs\u001b[49m\u001b[43m,\u001b[49m\u001b[43m \u001b[49m\u001b[43mattrs\u001b[49m\u001b[43m,\u001b[49m\u001b[43m \u001b[49m\u001b[43mnum_outputs\u001b[49m\u001b[43m)\u001b[49m\n\u001b[32m     55\u001b[39m \u001b[38;5;28;01mexcept\u001b[39;00m core._NotOkStatusException \u001b[38;5;28;01mas\u001b[39;00m e:\n\u001b[32m     56\u001b[39m   \u001b[38;5;28;01mif\u001b[39;00m name \u001b[38;5;129;01mis\u001b[39;00m \u001b[38;5;129;01mnot\u001b[39;00m \u001b[38;5;28;01mNone\u001b[39;00m:\n",
      "\u001b[31mKeyboardInterrupt\u001b[39m: "
     ]
    }
   ],
   "source": [
    "import tensorflow as tf\n",
    "from tensorflow.keras import callbacks, optimizers, losses, metrics\n",
    "import numpy as np\n",
    "\n",
    "# --- Définir le scheduler cosine annealing ---\n",
    "def cosine_decay_schedule(epoch, lr):\n",
    "    max_epochs = 20\n",
    "    min_lr = 1e-6\n",
    "    max_lr = 0.001\n",
    "    return min_lr + (max_lr - min_lr) * 0.5 * (1 + np.cos(np.pi * epoch / max_epochs))\n",
    "\n",
    "# --- Callbacks ---\n",
    "checkpoint_cb = callbacks.ModelCheckpoint(\n",
    "    'best_fma_model.h5',\n",
    "    monitor='val_accuracy',\n",
    "    save_best_only=True,\n",
    "    mode='max',\n",
    "    verbose=1\n",
    ")\n",
    "\n",
    "early_stopping_cb = callbacks.EarlyStopping(\n",
    "    monitor='val_loss',\n",
    "    patience=7,\n",
    "    restore_best_weights=True,\n",
    "    verbose=1\n",
    ")\n",
    "\n",
    "reduce_lr_cb = callbacks.ReduceLROnPlateau(\n",
    "    monitor='val_loss',\n",
    "    factor=0.5,\n",
    "    patience=3,\n",
    "    min_lr=1e-7,\n",
    "    verbose=1\n",
    ")\n",
    "\n",
    "cosine_lr_cb = callbacks.LearningRateScheduler(cosine_decay_schedule, verbose=1)\n",
    "\n",
    "# Compiler le modèle\n",
    "model.compile(\n",
    "    optimizer=optimizers.Adam(learning_rate=0.001),\n",
    "    loss=losses.SparseCategoricalCrossentropy(),\n",
    "    metrics=[metrics.SparseCategoricalAccuracy(name='accuracy')]\n",
    ")\n",
    "\n",
    "# --- Entraîner le modèle ---\n",
    "history = model.fit(\n",
    "    train_dataset,\n",
    "    validation_data=val_dataset,\n",
    "    epochs=20,\n",
    "    callbacks=[checkpoint_cb, early_stopping_cb, reduce_lr_cb, cosine_lr_cb],\n",
    "    verbose=1\n",
    ")\n",
    "\n",
    "# --- Historique des métriques ---\n",
    "train_losses = history.history['loss']\n",
    "val_losses = history.history['val_loss']\n",
    "train_accs = history.history['accuracy']\n",
    "val_accs = history.history['val_accuracy']\n",
    "\n",
    "print(f\"Training completed. Best validation accuracy: {max(val_accs)*100:.2f}%\")\n",
    "\n",
    "\n",
    "\n",
    "# ## 5. Feature Extraction for PCA Analysis"
   ]
  },
  {
   "cell_type": "code",
   "execution_count": 13,
   "id": "269ffcdb",
   "metadata": {},
   "outputs": [
    {
     "name": "stdout",
     "output_type": "stream",
     "text": [
      "Extracting features from test set...\n"
     ]
    },
    {
     "name": "stderr",
     "output_type": "stream",
     "text": [
      "2025-10-14 22:50:08.946430: I tensorflow/core/framework/local_rendezvous.cc:407] Local rendezvous is aborting with status: OUT_OF_RANGE: End of sequence\n"
     ]
    },
    {
     "name": "stdout",
     "output_type": "stream",
     "text": [
      "Extracted features shape: (1200, 256)\n",
      "Feature dimension: 256\n",
      "\n",
      "Extracting features from training subset...\n",
      "Training features shape: (320, 256)\n"
     ]
    },
    {
     "name": "stderr",
     "output_type": "stream",
     "text": [
      "2025-10-14 22:50:37.652530: I tensorflow/core/framework/local_rendezvous.cc:407] Local rendezvous is aborting with status: OUT_OF_RANGE: End of sequence\n"
     ]
    }
   ],
   "source": [
    "import numpy as np\n",
    "import tensorflow as tf\n",
    "\n",
    "def extract_features_from_model_keras(feature_model, dataset):\n",
    "    \"\"\"\n",
    "    Extract features from the feature layer (second-to-last dense layer) for PCA or analysis\n",
    "    \"\"\"\n",
    "    all_features = []\n",
    "    all_labels = []\n",
    "    all_predictions = []\n",
    "\n",
    "    for batch_inputs, batch_labels in dataset:\n",
    "        # Passer le batch dans le feature_model et le modèle complet\n",
    "        features = feature_model(batch_inputs, training=False)  # shape: (batch_size, feature_dim)\n",
    "        outputs = model(batch_inputs, training=False)           # shape: (batch_size, num_genres)\n",
    "        predictions = tf.argmax(outputs, axis=1)\n",
    "\n",
    "        all_features.append(features.numpy())\n",
    "        all_labels.append(batch_labels.numpy())\n",
    "        all_predictions.append(predictions.numpy())\n",
    "\n",
    "    # Concatenate all batches\n",
    "    features_array = np.concatenate(all_features, axis=0)\n",
    "    labels_array = np.concatenate(all_labels, axis=0)\n",
    "    predictions_array = np.concatenate(all_predictions, axis=0)\n",
    "\n",
    "    return features_array, labels_array, predictions_array\n",
    "\n",
    "# --- Extraction des features du test set ---\n",
    "print(\"Extracting features from test set...\")\n",
    "test_features, test_labels_array, test_predictions = extract_features_from_model_keras(\n",
    "    feature_model, test_dataset\n",
    ")\n",
    "print(f\"Extracted features shape: {test_features.shape}\")\n",
    "print(f\"Feature dimension: {test_features.shape[1]}\")\n",
    "\n",
    "# --- Extraction des features d’un sous-ensemble d’entraînement ---\n",
    "print(\"\\nExtracting features from training subset...\")\n",
    "train_subset = train_dataset.take(10)  # Exemple : prendre 10 batches pour analyse rapide\n",
    "train_features, train_labels_array, train_predictions = extract_features_from_model_keras(\n",
    "    feature_model, train_subset\n",
    ")\n",
    "print(f\"Training features shape: {train_features.shape}\")\n",
    "\n",
    "\n",
    "\n",
    "# ## 6. PCA Analysis and Visualization"
   ]
  },
  {
   "cell_type": "code",
   "execution_count": 14,
   "id": "cf32a97a",
   "metadata": {
    "lines_to_next_cell": 2
   },
   "outputs": [
    {
     "name": "stdout",
     "output_type": "stream",
     "text": [
      "Performing PCA analysis...\n",
      "PCA explained variance ratio: [0.23244832 0.16355278]\n",
      "Total explained variance: 0.396\n",
      "PCA DataFrame shape: (1200, 5)\n",
      "         PC1       PC2  genre track_id     genre_name\n",
      "0  -7.020872  9.423238      5   043698  International\n",
      "1  10.340714 -4.183471      6   100536     Electronic\n",
      "2  10.223536 -2.076301      6   011262     Electronic\n",
      "3   2.715221 -2.115151      4   130683           Rock\n",
      "4   0.462271  6.149746      2   047506           Folk\n"
     ]
    }
   ],
   "source": [
    "from sklearn.preprocessing import StandardScaler\n",
    "from sklearn.decomposition import PCA\n",
    "import pandas as pd\n",
    "\n",
    "def perform_pca_analysis_keras(features, labels, n_components=2):\n",
    "    \"\"\"\n",
    "    Perform PCA analysis on features extracted from a Keras model\n",
    "    \"\"\"\n",
    "    # Standardize features\n",
    "    scaler = StandardScaler()\n",
    "    features_scaled = scaler.fit_transform(features)\n",
    "\n",
    "    # Apply PCA\n",
    "    pca = PCA(n_components=n_components)\n",
    "    features_pca = pca.fit_transform(features_scaled)\n",
    "\n",
    "    print(f\"PCA explained variance ratio: {pca.explained_variance_ratio_}\")\n",
    "    print(f\"Total explained variance: {pca.explained_variance_ratio_.sum():.3f}\")\n",
    "\n",
    "    return features_pca, pca, scaler\n",
    "\n",
    "# --- PCA sur les features du test set ---\n",
    "print(\"Performing PCA analysis...\")\n",
    "test_pca_features, pca_model, scaler = perform_pca_analysis_keras(test_features, test_labels_array)\n",
    "\n",
    "# Créer un DataFrame pour visualisation / manipulation\n",
    "pca_df = pd.DataFrame({\n",
    "    'PC1': test_pca_features[:, 0],\n",
    "    'PC2': test_pca_features[:, 1],\n",
    "    'genre': test_labels_array,\n",
    "    'track_id': test_data[2][:len(test_labels_array)]\n",
    "})\n",
    "\n",
    "# Ajouter les noms de genres\n",
    "genre_names = list(genre_mapping.keys())\n",
    "pca_df['genre_name'] = pca_df['genre'].map(lambda x: genre_names[x])\n",
    "\n",
    "print(f\"PCA DataFrame shape: {pca_df.shape}\")\n",
    "print(pca_df.head())\n"
   ]
  },
  {
   "cell_type": "code",
   "execution_count": 15,
   "id": "149bb9e1",
   "metadata": {},
   "outputs": [
    {
     "data": {
      "image/png": "[encoded data removed]",
      "text/plain": [
       "<Figure size 1200x800 with 1 Axes>"
      ]
     },
     "metadata": {},
     "output_type": "display_data"
    },
    {
     "data": {
      "application/vnd.plotly.v1+json": {
       "config": {
        "plotlyServerURL": "https://plot.ly"
       },
       "data": [
        {
         "customdata": [
          [
           "043698"
          ],
          [
           "099364"
          ],
          [
           "054476"
          ],
          [
           "114940"
          ],
          [
           "025028"
          ],
          [
           "055233"
          ],
          [
           "059702"
          ],
          [
           "152254"
          ],
          [
           "038782"
          ],
          [
           "134939"
          ],
          [
           "073760"
          ],
          [
           "019891"
          ],
          [
           "038827"
          ],
          [
           "053154"
          ],
          [
           "052124"
          ],
          [
           "099390"
          ],
          [
           "134962"
          ],
          [
           "141594"
          ],
          [
           "062192"
          ],
          [
           "150080"
          ],
          [
           "114941"
          ],
          [
           "134923"
          ],
          [
           "101116"
          ],
          [
           "042238"
          ],
          [
           "059685"
          ],
          [
           "036273"
          ],
          [
           "020432"
          ],
          [
           "114938"
          ],
          [
           "006389"
          ],
          [
           "107180"
          ],
          [
           "073777"
          ],
          [
           "001685"
          ],
          [
           "025669"
          ],
          [
           "134938"
          ],
          [
           "080776"
          ],
          [
           "114943"
          ],
          [
           "043697"
          ],
          [
           "107186"
          ],
          [
           "059720"
          ],
          [
           "134936"
          ],
          [
           "142579"
          ],
          [
           "027609"
          ],
          [
           "113272"
          ],
          [
           "098028"
          ],
          [
           "133835"
          ],
          [
           "107251"
          ],
          [
           "050283"
          ],
          [
           "038783"
          ],
          [
           "135220"
          ],
          [
           "098031"
          ],
          [
           "000667"
          ],
          [
           "024742"
          ],
          [
           "129397"
          ],
          [
           "115271"
          ],
          [
           "129875"
          ],
          [
           "127358"
          ],
          [
           "042241"
          ],
          [
           "019889"
          ],
          [
           "073772"
          ],
          [
           "091187"
          ],
          [
           "039357"
          ],
          [
           "129407"
          ],
          [
           "016744"
          ],
          [
           "134933"
          ],
          [
           "098300"
          ],
          [
           "054438"
          ],
          [
           "054463"
          ],
          [
           "006358"
          ],
          [
           "006360"
          ],
          [
           "027613"
          ],
          [
           "121926"
          ],
          [
           "024698"
          ],
          [
           "148079"
          ],
          [
           "055827"
          ],
          [
           "054442"
          ],
          [
           "134956"
          ],
          [
           "062196"
          ],
          [
           "060547"
          ],
          [
           "043022"
          ],
          [
           "098026"
          ],
          [
           "099374"
          ],
          [
           "003778"
          ],
          [
           "038822"
          ],
          [
           "024367"
          ],
          [
           "060143"
          ],
          [
           "113275"
          ],
          [
           "098680"
          ],
          [
           "018043"
          ],
          [
           "006393"
          ],
          [
           "004071"
          ],
          [
           "053157"
          ],
          [
           "004075"
          ],
          [
           "148078"
          ],
          [
           "004510"
          ],
          [
           "060549"
          ],
          [
           "113284"
          ],
          [
           "133837"
          ],
          [
           "060873"
          ],
          [
           "121930"
          ],
          [
           "108867"
          ],
          [
           "064590"
          ],
          [
           "107250"
          ],
          [
           "025795"
          ],
          [
           "131950"
          ],
          [
           "059688"
          ],
          [
           "023155"
          ],
          [
           "080687"
          ],
          [
           "101112"
          ],
          [
           "060045"
          ],
          [
           "129926"
          ],
          [
           "038353"
          ],
          [
           "064593"
          ],
          [
           "098656"
          ],
          [
           "043589"
          ],
          [
           "052000"
          ],
          [
           "025233"
          ],
          [
           "025235"
          ],
          [
           "134959"
          ],
          [
           "043173"
          ],
          [
           "134947"
          ],
          [
           "054481"
          ],
          [
           "012690"
          ],
          [
           "051999"
          ],
          [
           "038352"
          ],
          [
           "004096"
          ],
          [
           "131939"
          ],
          [
           "142577"
          ],
          [
           "122901"
          ],
          [
           "141590"
          ],
          [
           "132139"
          ],
          [
           "076072"
          ],
          [
           "113698"
          ],
          [
           "062591"
          ],
          [
           "053724"
          ],
          [
           "107182"
          ],
          [
           "080696"
          ],
          [
           "006342"
          ],
          [
           "060038"
          ],
          [
           "142537"
          ],
          [
           "033068"
          ],
          [
           "025215"
          ],
          [
           "148066"
          ],
          [
           "108865"
          ],
          [
           "006376"
          ],
          [
           "043699"
          ],
          [
           "004094"
          ],
          [
           "054475"
          ],
          [
           "059675"
          ],
          [
           "025216"
          ],
          [
           "025797"
          ],
          [
           "059671"
          ],
          [
           "059708"
          ],
          [
           "062188"
          ],
          [
           "043588"
          ],
          [
           "113277"
          ],
          [
           "043028"
          ],
          [
           "073762"
          ],
          [
           "003779"
          ],
          [
           "129884"
          ],
          [
           "054437"
          ],
          [
           "148070"
          ]
         ],
         "hovertemplate": "genre_name=International<br>PC1 (23.2%)=%{x}<br>PC2 (16.4%)=%{y}<br>track_id=%{customdata[0]}<extra></extra>",
         "legendgroup": "International",
         "marker": {
          "color": "#636efa",
          "symbol": "circle"
         },
         "mode": "markers",
         "name": "International",
         "showlegend": true,
         "type": "scattergl",
         "x": {
          "bdata": "+6rgwIdlwsBaH95AUKAjwVjZ/T/fTGBB7jkPwRbFQ71QoczA6sq+wKzBYUHKoRjA8tbewMzEQkHkMwdAzQ3IwL1rjsD84rZA+DEVQdXFzUA83QnB+HR2wNQaYUDaX6PAugyMwPb/nMCscHnA0dedwGqZnT/qEhRBOM4bQUlZ28BtFOc/Aje/wLR2f79NnzzBayj3wO8OfUC+ydTAKPuSPjODR8ByJJdAFqYZQUTM6MCauAnBXN+LPngFl0C9m7K/GX7JwF7dAMHPxb3AVEQ9wFoabb83WufA/JmeQNntdMDj5RzAHD9qwHK/XMGM4vfAOgM9QZMtyL5vC5vAzms/wCbZo8AcHypB2VYGQT93n8BaxKq/3UF/QOJUCb/0kpLA+EXqQBBIZsDspSpBwkgqwC3QqEBLb6XA28OCwPvhwMC+ObvAmokLQSK318DgGOq/29XNwCELwcC7XJfAbvGEvR4UJcBrlFhAMRoOQeLLdz4wBLNAnx+ywHAZw8CPnxRBWaxQwM4r7cCP3KdABeKRwM26HsCLDdM/vNACQNPxBcEPJoHAto4ewclLzMC1vStATkgMv9sch8BlPjlA+njrPn3bkMD7DAjB7IOpQCs4qT/TBJY+0EOaP7OvPj+plV7AAgzqQL+47EC1NTlBR0mWQNjSXsCC16HAGvT/vz0aiMDe96JASliHwC2lsT/tWrfASn9Sv1YIJcAKLfZAKSzEwLZoNz9F6B+/E1BFPpjDmEA9/+K/3t+kQJ+e579m2fjAXFAJv36r1MCKm7S/3S+HwLduO8DNOcm/dx38wIc3wcC97mW/bgHnwC2lo7/syKbAeXZTwMTHPUAL9gFBy9aVv4Slhj4=",
          "dtype": "f4"
         },
         "xaxis": "x",
         "y": {
          "bdata": "lcUWQSxilkGR5SjAjyiYQRcOBEHgWktAaqkAQeE6bL+dKc1Axy4VQe9m4j1DAO4/5AHoQCrL4kCtNBlB3K6XQXJme0HBIdrAHlRfvk27ScAfsXNBgXgFQXNn+UDc2UG/H/qPQamUKUHsCIVASACcQQ1ebUHvupjA63REvwKNIkF/1QVBH3ocQbq3zEAfaJ9BmA2KQRptj8DlH0FBUPhrvwOUQkHk0/9AHx3Rv0qV6EAh9upA/fA5QbZ3t77c+yxBpe40QSDMoECE1ozAoJoTQSFI6kBAoQ5BCr8CQCV0H0G24ElBoDWBQJLAj0EnVDtByKMrwJ4JikA0kwBBztFFQRGAWEHgcr/Ab0AxwE9AYEFTN01BEbkWQEKjx8B0ZRNBUuSkwBEhcEHveXzAxg6QQKfNE0BuwhJBXjpXQHrhw0DXn05B4BTaQLlCjUCBbnjAPG43QafMlkD7bUZB0DNNQdxO5ECuaQRB2jmDwLx090CF5am/HqQTQVvIvkAt/jLAXggHQLlvL0FOZNe/TJU0Qay0iUFrc0pBtO2CwNTZmEH5sjZB8JR6QCUBUUELpxNBMN0hQPWIa0EAC2s/rsMnQT22F0E71FBBmjmBwLr87EByiixBXBuawKfFEkHYWpJBXVF4vhHKtr/e0p6+ZG5WP93KREE1+/ZASW6+QNu1kD+/P7XAyaYxQUhqP0GvigNB5QCSQNcLLUHNaVPAv5WNQaU0wEAJvghBwpmjQLuwp0BnbtpAiTHuQBfcHUEJq3FBKwRgQDG0jEEMSoHAkQ+YQWTppUDROyC/wIybQebVBEFUoq9ATCU/QbyliEB9VOFA4tMyQOUR3EAeUaQ/jobewG179z4=",
          "dtype": "f4"
         },
         "yaxis": "y"
        },
        {
         "customdata": [
          [
           "100536"
          ],
          [
           "011262"
          ],
          [
           "107909"
          ],
          [
           "111416"
          ],
          [
           "068682"
          ],
          [
           "135990"
          ],
          [
           "107429"
          ],
          [
           "029037"
          ],
          [
           "071420"
          ],
          [
           "052637"
          ],
          [
           "073341"
          ],
          [
           "069198"
          ],
          [
           "125999"
          ],
          [
           "091089"
          ],
          [
           "040844"
          ],
          [
           "080833"
          ],
          [
           "127936"
          ],
          [
           "029042"
          ],
          [
           "124755"
          ],
          [
           "100552"
          ],
          [
           "071503"
          ],
          [
           "133015"
          ],
          [
           "091620"
          ],
          [
           "021842"
          ],
          [
           "071516"
          ],
          [
           "056799"
          ],
          [
           "141617"
          ],
          [
           "105671"
          ],
          [
           "140922"
          ],
          [
           "093519"
          ],
          [
           "046157"
          ],
          [
           "115723"
          ],
          [
           "127349"
          ],
          [
           "098205"
          ],
          [
           "022095"
          ],
          [
           "142078"
          ],
          [
           "048465"
          ],
          [
           "047072"
          ],
          [
           "085823"
          ],
          [
           "097847"
          ],
          [
           "087643"
          ],
          [
           "127343"
          ],
          [
           "066074"
          ],
          [
           "143055"
          ],
          [
           "055782"
          ],
          [
           "123501"
          ],
          [
           "069204"
          ],
          [
           "145756"
          ],
          [
           "052641"
          ],
          [
           "120467"
          ],
          [
           "085822"
          ],
          [
           "099311"
          ],
          [
           "107913"
          ],
          [
           "068896"
          ],
          [
           "139934"
          ],
          [
           "040683"
          ],
          [
           "141618"
          ],
          [
           "029039"
          ],
          [
           "021895"
          ],
          [
           "108421"
          ],
          [
           "030522"
          ],
          [
           "053863"
          ],
          [
           "137462"
          ],
          [
           "084484"
          ],
          [
           "100535"
          ],
          [
           "139991"
          ],
          [
           "133019"
          ],
          [
           "085835"
          ],
          [
           "048466"
          ],
          [
           "148444"
          ],
          [
           "004519"
          ],
          [
           "035296"
          ],
          [
           "089816"
          ],
          [
           "118734"
          ],
          [
           "114245"
          ],
          [
           "065040"
          ],
          [
           "132134"
          ],
          [
           "068899"
          ],
          [
           "114559"
          ],
          [
           "135986"
          ],
          [
           "107613"
          ],
          [
           "123503"
          ],
          [
           "110104"
          ],
          [
           "085291"
          ],
          [
           "071096"
          ],
          [
           "126773"
          ],
          [
           "110688"
          ],
          [
           "085840"
          ],
          [
           "026653"
          ],
          [
           "087157"
          ],
          [
           "143061"
          ],
          [
           "115811"
          ],
          [
           "116877"
          ],
          [
           "123937"
          ],
          [
           "115700"
          ],
          [
           "071508"
          ],
          [
           "056874"
          ],
          [
           "047660"
          ],
          [
           "143060"
          ],
          [
           "114283"
          ],
          [
           "045102"
          ],
          [
           "045149"
          ],
          [
           "105673"
          ],
          [
           "064618"
          ],
          [
           "114063"
          ],
          [
           "036096"
          ],
          [
           "114282"
          ],
          [
           "108530"
          ],
          [
           "098206"
          ],
          [
           "015769"
          ],
          [
           "068893"
          ],
          [
           "089474"
          ],
          [
           "066636"
          ],
          [
           "013474"
          ],
          [
           "030520"
          ],
          [
           "136320"
          ],
          [
           "116344"
          ],
          [
           "085347"
          ],
          [
           "134447"
          ],
          [
           "055810"
          ],
          [
           "134053"
          ],
          [
           "084483"
          ],
          [
           "145549"
          ],
          [
           "073125"
          ],
          [
           "139937"
          ],
          [
           "087237"
          ],
          [
           "072232"
          ],
          [
           "065488"
          ],
          [
           "097544"
          ],
          [
           "123004"
          ],
          [
           "052628"
          ],
          [
           "143056"
          ],
          [
           "092556"
          ],
          [
           "067639"
          ],
          [
           "143058"
          ],
          [
           "107432"
          ],
          [
           "142079"
          ],
          [
           "110107"
          ],
          [
           "114290"
          ],
          [
           "140924"
          ],
          [
           "092554"
          ],
          [
           "070300"
          ],
          [
           "091625"
          ],
          [
           "067470"
          ],
          [
           "052409"
          ]
         ],
         "hovertemplate": "genre_name=Electronic<br>PC1 (23.2%)=%{x}<br>PC2 (16.4%)=%{y}<br>track_id=%{customdata[0]}<extra></extra>",
         "legendgroup": "Electronic",
         "marker": {
          "color": "#EF553B",
          "symbol": "circle"
         },
         "mode": "markers",
         "name": "Electronic",
         "showlegend": true,
         "type": "scattergl",
         "x": {
          "bdata": "kHMlQZqTI0Hn3NdA0C4LQV/+AMGjCnpB6skAQJcpI0Ef8w3Ax7paQbfasED/4HJBxqzRQKnrW0EMsUVBi9CKwNmXkcCg6+xA8drLQGSQ0sDTZhNBFx6lQZkJJkH8oMbAG93Jv4qtBEBhqDjAuC4LQbeRtUB7i8TAlniIwIG2EkEFbMxAiRoHQSNQ5kD79q5BanQbQPErlL+4StFAp9GpP+1F8UD3BYxAnZl/QbfOkEBbQsY+CjEFQb8vLUGvKDdBRA4KQcHoqz/l01rAFyEeQU41iz8yY6hAhrp1QHhetUBsWWfAl5ITQV8qT0H9SNBAJAwZQX2IuUBQCiBBO2W/QD1qiUHHZ3O+du8DQHWXTb6N5hpAxT9nQAboi7/LpmrAtJO/QDwC/j+TAUlBZgYkQcg7iEDNFApBzXrQPwO5akBiaMJAppr4P1qtk0Baxr9A3tvVQP/Drb9EMUxArWB9vi6xnUA8rKfARbw+P2zqD0G/n5XAA4H7QBccusCHq6u/oAeZQGWhW0B+DeBA4Y1NQUNTckD110pADd0WwLJofUC8FEJBt8wgQZgl20BT305BXjVlQYSzyEC+irpAkRoAwPWwNEEAUn2/snxZQe8gHEDGKyVBKm8aQUU2WcAgrQdAtHMYQaTHD0GA5XFBxafyQJgknECzlNW/au2zQOr1tEAuHqBAMFoeQJSw7kB3b/hA22RyQFMZv0Bh681A5rltv6aJR0EuQvdAGwujQL8nE78+tmhBpNLZPw3WC0E8DWlAIFfePw==",
          "dtype": "f4"
         },
         "xaxis": "x",
         "y": {
          "bdata": "/t6FwB/iBMA6TpE/PcHfvlvGxMBrZ0RAZVNvwDUQk79s+fXAdtRMvmFnXsCQuFTAuyW2wKUfssAGI1LAbtj3wKFIxcBv3BPBcKpKwK18m8DC82DAD9MGvoYZqcAlPkTBzL4swcA5Eb/LVFfArCVSwEUg3cDbMYfA8bVjv/IykcCiXunA3PPhv7+Hi8CobU/AAbq4wB7C47+ioQHBJHTYwK/Zg8DpyanAHYdFwKsUYsAEkeq/FIWmwFGiEsBye1U/T0knwCTIZcD0NMXAA8g2wGm3xcBzJIfAa/HzvYfEo8C8Xg3AFyVawEmdtMANcsHABXHowDsuQEALXvK/vWWrwOQVs8A3DDTAeGVbwPy39sCHapfAtPCUv/oXIUD1wug97DzTwD8WksBxrLfAt1epv48iucD3ZgTAvx+twK6Zz8BN0VtA0yFYwN5OSMBXv2zAQHPAwKqYHcCx5mzAhLvDwFlVqb/bTArBa2rDwETfs8DWfzLAy7x5wLDpBsHOKVjA4x2IwOc5usBywrDA8SSswH+ycsD92pDAy1QmwLrtQsBf78fAcKbwP37lzMDxgtDA42lzwP9viMBsHZnA7BhlwHiiSMDSrZG/GfxgwJslEsHezXjAD2UKP4ZdQcBHc+a/ncAZwO9T5byE9SPA4SjBwOzVw8DgOJDAzru1wBuVpsCAsr891ZfGwOh/78AEEcO/FnO6wB8/v8DAZ1PA8TLqwFj0XMCKWcTADCgYwAGrtT+5BZjAsepcwMPI9L9SJYM9G8xawA==",
          "dtype": "f4"
         },
         "yaxis": "y"
        },
        {
         "customdata": [
          [
           "130683"
          ],
          [
           "148537"
          ],
          [
           "021860"
          ],
          [
           "068820"
          ],
          [
           "128709"
          ],
          [
           "048999"
          ],
          [
           "003725"
          ],
          [
           "071714"
          ],
          [
           "114411"
          ],
          [
           "126671"
          ],
          [
           "133272"
          ],
          [
           "108962"
          ],
          [
           "074348"
          ],
          [
           "001087"
          ],
          [
           "075784"
          ],
          [
           "047526"
          ],
          [
           "141173"
          ],
          [
           "061492"
          ],
          [
           "136054"
          ],
          [
           "142950"
          ],
          [
           "142418"
          ],
          [
           "117886"
          ],
          [
           "119922"
          ],
          [
           "115766"
          ],
          [
           "126670"
          ],
          [
           "128448"
          ],
          [
           "108957"
          ],
          [
           "138311"
          ],
          [
           "137740"
          ],
          [
           "045475"
          ],
          [
           "104062"
          ],
          [
           "133731"
          ],
          [
           "108297"
          ],
          [
           "123825"
          ],
          [
           "114405"
          ],
          [
           "094101"
          ],
          [
           "071372"
          ],
          [
           "115761"
          ],
          [
           "068821"
          ],
          [
           "061820"
          ],
          [
           "098701"
          ],
          [
           "112527"
          ],
          [
           "062337"
          ],
          [
           "001706"
          ],
          [
           "048367"
          ],
          [
           "124394"
          ],
          [
           "127339"
          ],
          [
           "067237"
          ],
          [
           "063470"
          ],
          [
           "136706"
          ],
          [
           "085788"
          ],
          [
           "059373"
          ],
          [
           "123474"
          ],
          [
           "033020"
          ],
          [
           "137717"
          ],
          [
           "125551"
          ],
          [
           "149416"
          ],
          [
           "059374"
          ],
          [
           "138060"
          ],
          [
           "087431"
          ],
          [
           "056645"
          ],
          [
           "106877"
          ],
          [
           "122685"
          ],
          [
           "085791"
          ],
          [
           "096399"
          ],
          [
           "130084"
          ],
          [
           "129268"
          ],
          [
           "045474"
          ],
          [
           "106953"
          ],
          [
           "113574"
          ],
          [
           "066717"
          ],
          [
           "112316"
          ],
          [
           "138211"
          ],
          [
           "042844"
          ],
          [
           "006517"
          ],
          [
           "087153"
          ],
          [
           "138306"
          ],
          [
           "071711"
          ],
          [
           "040938"
          ],
          [
           "137593"
          ],
          [
           "113164"
          ],
          [
           "075230"
          ],
          [
           "125001"
          ],
          [
           "035537"
          ],
          [
           "097887"
          ],
          [
           "114416"
          ],
          [
           "072513"
          ],
          [
           "113311"
          ],
          [
           "072289"
          ],
          [
           "048015"
          ],
          [
           "107390"
          ],
          [
           "138053"
          ],
          [
           "105142"
          ],
          [
           "107476"
          ],
          [
           "018611"
          ],
          [
           "001427"
          ],
          [
           "010670"
          ],
          [
           "138320"
          ],
          [
           "108290"
          ],
          [
           "111911"
          ],
          [
           "139769"
          ],
          [
           "106951"
          ],
          [
           "131656"
          ],
          [
           "005006"
          ],
          [
           "059876"
          ],
          [
           "122398"
          ],
          [
           "070403"
          ],
          [
           "110637"
          ],
          [
           "086441"
          ],
          [
           "125774"
          ],
          [
           "057892"
          ],
          [
           "053807"
          ],
          [
           "137417"
          ],
          [
           "112526"
          ],
          [
           "106567"
          ],
          [
           "099260"
          ],
          [
           "122083"
          ],
          [
           "097690"
          ],
          [
           "097886"
          ],
          [
           "038557"
          ],
          [
           "091092"
          ],
          [
           "129089"
          ],
          [
           "041965"
          ],
          [
           "091093"
          ],
          [
           "135365"
          ],
          [
           "014743"
          ],
          [
           "116547"
          ],
          [
           "115735"
          ],
          [
           "085817"
          ],
          [
           "134594"
          ],
          [
           "145606"
          ],
          [
           "094348"
          ],
          [
           "113513"
          ],
          [
           "040133"
          ],
          [
           "123278"
          ],
          [
           "073193"
          ],
          [
           "091205"
          ],
          [
           "037730"
          ],
          [
           "112734"
          ],
          [
           "138010"
          ],
          [
           "098077"
          ],
          [
           "072738"
          ],
          [
           "130692"
          ],
          [
           "126676"
          ],
          [
           "086788"
          ],
          [
           "095309"
          ],
          [
           "124461"
          ],
          [
           "148246"
          ],
          [
           "037727"
          ],
          [
           "137719"
          ],
          [
           "063471"
          ],
          [
           "040903"
          ],
          [
           "108505"
          ]
         ],
         "hovertemplate": "genre_name=Rock<br>PC1 (23.2%)=%{x}<br>PC2 (16.4%)=%{y}<br>track_id=%{customdata[0]}<extra></extra>",
         "legendgroup": "Rock",
         "marker": {
          "color": "#00cc96",
          "symbol": "circle"
         },
         "mode": "markers",
         "name": "Rock",
         "showlegend": true,
         "type": "scattergl",
         "x": {
          "bdata": "MMYtQJGTkD5yYGLAxPS3wLDUm8CDWa3Ah8CfwMSKPsDfW73AhsybwBjzdT5EoRFAPIzQQDkuxUDd6Gy9GT8RwBjDesAHVyPAqriGwNixocDUG1e/U4SjwP4I3MBtYgrBTzafv3/9SUCHgZXAUgGUwJ1euL53H1TAIzilwFLincDLgvbAd/+LQNwF3MDGIRrAPmopwKJLmMC+0GzAQPC0vf7GJMDXdAhBS/WzwCnMosALWQnBoVgbwV0n4r/pPBPATOnpwFEmmcCeHV3Am/4OwR69ncCQhonA1JTFwKnlC8BIvKTA5XqzwAuSTMDDUr/AechVvu0Kq8Btd/w/rJi2v4QuX0DGxJe/ttdMwPYZbcAmip3AN+9Jvn8vJkFQXgBAbb2AwIkZaMBctd+/jeoMwLLia8Dd7T1AMiy/wE98XUCnxAQ/Z5phPygV17+wPQXAeoaDwDAtccAM0tlAiscfwBEH18CBAc1A2foevn+vcMDez+g/9swdwJFlkcC+5ubA9HNQvbfHscDzEua/tc9uwK6SmsCLYxHBAmOgwFHQq78AbpLAv+SVwH6cLsDHFVzAeOGnwJLITsBEIvLAEiAFwThPQECJACNB33wlwJFAh0B9jTVAQa1XwPFJxcCt66vA+Q+Ev73VocBfB2DAzMyhvk9Ha0AJBZHA459pv8EhfcCV2HFAzdKGwC5AhcC5iuxA7JPbv5wJfkAhMbDAUnj9vHuJnkCJ4YI/0Mg6wIgk5D8Dlpc/d1sBwQDLDcChiYnA+nbrP8e5IMD5OazAsLPvwP5JGMCcBu3AOlv2wIEMWr+GdYvA",
          "dtype": "f4"
         },
         "xaxis": "x",
         "y": {
          "bdata": "oV4HwMoJl8BHoqW+6JHGv4qpHkFODs/AgxnkviEapT4IcsrAou5uwP2c3cAI4N2/j1yOwINvTUBFkQdBhlC6QN3FJEBu97q/TDZkwFDfNMB9gKbAUY3MQF0SkkB7bydBe0cawLgCA0C7dyfAxTj3QLOv3D+f7gpAvEIiwGDQwr9EUik/qE63v86wGMFO9iHBHlqXP30EH0CivwbArHopQbyUX8CXETNAXFShwCryFEAcWh3B373AwBdaUT/V+KJACKESwPT+cMDYyaXAXzo3P5T04D93Ic7Ap1EXPwI9ML8aq43AqJVVwFi32MBg+PrAdrUHQWutoD9FcrZARIixv22JFEFaABDAxstcv5/zSr5w++jAz/Y8QEoWW7+2xtw/gqBFv8c2M0CpcN9A1jvUwJRYKsBGvWnAnRyfQEOrEkDjTV9AN6lnQDAT8D89Aq29/dnlPuRq9cC0DJ2/XEu2wCkJD7/5Fzy/uLObwPQqhj+GzoPASga+Pqq3YsAaO33AUF3KwMtO5ECZyYpALzS3P7plsj54nrHA8tn0v2Ln9T8zC7I/3UO4v795ID/+Ty3ANNqOwNmtVsDOThjAK+a0wCev9b8XiENATC9YPuJ+VEBAJZTA+btBP5GoVz875wDAu2LmQBuVb0ASbODARfMmQfsJpj8ATP8/i0aJPwfrV8Cc2QBA72MmP+QmED9piG4/75juPxm4pcALhBrALJjFPvEmfEAUOQA/7KqbwP4BAEEi2atAu53nvwmA38DkK48/8qnOvsw1N8C9QUXAdvCwv3HLJL/T1g3BoNaJwEPeq0BD8FLA",
          "dtype": "f4"
         },
         "yaxis": "y"
        },
        {
         "customdata": [
          [
           "047506"
          ],
          [
           "045515"
          ],
          [
           "148210"
          ],
          [
           "029971"
          ],
          [
           "116874"
          ],
          [
           "010678"
          ],
          [
           "125187"
          ],
          [
           "136134"
          ],
          [
           "140874"
          ],
          [
           "012513"
          ],
          [
           "127266"
          ],
          [
           "085973"
          ],
          [
           "021707"
          ],
          [
           "000602"
          ],
          [
           "023014"
          ],
          [
           "057648"
          ],
          [
           "125188"
          ],
          [
           "140791"
          ],
          [
           "049843"
          ],
          [
           "067763"
          ],
          [
           "144546"
          ],
          [
           "108304"
          ],
          [
           "087971"
          ],
          [
           "045514"
          ],
          [
           "087965"
          ],
          [
           "127192"
          ],
          [
           "010485"
          ],
          [
           "012985"
          ],
          [
           "085967"
          ],
          [
           "118672"
          ],
          [
           "002097"
          ],
          [
           "004037"
          ],
          [
           "008261"
          ],
          [
           "084159"
          ],
          [
           "012487"
          ],
          [
           "144472"
          ],
          [
           "145553"
          ],
          [
           "012486"
          ],
          [
           "056517"
          ],
          [
           "073658"
          ],
          [
           "113950"
          ],
          [
           "085436"
          ],
          [
           "012045"
          ],
          [
           "023015"
          ],
          [
           "117632"
          ],
          [
           "097216"
          ],
          [
           "091933"
          ],
          [
           "088879"
          ],
          [
           "045518"
          ],
          [
           "000204"
          ],
          [
           "148190"
          ],
          [
           "105715"
          ],
          [
           "000620"
          ],
          [
           "122353"
          ],
          [
           "072605"
          ],
          [
           "123094"
          ],
          [
           "144550"
          ],
          [
           "125192"
          ],
          [
           "097587"
          ],
          [
           "010387"
          ],
          [
           "091098"
          ],
          [
           "012046"
          ],
          [
           "000140"
          ],
          [
           "148214"
          ],
          [
           "124425"
          ],
          [
           "003265"
          ],
          [
           "080004"
          ],
          [
           "004450"
          ],
          [
           "006855"
          ],
          [
           "031389"
          ],
          [
           "108300"
          ],
          [
           "085485"
          ],
          [
           "134084"
          ],
          [
           "129442"
          ],
          [
           "079986"
          ],
          [
           "133638"
          ],
          [
           "063257"
          ],
          [
           "107583"
          ],
          [
           "012489"
          ],
          [
           "006406"
          ],
          [
           "012490"
          ],
          [
           "012049"
          ],
          [
           "105890"
          ],
          [
           "072562"
          ],
          [
           "000714"
          ],
          [
           "130951"
          ],
          [
           "027258"
          ],
          [
           "050952"
          ],
          [
           "012067"
          ],
          [
           "012481"
          ],
          [
           "034484"
          ],
          [
           "006783"
          ],
          [
           "107571"
          ],
          [
           "096695"
          ],
          [
           "085491"
          ],
          [
           "001702"
          ],
          [
           "052946"
          ],
          [
           "040243"
          ],
          [
           "045520"
          ],
          [
           "109447"
          ],
          [
           "005936"
          ],
          [
           "012066"
          ],
          [
           "091936"
          ],
          [
           "139520"
          ],
          [
           "088871"
          ],
          [
           "063253"
          ],
          [
           "049856"
          ],
          [
           "113357"
          ],
          [
           "148535"
          ],
          [
           "088867"
          ],
          [
           "139523"
          ],
          [
           "088861"
          ],
          [
           "085693"
          ],
          [
           "130953"
          ],
          [
           "117628"
          ],
          [
           "131901"
          ],
          [
           "120172"
          ],
          [
           "040241"
          ],
          [
           "137907"
          ],
          [
           "144471"
          ],
          [
           "085968"
          ],
          [
           "068841"
          ],
          [
           "111188"
          ],
          [
           "106339"
          ],
          [
           "125189"
          ],
          [
           "144469"
          ],
          [
           "003880"
          ],
          [
           "010440"
          ],
          [
           "051918"
          ],
          [
           "045513"
          ],
          [
           "057176"
          ],
          [
           "013929"
          ],
          [
           "010575"
          ],
          [
           "096693"
          ],
          [
           "111182"
          ],
          [
           "142516"
          ],
          [
           "065893"
          ],
          [
           "011504"
          ],
          [
           "109446"
          ],
          [
           "129439"
          ],
          [
           "130944"
          ]
         ],
         "hovertemplate": "genre_name=Folk<br>PC1 (23.2%)=%{x}<br>PC2 (16.4%)=%{y}<br>track_id=%{customdata[0]}<extra></extra>",
         "legendgroup": "Folk",
         "marker": {
          "color": "#ab63fa",
          "symbol": "circle"
         },
         "mode": "markers",
         "name": "Folk",
         "showlegend": true,
         "type": "scattergl",
         "x": {
          "bdata": "1K7sPopZ6cCiUorA/t0cwSAANcE3azLBINeXwK/o6MCMzDnBCobawKGlJsFrNL/ADEjJQFupJ8EkUs/AYmV+QEfOQsDwSrRA8excwavB4sCu4LvAcIZqwQYql8BIfto//RkjwTi5RcGb0qbA058hwIZtFcHZWPC/RtTcwKqLL8FBf9G/otRGwcMSFsHr50HAZ1sUwe1CtMFcUPy+Tl7HwFlwNMAjAiXBphz3wCwJEEAmUfHAlk0awUx5KMFEOn/Afm0FwSfvvr/FvsvAF10NwfkarsD+/WLAIvbowBZgrcDT+VDAg7WswGSALsBCWnPA50gNwbKG7sB53SfAMxKUQDfI7sBuhFPB69XtwNRGEcHXTgdAETsVwZr9AMGX2yvBUsbqwFA/JMG3CX/AOP8BwaKBsj3gQwHBkFQgwUvNBcGYviXBMjr/wPFpk8E8MN/AO+mlwFJNpsD63grBt7ztwL8hu8BNWCDBoaZcPwVxtsBl8gjBqBwZwMnR3MDxxerAtJgJwRKKHsFups3AJMo0wd3cCMG64hrBrrjAwF4kAMElGAvAMvX7wPx7g8Hs2bLA3vG+wJMePsB63KXA3NsTwfzoGcEO1MzAqQOYv4KDREBao6nBBCHFwLLrpsCBO9Y/I5kKwGE3zcCHat7A3+kewbN2wb+BEdTAP3mCwEokw8C5k8jA1mgzweqLxT96UtjAI+4UwH8Hf0CvEO+/o2crwT7Mi0DNo9TADUtpwZNRBcH1FOy/",
          "dtype": "f4"
         },
         "xaxis": "x",
         "y": {
          "bdata": "uMrEQLRQjsD/9HVA72AXQfI70kCw0y5B1VMCQOfhdz8EoWFBOVCVvwQ3XkEuxp8/+7zXvtiFaT0Z+exA1g6EvluLGUHaTU+/RAtgQaoZjr6cJnxBE8ORQSneSED5HbLAEPUQQY6YDUCc1RY9mcCGQcpQuz8hx1O/qu7fvw9pdT+osok/sQgmQVtjCUHCfU4+nsChwEX1lkFLPetAippZP8DtN0Ed6XbAmdOHv234KT9wsqw/PLlyQbASMkDiYuzA0ocAQLrKqUDxl1tAVO8jQWPMN7+z5nhAGDaVP9OobEEFaCRBg20mQR7C0j9kLVxANjFwQUZ5Kj8su95A3IdAPAfrJUH82M0/DUYkQX/DHcAcoSJBXjNdPVFYF0G2eOVAeatyv7ti/T9qip9A1qZnQHHOQsA8XE9AoHWjQCq2Z8DGrVlBFyTCwIxYRUHigX9Aruvkv2RwRkF3MYa/twYcwByL4z9quw5BlGm8QPi+FEAPZ0pBVJMvQHO64EDaAJI+VArGQHE8i0BJ2OO/FsYHQb7pCkDBPhRB8pRCQY1kpT/0EsnAE8ihwH0nMEFYX6NAkXIRQeIdC0CTuto/7FcLP1iYBkEX8fZA6KVxQBfLZMAVweRBKGrWP2mUiUHuMILAHiPYQK0ng0AKV9NAExSBQQSzsj96ebLA3MPGQFa7MEDEqApB18fyvxvP974X8NdAA4z4QPYKwz/8a2pAnYU/Qfav4EDGKRtBMUU7QWcR7T90GmJB",
          "dtype": "f4"
         },
         "yaxis": "y"
        },
        {
         "customdata": [
          [
           "093921"
          ],
          [
           "116489"
          ],
          [
           "133450"
          ],
          [
           "123760"
          ],
          [
           "111148"
          ],
          [
           "054152"
          ],
          [
           "130752"
          ],
          [
           "045393"
          ],
          [
           "126882"
          ],
          [
           "133972"
          ],
          [
           "115293"
          ],
          [
           "113788"
          ],
          [
           "133433"
          ],
          [
           "144600"
          ],
          [
           "118068"
          ],
          [
           "095727"
          ],
          [
           "123484"
          ],
          [
           "141876"
          ],
          [
           "139485"
          ],
          [
           "050956"
          ],
          [
           "111226"
          ],
          [
           "133449"
          ],
          [
           "129044"
          ],
          [
           "126318"
          ],
          [
           "116488"
          ],
          [
           "145189"
          ],
          [
           "082928"
          ],
          [
           "117252"
          ],
          [
           "133452"
          ],
          [
           "126185"
          ],
          [
           "081523"
          ],
          [
           "126408"
          ],
          [
           "075434"
          ],
          [
           "122511"
          ],
          [
           "144801"
          ],
          [
           "127211"
          ],
          [
           "128469"
          ],
          [
           "126320"
          ],
          [
           "131917"
          ],
          [
           "126217"
          ],
          [
           "094037"
          ],
          [
           "122621"
          ],
          [
           "116758"
          ],
          [
           "127494"
          ],
          [
           "086038"
          ],
          [
           "150268"
          ],
          [
           "081814"
          ],
          [
           "134580"
          ],
          [
           "139777"
          ],
          [
           "133580"
          ],
          [
           "108881"
          ],
          [
           "120773"
          ],
          [
           "080402"
          ],
          [
           "111228"
          ],
          [
           "120322"
          ],
          [
           "136331"
          ],
          [
           "131983"
          ],
          [
           "124181"
          ],
          [
           "131787"
          ],
          [
           "147309"
          ],
          [
           "115294"
          ],
          [
           "123485"
          ],
          [
           "120299"
          ],
          [
           "133562"
          ],
          [
           "143239"
          ],
          [
           "125822"
          ],
          [
           "120318"
          ],
          [
           "122635"
          ],
          [
           "143304"
          ],
          [
           "126410"
          ],
          [
           "116759"
          ],
          [
           "121472"
          ],
          [
           "093919"
          ],
          [
           "128816"
          ],
          [
           "116177"
          ],
          [
           "108023"
          ],
          [
           "122646"
          ],
          [
           "126588"
          ],
          [
           "132678"
          ],
          [
           "114372"
          ],
          [
           "108880"
          ],
          [
           "109189"
          ],
          [
           "119899"
          ],
          [
           "014588"
          ],
          [
           "014584"
          ],
          [
           "092952"
          ],
          [
           "128886"
          ],
          [
           "111221"
          ],
          [
           "125616"
          ],
          [
           "139537"
          ],
          [
           "108024"
          ],
          [
           "108476"
          ],
          [
           "115773"
          ],
          [
           "133438"
          ],
          [
           "121663"
          ],
          [
           "123763"
          ],
          [
           "116526"
          ],
          [
           "063292"
          ],
          [
           "108025"
          ],
          [
           "126216"
          ],
          [
           "131985"
          ],
          [
           "126180"
          ],
          [
           "081485"
          ],
          [
           "128470"
          ],
          [
           "122633"
          ],
          [
           "040656"
          ],
          [
           "116527"
          ],
          [
           "119828"
          ],
          [
           "133447"
          ],
          [
           "041573"
          ],
          [
           "040655"
          ],
          [
           "112001"
          ],
          [
           "134586"
          ],
          [
           "143309"
          ],
          [
           "129040"
          ],
          [
           "143305"
          ],
          [
           "054156"
          ],
          [
           "117609"
          ],
          [
           "133454"
          ],
          [
           "127495"
          ],
          [
           "052447"
          ],
          [
           "063291"
          ],
          [
           "062005"
          ],
          [
           "126716"
          ],
          [
           "081543"
          ],
          [
           "114535"
          ],
          [
           "118952"
          ],
          [
           "046525"
          ],
          [
           "111793"
          ],
          [
           "103521"
          ],
          [
           "108878"
          ],
          [
           "143303"
          ],
          [
           "125621"
          ],
          [
           "133448"
          ],
          [
           "126886"
          ],
          [
           "122626"
          ],
          [
           "075432"
          ],
          [
           "122623"
          ],
          [
           "124874"
          ],
          [
           "116757"
          ],
          [
           "081457"
          ],
          [
           "117160"
          ],
          [
           "014579"
          ],
          [
           "129186"
          ],
          [
           "123461"
          ],
          [
           "131476"
          ],
          [
           "134453"
          ],
          [
           "130989"
          ],
          [
           "131795"
          ],
          [
           "087103"
          ],
          [
           "130929"
          ],
          [
           "123488"
          ],
          [
           "020375"
          ]
         ],
         "hovertemplate": "genre_name=Instrumental<br>PC1 (23.2%)=%{x}<br>PC2 (16.4%)=%{y}<br>track_id=%{customdata[0]}<extra></extra>",
         "legendgroup": "Instrumental",
         "marker": {
          "color": "#FFA15A",
          "symbol": "circle"
         },
         "mode": "markers",
         "name": "Instrumental",
         "showlegend": true,
         "type": "scattergl",
         "x": {
          "bdata": "Mn/NwOUAqMAxXsvA8ubiwPDm8MD82hNBX2PSwLuKp8Clll7A3jScQHKH1cA7QL2//B0TwbnLAcGwpAfAszLRwOur6sDKC/TAQ4e2wKU2PcCZlG/AGRIcwYJEqcBDO0S/F20TwWd2qsATbjDAEZL3wLSviMAN/cjAlWJNQF7R4MDEUrLApe7ywC6A4MCWLIHAnU0CwQmKmMDTvSbBdDGLwDXl9MDQThjBgRsaweHUg8ABr9jA/EOVwD/lHcFHzhHBQLUVwH6xA8GkUtzAocOfwPp17MBSuAvBb/jIwLeWxsBJiynBnC6bQNsBBsArRq3A9SGSwIww2MDB3Ty/btHtwLYk5sDXYV7ARlqVv8KWE7+iAXrAZ1gfwF/Mi8Cqc57A8gDswGzuD8GI3rrAiuMWwe+yu8A1K+HAXum7wKXS48CHs7DALHAYwSVFgsAuc8I/HfMMwbChf8DpGA/BwXzaP3soYcAlwRXBIJf6wAtMlsB40S/Bv5//wA5TocDbmQjBiRTRwCoJWb9OqevAAxIuwbdBLMHHp7PA+MuLQFcvq8Ak8dS/YXg6wDCP4MCKbEzA9JjswG+lNcCmtKLAkvwMwfp+9sAO2k/AEJk7vxe0kj+g/xRAYGjmwJ7D7cD3yM/AbkqMwE5eBUDidZjASOoOwYKEisAMo2zAKRj0wCAzksBG9aK/whUIwN9hrsAD5ybBnLz0v+j8z8CXFMLAqT+twHytxsDw/wbBNh25wD/kEcBHFADB8MOjwOSPH8HTmSPBmnu/wEwqCsF9/ePA1Ll9wJi6dUHnzPPAMO4mwe94AcF4caDA",
          "dtype": "f4"
         },
         "xaxis": "x",
         "y": {
          "bdata": "sz0LwUJpOMEMu+7AtJfNwFuyqsBQaDE/B8zWwM8vucCB7vnAUA2XvvaGzcBVvCTBzc4LwXI+mcD9kZjAy8vNwKhMAsENTyHBBDOowJ+D88CvjS3ATCQzweNt98D4GlNAY5oswTuO3cD986XAvUjywBoEGMEwERfBN+IWwbUCJMFYiavAjjihwDOZmMCMpfDAZ07ZwN8/z7/dxBzBsV8IwYJIAcEW71XAmdwFwTbTksDFuC2+73erwPUJVsG4Q1LBCBY3wfvTGcF31TbAt2wQwRTO78BhRMK/GQJRP6WV8sAPo+3Au7w4v63A08D98hXBxKX7wAuRpMCyngHBIP0tweaVrcAyO0XBl68OwUxLEMEoslJAp24JwTIUb8CJulM/IqcCwWEjwsB+ZqXARZ4QwU9qJ8BY5AvBdp0jwHRzEMG9GpvAMXe7vy059MB15co+WO6IwF0DKsH4/vzAu6arwFqAR8GekO4/P2cmwe1zHcFUTrnAmCUbwb8tFMHtT8vA71+nwBiNLz8xwBvBnZkbwb7q5cCjcMW+MJsWwTHuGb81tr3AGRzXv5QmMcDMw/G/etH1wCh9LcGKHtHAlNrNwMuhE8HlkV5Adsr7wCyvtL8Wa4W/A5XYwLZXA8G8W2fBm0UxwaczNECSyoi/7bNEwRXm3cCySwfBJ3wQwe5lKsGOTerA80hKQLpTkr/jTuQ/40/awBMFAcBP+BTBBjGGwKW2msAuLGDAEO8ewcKSD8F2c17B+0r1wPUOur9OeAPBPBv4v+DWHcGxZTHBmttCwBZ0j0Dr8R/BP+zVwIYPHMGoMALA",
          "dtype": "f4"
         },
         "yaxis": "y"
        },
        {
         "customdata": [
          [
           "067366"
          ],
          [
           "122473"
          ],
          [
           "056248"
          ],
          [
           "067362"
          ],
          [
           "120189"
          ],
          [
           "132787"
          ],
          [
           "120179"
          ],
          [
           "109978"
          ],
          [
           "130372"
          ],
          [
           "021401"
          ],
          [
           "086118"
          ],
          [
           "145702"
          ],
          [
           "113809"
          ],
          [
           "036618"
          ],
          [
           "127912"
          ],
          [
           "042911"
          ],
          [
           "022474"
          ],
          [
           "067360"
          ],
          [
           "052042"
          ],
          [
           "127288"
          ],
          [
           "028802"
          ],
          [
           "129055"
          ],
          [
           "091163"
          ],
          [
           "032339"
          ],
          [
           "083512"
          ],
          [
           "012551"
          ],
          [
           "054034"
          ],
          [
           "000822"
          ],
          [
           "016340"
          ],
          [
           "048450"
          ],
          [
           "107047"
          ],
          [
           "029271"
          ],
          [
           "125721"
          ],
          [
           "061670"
          ],
          [
           "148587"
          ],
          [
           "085600"
          ],
          [
           "085421"
          ],
          [
           "113023"
          ],
          [
           "113017"
          ],
          [
           "012537"
          ],
          [
           "022473"
          ],
          [
           "124474"
          ],
          [
           "111396"
          ],
          [
           "010808"
          ],
          [
           "029128"
          ],
          [
           "091471"
          ],
          [
           "085425"
          ],
          [
           "075314"
          ],
          [
           "126402"
          ],
          [
           "034511"
          ],
          [
           "120199"
          ],
          [
           "074945"
          ],
          [
           "053229"
          ],
          [
           "126354"
          ],
          [
           "132779"
          ],
          [
           "131449"
          ],
          [
           "104068"
          ],
          [
           "041819"
          ],
          [
           "122579"
          ],
          [
           "053591"
          ],
          [
           "067333"
          ],
          [
           "087189"
          ],
          [
           "148289"
          ],
          [
           "017906"
          ],
          [
           "108429"
          ],
          [
           "087186"
          ],
          [
           "047835"
          ],
          [
           "022475"
          ],
          [
           "055293"
          ],
          [
           "126400"
          ],
          [
           "092130"
          ],
          [
           "071709"
          ],
          [
           "108425"
          ],
          [
           "148606"
          ],
          [
           "062742"
          ],
          [
           "123509"
          ],
          [
           "150017"
          ],
          [
           "028480"
          ],
          [
           "120200"
          ],
          [
           "109976"
          ],
          [
           "016163"
          ],
          [
           "067367"
          ],
          [
           "121594"
          ],
          [
           "057437"
          ],
          [
           "138066"
          ],
          [
           "059443"
          ],
          [
           "120208"
          ],
          [
           "025104"
          ],
          [
           "142551"
          ],
          [
           "126407"
          ],
          [
           "144935"
          ],
          [
           "094634"
          ],
          [
           "129362"
          ],
          [
           "066649"
          ],
          [
           "019417"
          ],
          [
           "126427"
          ],
          [
           "048452"
          ],
          [
           "021999"
          ],
          [
           "072476"
          ],
          [
           "022476"
          ],
          [
           "032760"
          ],
          [
           "027164"
          ],
          [
           "113933"
          ],
          [
           "087188"
          ],
          [
           "120105"
          ],
          [
           "127297"
          ],
          [
           "062448"
          ],
          [
           "021232"
          ],
          [
           "056247"
          ],
          [
           "124480"
          ],
          [
           "039661"
          ],
          [
           "076130"
          ],
          [
           "124484"
          ],
          [
           "104065"
          ],
          [
           "075317"
          ],
          [
           "122503"
          ],
          [
           "066646"
          ],
          [
           "111379"
          ],
          [
           "145705"
          ],
          [
           "135342"
          ],
          [
           "036560"
          ],
          [
           "007527"
          ],
          [
           "149101"
          ],
          [
           "051273"
          ],
          [
           "122800"
          ],
          [
           "121734"
          ],
          [
           "129374"
          ],
          [
           "141182"
          ],
          [
           "051275"
          ],
          [
           "111378"
          ],
          [
           "141181"
          ],
          [
           "051267"
          ],
          [
           "012376"
          ],
          [
           "127204"
          ],
          [
           "094630"
          ],
          [
           "012146"
          ],
          [
           "032329"
          ],
          [
           "129372"
          ],
          [
           "091159"
          ],
          [
           "052045"
          ],
          [
           "067363"
          ],
          [
           "129056"
          ],
          [
           "122498"
          ],
          [
           "021409"
          ],
          [
           "036371"
          ],
          [
           "027549"
          ],
          [
           "131772"
          ],
          [
           "111386"
          ],
          [
           "127189"
          ],
          [
           "135337"
          ],
          [
           "038961"
          ],
          [
           "122500"
          ],
          [
           "051120"
          ],
          [
           "028485"
          ],
          [
           "148607"
          ],
          [
           "013220"
          ],
          [
           "018144"
          ],
          [
           "148609"
          ],
          [
           "058115"
          ]
         ],
         "hovertemplate": "genre_name=Pop<br>PC1 (23.2%)=%{x}<br>PC2 (16.4%)=%{y}<br>track_id=%{customdata[0]}<extra></extra>",
         "legendgroup": "Pop",
         "marker": {
          "color": "#19d3f3",
          "symbol": "circle"
         },
         "mode": "markers",
         "name": "Pop",
         "showlegend": true,
         "type": "scattergl",
         "x": {
          "bdata": "S6+QPw44tD+ZDPRAutobP76RDkCmV0bAUtS+u1+R9sCJVPE/wt3Iv11vSkF85eNA8LHyQEiRTkCQ2z/AXA8GQJo3scDCT/6/PamXv7ee2MBuBNu/fy77QOAw+T1HN/zA7+UiwQfT8b8l0wbBjSJtQQxUDUBkBq/AOWQdQTGgIUB9pbLAY/FBQFm0mr91h53AttHLv8TwfEDX3+A/hjRtQGMJs8Bfu4bAKdYmwODNTT+oKYtAOYx3v07BWcCQnMpAZ+eqPlD9AMG/DVnAjdMSwPvMI75uZgfAinzSvt/FWb/l5t/AYYoxQHI0yMCq+Jo/nED6vws/icBM/STArOpnQLb/nb+hvh/A2UH5vztt3D99Yku/30GiwJUfeUCqXsvAXlqJQJ0y578Q9BfBjawgwRIpO0B9rArAhA5cQNJrzT5ooQC+LBv3QAQAML6jGgnAAJypwPhDwsB6l/1As+UGwEWPFsASzWTASNsDQE0b278krCDBLs/pQOi7yMBHoBY/4ZYSwOEgG0GHHIlASBa9wFtvF8DKwQPAEaSyQK8ZGT/SO6TAeQw7v8Ibi8CiwPy/LIVpQMoqncD8tb8+SJMiQWM4rsBTaOHANYf4PwRI5sDyIChAKz1AQL3o0kAEc70/T3rbP9TKHr/jUFvABYcRPoaxkkBRrvXA/le7wJcBl7/tE0hB3FQnwI8/Rr9HtGFAfhynwMQa2b9dWZ7ANKxwQJuaD8BYN7HA+5dgQCA0ScAzjR+/lv7uQLL9B8ENGrW/+ZtsQLMCacBEPZLARld3QUITAsES+wPA3apOQOaBucDWxYPAinFvP9DVwUDhX09BN9/Svhp/778RAFTA",
          "dtype": "f4"
         },
         "xaxis": "x",
         "y": {
          "bdata": "xrmNQISQJL9oO0PAT+u6v5J7kkAGaTbABNpXPfI4Wb+d5LnADpfXQPnpgb/SJ/y+2WwIQYsqKEDL/sy/QdyhwEVGKUFJo3w9NV4Nv2IcLcBVJirAuXw3wBF4f8A/tRtBzz4gwJcZIz9yhALAP75Rv+xSO0BkkQvBp6FewBqHsT/GLGVAge53QIiaykCKCNrALnQwQFdTIr44rYBA0ys9wHsVa0Fppm7A5Z/kQOKEu78hHTY+W3yLwOkmA0G+VpZA8NV7wEAosMClcM6/uPg4QayQ4j7hXnLAN17wQI0iz0Cd4oK/U8c8vwISIMGhviC/0dbMwCyGBEA5IJQ/B44KQKgYx8BWks/AG6AFwB47r0DEqqy9hEpvQBSyfMDPqvxA1fN3wPx1DT6c0wvB5cu9wJfzhECoB/fARJwPvo7GAkDvPQY/Y3NeP/3/+EDvm1LAMkJ6wHAvVMCCF2bAizFVQb/1F0BUdvu/KISGQIqvVkDrwc1A31AUwf3wpb+75l7AFgrNwNAQJsDpmu/Aenf6PqHMXECnm+lA3MODwFoyTsA44DTABOsEQD7KmMC451a+uTRuwNGQ38CDp29AUL8uwOav5cBs9k5AtliNwK7kNL7WWnE/SUcTQGloYUC8BOxA13miwGFqdkAE/sNAivIHwRojwUANGJZARfAHQO6iD8FYhuS+5FZPQHDOXT97ghu/rJrZQNkolj8yQVxATarWPpqBeD/zjoNBug6GvjazIr9HldQ+DeM1QB1F579EzVJAonsPQF9FikGjqAfATbV7wGAeyED/zdtAD2chwDP2JsAT/ea+GHPTwMSwHkAQG3O/ElE5QJ8Sv7+0FV3A",
          "dtype": "f4"
         },
         "yaxis": "y"
        },
        {
         "customdata": [
          [
           "038910"
          ],
          [
           "119026"
          ],
          [
           "051112"
          ],
          [
           "034263"
          ],
          [
           "019192"
          ],
          [
           "089992"
          ],
          [
           "118277"
          ],
          [
           "112789"
          ],
          [
           "037784"
          ],
          [
           "026600"
          ],
          [
           "121998"
          ],
          [
           "030636"
          ],
          [
           "024216"
          ],
          [
           "064252"
          ],
          [
           "126505"
          ],
          [
           "049068"
          ],
          [
           "001259"
          ],
          [
           "040147"
          ],
          [
           "001083"
          ],
          [
           "055480"
          ],
          [
           "092872"
          ],
          [
           "068540"
          ],
          [
           "118084"
          ],
          [
           "112583"
          ],
          [
           "034994"
          ],
          [
           "073822"
          ],
          [
           "128827"
          ],
          [
           "073821"
          ],
          [
           "112780"
          ],
          [
           "138256"
          ],
          [
           "122003"
          ],
          [
           "112781"
          ],
          [
           "113558"
          ],
          [
           "144810"
          ],
          [
           "027454"
          ],
          [
           "067500"
          ],
          [
           "097407"
          ],
          [
           "148082"
          ],
          [
           "126506"
          ],
          [
           "073099"
          ],
          [
           "126512"
          ],
          [
           "026605"
          ],
          [
           "119583"
          ],
          [
           "123333"
          ],
          [
           "117991"
          ],
          [
           "127798"
          ],
          [
           "133294"
          ],
          [
           "082231"
          ],
          [
           "115597"
          ],
          [
           "128828"
          ],
          [
           "116517"
          ],
          [
           "122910"
          ],
          [
           "064893"
          ],
          [
           "044848"
          ],
          [
           "119118"
          ],
          [
           "069798"
          ],
          [
           "024899"
          ],
          [
           "042119"
          ],
          [
           "066483"
          ],
          [
           "056888"
          ],
          [
           "047192"
          ],
          [
           "122155"
          ],
          [
           "122004"
          ],
          [
           "110610"
          ],
          [
           "082881"
          ],
          [
           "132589"
          ],
          [
           "059930"
          ],
          [
           "057630"
          ],
          [
           "067829"
          ],
          [
           "092574"
          ],
          [
           "145043"
          ],
          [
           "024975"
          ],
          [
           "015541"
          ],
          [
           "009721"
          ],
          [
           "035444"
          ],
          [
           "039378"
          ],
          [
           "030690"
          ],
          [
           "124519"
          ],
          [
           "048861"
          ],
          [
           "028376"
          ],
          [
           "051157"
          ],
          [
           "121985"
          ],
          [
           "038896"
          ],
          [
           "115852"
          ],
          [
           "127402"
          ],
          [
           "108313"
          ],
          [
           "046058"
          ],
          [
           "038884"
          ],
          [
           "029738"
          ],
          [
           "139862"
          ],
          [
           "131024"
          ],
          [
           "039316"
          ],
          [
           "027866"
          ],
          [
           "119582"
          ],
          [
           "039904"
          ],
          [
           "042139"
          ],
          [
           "109144"
          ],
          [
           "011946"
          ],
          [
           "074347"
          ],
          [
           "038890"
          ],
          [
           "118499"
          ],
          [
           "038914"
          ],
          [
           "114974"
          ],
          [
           "137551"
          ],
          [
           "057939"
          ],
          [
           "119086"
          ],
          [
           "042141"
          ],
          [
           "108318"
          ],
          [
           "038899"
          ],
          [
           "119063"
          ],
          [
           "072926"
          ],
          [
           "039259"
          ],
          [
           "134631"
          ],
          [
           "040123"
          ],
          [
           "126557"
          ],
          [
           "097793"
          ],
          [
           "035008"
          ],
          [
           "009918"
          ],
          [
           "075975"
          ],
          [
           "121366"
          ],
          [
           "092887"
          ],
          [
           "149778"
          ],
          [
           "069789"
          ],
          [
           "034996"
          ],
          [
           "091900"
          ],
          [
           "047198"
          ],
          [
           "128992"
          ],
          [
           "097406"
          ],
          [
           "047201"
          ],
          [
           "010535"
          ],
          [
           "112821"
          ],
          [
           "074960"
          ],
          [
           "097813"
          ],
          [
           "057344"
          ],
          [
           "105719"
          ],
          [
           "012346"
          ],
          [
           "030095"
          ],
          [
           "084054"
          ],
          [
           "015464"
          ],
          [
           "112668"
          ],
          [
           "079978"
          ]
         ],
         "hovertemplate": "genre_name=Experimental<br>PC1 (23.2%)=%{x}<br>PC2 (16.4%)=%{y}<br>track_id=%{customdata[0]}<extra></extra>",
         "legendgroup": "Experimental",
         "marker": {
          "color": "#FF6692",
          "symbol": "circle"
         },
         "mode": "markers",
         "name": "Experimental",
         "showlegend": true,
         "type": "scattergl",
         "x": {
          "bdata": "FLK0QGLIKMB+0PVAMkwPwakstMBHUljAx6XQwHAgBsGT+nDA0wtZQJpNdcDWI54/ajX5wInyu78ZA1jAHfGjvzxI6r8vCONAKgW8wPHs0UB2wzHASi8swN6WmcBJXsrAC3wkQO4uT0ANJVDAtloRQDiFLMBZ9ZPASNspwNPLvsBKOtrA+jD/wNbDlD/FuWnAcpUTQE2eh8CiBBTAP5odQBP0osBbZpfASdDkv4gFor/d6J3AiCNVwFqoBUEJc0G/zg3MwOWei8BYu6W/ccwbwaDsC8CZ4xLB5Ss0wOXl970cX3fAHuQGwKQg38CwSuLAgr94v2vuxMDf7B7AIRCWQFlWgT9pyuC/QLp9wA8pfsDDvdQ/YM2Vv13HU8CwvuTAE/XTwJCkssB9mODALQoWwdmaRcDgL5HA8EH5QHZcrcBkChm/1zWOwFW1zD2umUa/51KRwE6twz5eYu2/UyBdv8dUBcAiqjdAGtw3wIk+38C52RTBLIHoP2fLX79xd9o/6erhwKlPncBE+43A5vZJv+g1DsGHO/W+bzbAwLOLbEB1/gdBbvWJwPS/A8CJyHDAjPG8QODtaMCmNJLAMIf7wJh6TcCpEJVATlHWwEQj5kBwAba/ip3KwIGvmsBNP84/atvCwNAuxcCYDMXAhVPIvURmpr7O4KM/6mKkwO4SYsCo6gG/HZA1QUGY9b8khxnBfIfwvtxdT0AFDYvA4wKkwOJolEBgUg7B0uFgwJZGur/Ln1vA",
          "dtype": "f4"
         },
         "xaxis": "x",
         "y": {
          "bdata": "CPTxwNaXW7+m4xTBD26uQFfWosDFemXAEerfwOX5xcBMk3vAa+Q/wUU1EMBODZk/9X8gwY4oHEHpqvXAq9vKwMN+gEBKXVPAvj9EwOhBCMAxC3bACzhaQC36p79sizA/xVAdQDfzOME1nrY//S5PwWFrCcHMifnAcUe1wMLRmsB/OdnAtygZQePRC76bIs/A+gdTwENDwEDFafPAuvAUQDJCS8FPGRvBiSr4P8aOgb7/MoTAYbnowDqYyj9w8PnA3XbIwFePQT/u+0DAjtyHwE8eR0Dy//bAtqmbP4HoaMA07Y3AE6+4P+jhCcEHfoJANet6wHvf2T45LAc9lRgSwWRs7MCWuajA9rnIPzEvKMHfw0m/A07twMSwGcBwMUK//8xRP5fOrcD9D0PAMcfqwA6BLsGa8XnAeqgAwZUzjsArDIXA14v7wI9NdMDx1TRABKG1QKMdAD+EtPfAl0cWwVRIN0GiKCY/2AnnwJLWHsHgWS3BC4kXQVh0+z8g2+0/AZbYwM/co8D++snAycbRwL5Tb8C6Y9LAdvmOQCneDj63TqlAhbwHwDZ7xr+2M7G+NSbHwBdGKb9dkyLBBhYLwYy1fT0h/w7AvSAAwZT4XsApMyjBC9e9wO96NcEecGc/6e0vQEBbA8GMS0ZAiinYwMl/u78ZqX7Ah9apwHpan8DKiFDAFgUwQEA0LsDu6ynBU/8EwaOWW8DSayjB3nK9vmBx2747jdLAP+pBP3es1sBrLhLB",
          "dtype": "f4"
         },
         "yaxis": "y"
        },
        {
         "customdata": [
          [
           "098580"
          ],
          [
           "112483"
          ],
          [
           "099096"
          ],
          [
           "091306"
          ],
          [
           "113035"
          ],
          [
           "108491"
          ],
          [
           "078850"
          ],
          [
           "112468"
          ],
          [
           "098583"
          ],
          [
           "089178"
          ],
          [
           "097986"
          ],
          [
           "075372"
          ],
          [
           "016880"
          ],
          [
           "075393"
          ],
          [
           "141166"
          ],
          [
           "071690"
          ],
          [
           "000695"
          ],
          [
           "011781"
          ],
          [
           "142359"
          ],
          [
           "097570"
          ],
          [
           "011766"
          ],
          [
           "108799"
          ],
          [
           "098554"
          ],
          [
           "064628"
          ],
          [
           "108808"
          ],
          [
           "056498"
          ],
          [
           "123979"
          ],
          [
           "011772"
          ],
          [
           "057820"
          ],
          [
           "026011"
          ],
          [
           "108841"
          ],
          [
           "148028"
          ],
          [
           "136449"
          ],
          [
           "068601"
          ],
          [
           "043866"
          ],
          [
           "058207"
          ],
          [
           "072130"
          ],
          [
           "099501"
          ],
          [
           "146713"
          ],
          [
           "146687"
          ],
          [
           "108501"
          ],
          [
           "150287"
          ],
          [
           "046726"
          ],
          [
           "071252"
          ],
          [
           "029719"
          ],
          [
           "063757"
          ],
          [
           "083718"
          ],
          [
           "131021"
          ],
          [
           "136468"
          ],
          [
           "097569"
          ],
          [
           "024428"
          ],
          [
           "089841"
          ],
          [
           "142086"
          ],
          [
           "108837"
          ],
          [
           "110777"
          ],
          [
           "069828"
          ],
          [
           "144182"
          ],
          [
           "119988"
          ],
          [
           "110771"
          ],
          [
           "146151"
          ],
          [
           "043844"
          ],
          [
           "091309"
          ],
          [
           "142361"
          ],
          [
           "014538"
          ],
          [
           "110776"
          ],
          [
           "006448"
          ],
          [
           "105450"
          ],
          [
           "029718"
          ],
          [
           "011794"
          ],
          [
           "108809"
          ],
          [
           "016879"
          ],
          [
           "011918"
          ],
          [
           "131422"
          ],
          [
           "014386"
          ],
          [
           "067233"
          ],
          [
           "075403"
          ],
          [
           "060472"
          ],
          [
           "128441"
          ],
          [
           "020469"
          ],
          [
           "016878"
          ],
          [
           "075925"
          ],
          [
           "070207"
          ],
          [
           "111938"
          ],
          [
           "010694"
          ],
          [
           "082778"
          ],
          [
           "012526"
          ],
          [
           "004684"
          ],
          [
           "026026"
          ],
          [
           "114272"
          ],
          [
           "078848"
          ],
          [
           "108487"
          ],
          [
           "145751"
          ],
          [
           "142666"
          ],
          [
           "108495"
          ],
          [
           "037417"
          ],
          [
           "010693"
          ],
          [
           "037423"
          ],
          [
           "064515"
          ],
          [
           "148031"
          ],
          [
           "154308"
          ],
          [
           "075750"
          ],
          [
           "137895"
          ],
          [
           "069563"
          ],
          [
           "145724"
          ],
          [
           "090982"
          ],
          [
           "098618"
          ],
          [
           "075419"
          ],
          [
           "044236"
          ],
          [
           "097692"
          ],
          [
           "000005"
          ],
          [
           "011776"
          ],
          [
           "006442"
          ],
          [
           "070770"
          ],
          [
           "011788"
          ],
          [
           "096678"
          ],
          [
           "142082"
          ],
          [
           "089848"
          ],
          [
           "006607"
          ],
          [
           "145730"
          ],
          [
           "129915"
          ],
          [
           "099093"
          ],
          [
           "142668"
          ],
          [
           "112481"
          ],
          [
           "094467"
          ],
          [
           "097987"
          ],
          [
           "089196"
          ],
          [
           "108838"
          ],
          [
           "063805"
          ],
          [
           "006443"
          ],
          [
           "043911"
          ],
          [
           "070772"
          ],
          [
           "144181"
          ],
          [
           "114047"
          ],
          [
           "032695"
          ],
          [
           "011795"
          ],
          [
           "134510"
          ],
          [
           "036990"
          ],
          [
           "036985"
          ],
          [
           "055572"
          ],
          [
           "069824"
          ],
          [
           "011818"
          ],
          [
           "006611"
          ],
          [
           "112485"
          ],
          [
           "144172"
          ],
          [
           "089860"
          ],
          [
           "075933"
          ],
          [
           "015210"
          ]
         ],
         "hovertemplate": "genre_name=Hip-Hop<br>PC1 (23.2%)=%{x}<br>PC2 (16.4%)=%{y}<br>track_id=%{customdata[0]}<extra></extra>",
         "legendgroup": "Hip-Hop",
         "marker": {
          "color": "#B6E880",
          "symbol": "circle"
         },
         "mode": "markers",
         "name": "Hip-Hop",
         "showlegend": true,
         "type": "scattergl",
         "x": {
          "bdata": "GwyyQQ4ZM0EK7nlB31KqQZz1iEHHdchBKlAyQSS76kAbd5RBGEMjQcTSMUGYcKhBz85/QeCEHEGeBQFBptCeQd8TOUE+hyZBLtMzQYCAEUF6qkRB+QMNQZRqVUGXF1BBRMQPQSrhoUEt2CPBgPOSQVWuOUD1SsdAg+j2P9iNGkFPMONACA8/QZall0FB5IdBXcDLQXzDiEG6go5B9zaEQU0vm0Ev/YdBIoDcQa14ZUEEGlk/eyeRQPFVI0Hy7EFBO4bwQFueSEGCrrdBPonoQUy1pEGs6QNBrLoyQTmKSkHYKBVA6KHaQK0VJEGDlsBAwhCJQRFhakAX3LBBwk6FQeJELEEb9htBNwKWQaz1y0CTxXBBsmlJQQ8Tn0CRrOFBtoeoQHFqt0HUwAZBBK5DQU2TQ0HvszxByuhbQTB9YkBY+q5A4S7WQL1YS0HJbbtA080BQYQMS0EgMgZBqWrMQL8mS0EwRxlBMnq4QSzqdUE9x4BB8pSUQSZTlEFQ97tAZP+xQDi9ZEEa0itBvxoeQVzNgEGI8YhBtmv9QDnLKEHBfZtBPmupQSzEn0GJKgRBElkGQWjEuEEDRnNBuC2DQXGS+kChUZpB+nxWQWZXDEE39oNB/9QpQb7E7kCCs29BdsyHQbBawkEGVdhAz++kwFh2eEGrxgm/c1epQVjMg0FCmkdBSwQgQMAr/0DYnplAlQnUQO/5A0Cj1zZBmU6RQSyNHEHORgtB7ozQQcNCFUG3dr9B4EuMQeL8qkAav4JBflJvQV1XK0Fhu7ZB",
          "dtype": "f4"
         },
         "xaxis": "x",
         "y": {
          "bdata": "k+30QFWMi8A5Iu9AX/twQKwAK0Cu+r5ACiKIv0mjUkCeppxAFT2Wv8TfUcA6YN0/nNkVQGP+IL9gEJhAfADIQDudOkBBLNXAEMbVPyOspT/8oR7AdmQBQEaYxz4apvG9LOYpQJj6rkDLM9bAF7IRQHBxisBeJLfA6luuwE3+i0A+VCs/C7uaQKvg1b9sqoc/LYrTQBD6CkFrKmtARjtkQFj340BfGYtASl7+QOi4oD/0ZpM+ZyslQKLq7L8PP1dAUby9v+aJ90BhHwBACJICQSe/gkCRxB3A/36wP2lVOUB7WdC/GkuDQAK1EMCi3/k/mllEQIrX2L9FGrdAjrSMQD/RTUCBRrhAXGXBQDPYiMDVWqS/ogqZQKxIAcDs13xAuNqlv31Vv0Bte+2+bpfeP9kUKD/XZK5A5DbdQBBKokAdvLe/RVfBQLtE2D/BQyvBHr3cQCa/vD/wWgE+zjYrQM4N+L8BY2m/Je+ZQNBdrUC07YHACwB9QHskhD89d/PARxR4QLqLeUDlbJVAJB2AwJW3AEAYWGJAAeWOQEvyMD+SKqVAcTG5QPwum0DHTJY/PEuzwPJs3EC6NPm/BUPsQA5Axb+qpWU/+FihQCd1r0BmIN4/TuDEQPZBBMBFhJhARLL/QIB6WUA7jVTAC746QGHhPED4azXAI2tqP38mCEFTkGpAcOuHwFxGsMCREBtAShgcvbjzvMB0ejK+7iXPQLwl+j7DBKK/C4aHQMlcjkDVxLpAsGkIQT+Rp8BdVflATBB1QPzjJMAw0bNA",
          "dtype": "f4"
         },
         "yaxis": "y"
        }
       ],
       "layout": {
        "legend": {
         "title": {
          "text": "genre_name"
         },
         "tracegroupgap": 0
        },
        "template": {
         "data": {
          "bar": [
           {
            "error_x": {
             "color": "#2a3f5f"
            },
            "error_y": {
             "color": "#2a3f5f"
            },
            "marker": {
             "line": {
              "color": "#E5ECF6",
              "width": 0.5
             },
             "pattern": {
              "fillmode": "overlay",
              "size": 10,
              "solidity": 0.2
             }
            },
            "type": "bar"
           }
          ],
          "barpolar": [
           {
            "marker": {
             "line": {
              "color": "#E5ECF6",
              "width": 0.5
             },
             "pattern": {
              "fillmode": "overlay",
              "size": 10,
              "solidity": 0.2
             }
            },
            "type": "barpolar"
           }
          ],
          "carpet": [
           {
            "aaxis": {
             "endlinecolor": "#2a3f5f",
             "gridcolor": "white",
             "linecolor": "white",
             "minorgridcolor": "white",
             "startlinecolor": "#2a3f5f"
            },
            "baxis": {
             "endlinecolor": "#2a3f5f",
             "gridcolor": "white",
             "linecolor": "white",
             "minorgridcolor": "white",
             "startlinecolor": "#2a3f5f"
            },
            "type": "carpet"
           }
          ],
          "choropleth": [
           {
            "colorbar": {
             "outlinewidth": 0,
             "ticks": ""
            },
            "type": "choropleth"
           }
          ],
          "contour": [
           {
            "colorbar": {
             "outlinewidth": 0,
             "ticks": ""
            },
            "colorscale": [
             [
              0,
              "#0d0887"
             ],
             [
              0.1111111111111111,
              "#46039f"
             ],
             [
              0.2222222222222222,
              "#7201a8"
             ],
             [
              0.3333333333333333,
              "#9c179e"
             ],
             [
              0.4444444444444444,
              "#bd3786"
             ],
             [
              0.5555555555555556,
              "#d8576b"
             ],
             [
              0.6666666666666666,
              "#ed7953"
             ],
             [
              0.7777777777777778,
              "#fb9f3a"
             ],
             [
              0.8888888888888888,
              "#fdca26"
             ],
             [
              1,
              "#f0f921"
             ]
            ],
            "type": "contour"
           }
          ],
          "contourcarpet": [
           {
            "colorbar": {
             "outlinewidth": 0,
             "ticks": ""
            },
            "type": "contourcarpet"
           }
          ],
          "heatmap": [
           {
            "colorbar": {
             "outlinewidth": 0,
             "ticks": ""
            },
            "colorscale": [
             [
              0,
              "#0d0887"
             ],
             [
              0.1111111111111111,
              "#46039f"
             ],
             [
              0.2222222222222222,
              "#7201a8"
             ],
             [
              0.3333333333333333,
              "#9c179e"
             ],
             [
              0.4444444444444444,
              "#bd3786"
             ],
             [
              0.5555555555555556,
              "#d8576b"
             ],
             [
              0.6666666666666666,
              "#ed7953"
             ],
             [
              0.7777777777777778,
              "#fb9f3a"
             ],
             [
              0.8888888888888888,
              "#fdca26"
             ],
             [
              1,
              "#f0f921"
             ]
            ],
            "type": "heatmap"
           }
          ],
          "histogram": [
           {
            "marker": {
             "pattern": {
              "fillmode": "overlay",
              "size": 10,
              "solidity": 0.2
             }
            },
            "type": "histogram"
           }
          ],
          "histogram2d": [
           {
            "colorbar": {
             "outlinewidth": 0,
             "ticks": ""
            },
            "colorscale": [
             [
              0,
              "#0d0887"
             ],
             [
              0.1111111111111111,
              "#46039f"
             ],
             [
              0.2222222222222222,
              "#7201a8"
             ],
             [
              0.3333333333333333,
              "#9c179e"
             ],
             [
              0.4444444444444444,
              "#bd3786"
             ],
             [
              0.5555555555555556,
              "#d8576b"
             ],
             [
              0.6666666666666666,
              "#ed7953"
             ],
             [
              0.7777777777777778,
              "#fb9f3a"
             ],
             [
              0.8888888888888888,
              "#fdca26"
             ],
             [
              1,
              "#f0f921"
             ]
            ],
            "type": "histogram2d"
           }
          ],
          "histogram2dcontour": [
           {
            "colorbar": {
             "outlinewidth": 0,
             "ticks": ""
            },
            "colorscale": [
             [
              0,
              "#0d0887"
             ],
             [
              0.1111111111111111,
              "#46039f"
             ],
             [
              0.2222222222222222,
              "#7201a8"
             ],
             [
              0.3333333333333333,
              "#9c179e"
             ],
             [
              0.4444444444444444,
              "#bd3786"
             ],
             [
              0.5555555555555556,
              "#d8576b"
             ],
             [
              0.6666666666666666,
              "#ed7953"
             ],
             [
              0.7777777777777778,
              "#fb9f3a"
             ],
             [
              0.8888888888888888,
              "#fdca26"
             ],
             [
              1,
              "#f0f921"
             ]
            ],
            "type": "histogram2dcontour"
           }
          ],
          "mesh3d": [
           {
            "colorbar": {
             "outlinewidth": 0,
             "ticks": ""
            },
            "type": "mesh3d"
           }
          ],
          "parcoords": [
           {
            "line": {
             "colorbar": {
              "outlinewidth": 0,
              "ticks": ""
             }
            },
            "type": "parcoords"
           }
          ],
          "pie": [
           {
            "automargin": true,
            "type": "pie"
           }
          ],
          "scatter": [
           {
            "fillpattern": {
             "fillmode": "overlay",
             "size": 10,
             "solidity": 0.2
            },
            "type": "scatter"
           }
          ],
          "scatter3d": [
           {
            "line": {
             "colorbar": {
              "outlinewidth": 0,
              "ticks": ""
             }
            },
            "marker": {
             "colorbar": {
              "outlinewidth": 0,
              "ticks": ""
             }
            },
            "type": "scatter3d"
           }
          ],
          "scattercarpet": [
           {
            "marker": {
             "colorbar": {
              "outlinewidth": 0,
              "ticks": ""
             }
            },
            "type": "scattercarpet"
           }
          ],
          "scattergeo": [
           {
            "marker": {
             "colorbar": {
              "outlinewidth": 0,
              "ticks": ""
             }
            },
            "type": "scattergeo"
           }
          ],
          "scattergl": [
           {
            "marker": {
             "colorbar": {
              "outlinewidth": 0,
              "ticks": ""
             }
            },
            "type": "scattergl"
           }
          ],
          "scattermap": [
           {
            "marker": {
             "colorbar": {
              "outlinewidth": 0,
              "ticks": ""
             }
            },
            "type": "scattermap"
           }
          ],
          "scattermapbox": [
           {
            "marker": {
             "colorbar": {
              "outlinewidth": 0,
              "ticks": ""
             }
            },
            "type": "scattermapbox"
           }
          ],
          "scatterpolar": [
           {
            "marker": {
             "colorbar": {
              "outlinewidth": 0,
              "ticks": ""
             }
            },
            "type": "scatterpolar"
           }
          ],
          "scatterpolargl": [
           {
            "marker": {
             "colorbar": {
              "outlinewidth": 0,
              "ticks": ""
             }
            },
            "type": "scatterpolargl"
           }
          ],
          "scatterternary": [
           {
            "marker": {
             "colorbar": {
              "outlinewidth": 0,
              "ticks": ""
             }
            },
            "type": "scatterternary"
           }
          ],
          "surface": [
           {
            "colorbar": {
             "outlinewidth": 0,
             "ticks": ""
            },
            "colorscale": [
             [
              0,
              "#0d0887"
             ],
             [
              0.1111111111111111,
              "#46039f"
             ],
             [
              0.2222222222222222,
              "#7201a8"
             ],
             [
              0.3333333333333333,
              "#9c179e"
             ],
             [
              0.4444444444444444,
              "#bd3786"
             ],
             [
              0.5555555555555556,
              "#d8576b"
             ],
             [
              0.6666666666666666,
              "#ed7953"
             ],
             [
              0.7777777777777778,
              "#fb9f3a"
             ],
             [
              0.8888888888888888,
              "#fdca26"
             ],
             [
              1,
              "#f0f921"
             ]
            ],
            "type": "surface"
           }
          ],
          "table": [
           {
            "cells": {
             "fill": {
              "color": "#EBF0F8"
             },
             "line": {
              "color": "white"
             }
            },
            "header": {
             "fill": {
              "color": "#C8D4E3"
             },
             "line": {
              "color": "white"
             }
            },
            "type": "table"
           }
          ]
         },
         "layout": {
          "annotationdefaults": {
           "arrowcolor": "#2a3f5f",
           "arrowhead": 0,
           "arrowwidth": 1
          },
          "autotypenumbers": "strict",
          "coloraxis": {
           "colorbar": {
            "outlinewidth": 0,
            "ticks": ""
           }
          },
          "colorscale": {
           "diverging": [
            [
             0,
             "#8e0152"
            ],
            [
             0.1,
             "#c51b7d"
            ],
            [
             0.2,
             "#de77ae"
            ],
            [
             0.3,
             "#f1b6da"
            ],
            [
             0.4,
             "#fde0ef"
            ],
            [
             0.5,
             "#f7f7f7"
            ],
            [
             0.6,
             "#e6f5d0"
            ],
            [
             0.7,
             "#b8e186"
            ],
            [
             0.8,
             "#7fbc41"
            ],
            [
             0.9,
             "#4d9221"
            ],
            [
             1,
             "#276419"
            ]
           ],
           "sequential": [
            [
             0,
             "#0d0887"
            ],
            [
             0.1111111111111111,
             "#46039f"
            ],
            [
             0.2222222222222222,
             "#7201a8"
            ],
            [
             0.3333333333333333,
             "#9c179e"
            ],
            [
             0.4444444444444444,
             "#bd3786"
            ],
            [
             0.5555555555555556,
             "#d8576b"
            ],
            [
             0.6666666666666666,
             "#ed7953"
            ],
            [
             0.7777777777777778,
             "#fb9f3a"
            ],
            [
             0.8888888888888888,
             "#fdca26"
            ],
            [
             1,
             "#f0f921"
            ]
           ],
           "sequentialminus": [
            [
             0,
             "#0d0887"
            ],
            [
             0.1111111111111111,
             "#46039f"
            ],
            [
             0.2222222222222222,
             "#7201a8"
            ],
            [
             0.3333333333333333,
             "#9c179e"
            ],
            [
             0.4444444444444444,
             "#bd3786"
            ],
            [
             0.5555555555555556,
             "#d8576b"
            ],
            [
             0.6666666666666666,
             "#ed7953"
            ],
            [
             0.7777777777777778,
             "#fb9f3a"
            ],
            [
             0.8888888888888888,
             "#fdca26"
            ],
            [
             1,
             "#f0f921"
            ]
           ]
          },
          "colorway": [
           "#636efa",
           "#EF553B",
           "#00cc96",
           "#ab63fa",
           "#FFA15A",
           "#19d3f3",
           "#FF6692",
           "#B6E880",
           "#FF97FF",
           "#FECB52"
          ],
          "font": {
           "color": "#2a3f5f"
          },
          "geo": {
           "bgcolor": "white",
           "lakecolor": "white",
           "landcolor": "#E5ECF6",
           "showlakes": true,
           "showland": true,
           "subunitcolor": "white"
          },
          "hoverlabel": {
           "align": "left"
          },
          "hovermode": "closest",
          "mapbox": {
           "style": "light"
          },
          "paper_bgcolor": "white",
          "plot_bgcolor": "#E5ECF6",
          "polar": {
           "angularaxis": {
            "gridcolor": "white",
            "linecolor": "white",
            "ticks": ""
           },
           "bgcolor": "#E5ECF6",
           "radialaxis": {
            "gridcolor": "white",
            "linecolor": "white",
            "ticks": ""
           }
          },
          "scene": {
           "xaxis": {
            "backgroundcolor": "#E5ECF6",
            "gridcolor": "white",
            "gridwidth": 2,
            "linecolor": "white",
            "showbackground": true,
            "ticks": "",
            "zerolinecolor": "white"
           },
           "yaxis": {
            "backgroundcolor": "#E5ECF6",
            "gridcolor": "white",
            "gridwidth": 2,
            "linecolor": "white",
            "showbackground": true,
            "ticks": "",
            "zerolinecolor": "white"
           },
           "zaxis": {
            "backgroundcolor": "#E5ECF6",
            "gridcolor": "white",
            "gridwidth": 2,
            "linecolor": "white",
            "showbackground": true,
            "ticks": "",
            "zerolinecolor": "white"
           }
          },
          "shapedefaults": {
           "line": {
            "color": "#2a3f5f"
           }
          },
          "ternary": {
           "aaxis": {
            "gridcolor": "white",
            "linecolor": "white",
            "ticks": ""
           },
           "baxis": {
            "gridcolor": "white",
            "linecolor": "white",
            "ticks": ""
           },
           "bgcolor": "#E5ECF6",
           "caxis": {
            "gridcolor": "white",
            "linecolor": "white",
            "ticks": ""
           }
          },
          "title": {
           "x": 0.05
          },
          "xaxis": {
           "automargin": true,
           "gridcolor": "white",
           "linecolor": "white",
           "ticks": "",
           "title": {
            "standoff": 15
           },
           "zerolinecolor": "white",
           "zerolinewidth": 2
          },
          "yaxis": {
           "automargin": true,
           "gridcolor": "white",
           "linecolor": "white",
           "ticks": "",
           "title": {
            "standoff": 15
           },
           "zerolinecolor": "white",
           "zerolinewidth": 2
          }
         }
        },
        "title": {
         "text": "Interactive PCA Visualization of Music Genres"
        },
        "xaxis": {
         "anchor": "y",
         "domain": [
          0,
          1
         ],
         "title": {
          "text": "PC1 (23.2%)"
         }
        },
        "yaxis": {
         "anchor": "x",
         "domain": [
          0,
          1
         ],
         "title": {
          "text": "PC2 (16.4%)"
         }
        }
       }
      }
     },
     "metadata": {},
     "output_type": "display_data"
    }
   ],
   "source": [
    "import matplotlib.pyplot as plt\n",
    "import plotly.express as px\n",
    "import numpy as np\n",
    "\n",
    "# --- Visualisation statique avec Matplotlib ---\n",
    "plt.figure(figsize=(12, 8))\n",
    "\n",
    "colors = plt.cm.Set3(np.linspace(0, 1, len(genre_names)))\n",
    "for i, genre in enumerate(genre_names):\n",
    "    mask = pca_df['genre'] == i\n",
    "    plt.scatter(\n",
    "        pca_df[mask]['PC1'],\n",
    "        pca_df[mask]['PC2'],\n",
    "        c=[colors[i]],\n",
    "        label=genre,\n",
    "        alpha=0.7,\n",
    "        s=50\n",
    "    )\n",
    "\n",
    "plt.xlabel(f'PC1 ({pca_model.explained_variance_ratio_[0]:.1%} variance)')\n",
    "plt.ylabel(f'PC2 ({pca_model.explained_variance_ratio_[1]:.1%} variance)')\n",
    "plt.title('PCA Visualization of Music Genres in Feature Space')\n",
    "plt.legend(bbox_to_anchor=(1.05, 1), loc='upper left')\n",
    "plt.grid(True, alpha=0.3)\n",
    "plt.tight_layout()\n",
    "plt.show()\n",
    "\n",
    "# --- Visualisation interactive avec Plotly ---\n",
    "import plotly.express as px\n",
    "\n",
    "fig = px.scatter(\n",
    "    pca_df,\n",
    "    x='PC1',\n",
    "    y='PC2',\n",
    "    color='genre_name',\n",
    "    hover_data=['track_id'],\n",
    "    title='Interactive PCA Visualization of Music Genres',\n",
    "    labels={\n",
    "        'PC1': f'PC1 ({pca_model.explained_variance_ratio_[0]:.1%})',\n",
    "        'PC2': f'PC2 ({pca_model.explained_variance_ratio_[1]:.1%})'\n",
    "    }\n",
    ")\n",
    "fig.show()\n",
    "\n",
    "\n",
    "\n",
    "# ## 7. Playlist Generation Algorithm"
   ]
  },
  {
   "cell_type": "code",
   "execution_count": 16,
   "id": "d459cd5c",
   "metadata": {},
   "outputs": [
    {
     "name": "stdout",
     "output_type": "stream",
     "text": [
      "Generating playlist between 085791 and 027164...\n",
      "Track 1 (085791): PC1=-1.427, PC2=-1.387\n",
      "Track 2 (027164): PC1=-2.059, PC2=7.300\n",
      "\n",
      "Generated Playlist:\n",
      "--------------------------------------------------------------------------------\n",
      " 1. 085791 (Rock) - Distance: 0.000\n",
      " 2. 025797 (International) - Distance: 0.218\n",
      " 3. 012551 (Pop) - Distance: 0.336\n",
      " 4. 125189 (Folk) - Distance: 0.169\n",
      " 5. 085421 (Pop) - Distance: 0.306\n",
      " 6. 094634 (Pop) - Distance: 0.107\n",
      " 7. 108290 (Rock) - Distance: 0.084\n",
      " 8. 000204 (Folk) - Distance: 0.431\n",
      " 9. 142577 (International) - Distance: 0.384\n",
      "10. 027164 (Pop) - Distance: 0.000\n",
      "\n",
      "Playlist Quality Metrics:\n",
      "Average distance to line: 0.203\n",
      "Total distance: 2.035\n"
     ]
    }
   ],
   "source": [
    "import numpy as np\n",
    "import random\n",
    "\n",
    "def generate_playlist_line_keras(pca_df, track1_id, track2_id, num_tracks=10):\n",
    "    \"\"\"\n",
    "    Generate a playlist by creating a line between two tracks in PCA space\n",
    "    and finding tracks closest to points along this line\n",
    "    \"\"\"\n",
    "    # Get coordinates of the two reference tracks\n",
    "    track1_data = pca_df[pca_df['track_id'] == track1_id]\n",
    "    track2_data = pca_df[pca_df['track_id'] == track2_id]\n",
    "\n",
    "    if len(track1_data) == 0 or len(track2_data) == 0:\n",
    "        print(\"One or both tracks not found!\")\n",
    "        return None\n",
    "\n",
    "    # Get PCA coordinates\n",
    "    p1 = np.array([track1_data['PC1'].iloc[0], track1_data['PC2'].iloc[0]])\n",
    "    p2 = np.array([track2_data['PC1'].iloc[0], track2_data['PC2'].iloc[0]])\n",
    "\n",
    "    print(f\"Track 1 ({track1_id}): PC1={p1[0]:.3f}, PC2={p1[1]:.3f}\")\n",
    "    print(f\"Track 2 ({track2_id}): PC1={p2[0]:.3f}, PC2={p2[1]:.3f}\")\n",
    "\n",
    "    # Generate points along the line\n",
    "    t_values = np.linspace(0, 1, num_tracks)\n",
    "    line_points = np.array([p1 + t * (p2 - p1) for t in t_values])\n",
    "\n",
    "    # Find closest tracks to each point on the line\n",
    "    playlist_tracks = []\n",
    "    used_tracks = set()\n",
    "\n",
    "    for i, target_point in enumerate(line_points):\n",
    "        # Calculate distances to all tracks\n",
    "        distances = []\n",
    "        for idx, row in pca_df.iterrows():\n",
    "            if row['track_id'] not in used_tracks:\n",
    "                track_point = np.array([row['PC1'], row['PC2']])\n",
    "                distance = np.linalg.norm(track_point - target_point)\n",
    "                distances.append((distance, row['track_id'], row['genre_name'], track_point))\n",
    "\n",
    "        # Find closest unused track\n",
    "        if distances:\n",
    "            distances.sort(key=lambda x: x[0])\n",
    "            closest_distance, closest_track, closest_genre, closest_point = distances[0]\n",
    "\n",
    "            playlist_tracks.append({\n",
    "                'position': i + 1,\n",
    "                'track_id': closest_track,\n",
    "                'genre': closest_genre,\n",
    "                'distance_to_line': closest_distance,\n",
    "                'target_point': target_point,\n",
    "                'actual_point': closest_point,\n",
    "                'PC1': closest_point[0],\n",
    "                'PC2': closest_point[1]\n",
    "            })\n",
    "\n",
    "            used_tracks.add(closest_track)\n",
    "\n",
    "    return playlist_tracks, line_points, p1, p2\n",
    "\n",
    "# --- Exemple d'utilisation ---\n",
    "available_tracks = pca_df['track_id'].tolist()\n",
    "track1 = random.choice(available_tracks)\n",
    "track2 = random.choice([t for t in available_tracks if t != track1])\n",
    "\n",
    "print(f\"Generating playlist between {track1} and {track2}...\")\n",
    "playlist, line_points, p1, p2 = generate_playlist_line_keras(pca_df, track1, track2, num_tracks=10)\n",
    "\n",
    "# Display playlist\n",
    "if playlist:\n",
    "    print(\"\\nGenerated Playlist:\")\n",
    "    print(\"-\" * 80)\n",
    "    for track in playlist:\n",
    "        print(f\"{track['position']:2d}. {track['track_id']} ({track['genre']}) - \"\n",
    "              f\"Distance: {track['distance_to_line']:.3f}\")\n",
    "\n",
    "    total_distance = sum(track['distance_to_line'] for track in playlist)\n",
    "    avg_distance = total_distance / len(playlist)\n",
    "    print(f\"\\nPlaylist Quality Metrics:\")\n",
    "    print(f\"Average distance to line: {avg_distance:.3f}\")\n",
    "    print(f\"Total distance: {total_distance:.3f}\")\n",
    "\n",
    "\n",
    "# ## 8. Playlist Visualization"
   ]
  },
  {
   "cell_type": "code",
   "execution_count": 17,
   "id": "922610cc",
   "metadata": {},
   "outputs": [
    {
     "data": {
      "image/png": "[encoded data removed]",
      "text/plain": [
       "<Figure size 1400x1000 with 1 Axes>"
      ]
     },
     "metadata": {},
     "output_type": "display_data"
    }
   ],
   "source": [
    "import matplotlib.pyplot as plt\n",
    "import numpy as np\n",
    "\n",
    "def visualize_playlist_keras(pca_df, playlist, line_points, p1, p2, track1_id, track2_id):\n",
    "    \"\"\"\n",
    "    Visualize the generated playlist on the PCA plot\n",
    "    \"\"\"\n",
    "    plt.figure(figsize=(14, 10))\n",
    "\n",
    "    # Plot all tracks as background\n",
    "    colors = plt.cm.Set3(np.linspace(0, 1, len(genre_names)))\n",
    "    for i, genre in enumerate(genre_names):\n",
    "        mask = pca_df['genre'] == i\n",
    "        plt.scatter(\n",
    "            pca_df[mask]['PC1'], \n",
    "            pca_df[mask]['PC2'], \n",
    "            c=[colors[i]], \n",
    "            label=genre, \n",
    "            alpha=0.3, \n",
    "            s=30\n",
    "        )\n",
    "\n",
    "    # Plot the line between reference tracks\n",
    "    plt.plot([p1[0], p2[0]], [p1[1], p2[1]], 'k--', linewidth=2, alpha=0.7, label='Playlist Line')\n",
    "\n",
    "    # Plot line points\n",
    "    plt.scatter(\n",
    "        line_points[:, 0], line_points[:, 1], \n",
    "        c='red', s=50, alpha=0.5, marker='x', label='Target Points'\n",
    "    )\n",
    "\n",
    "    # Plot reference tracks\n",
    "    plt.scatter([p1[0]], [p1[1]], c='blue', s=200, marker='*', \n",
    "                edgecolors='black', linewidth=2, label=f'Start: {track1_id}')\n",
    "    plt.scatter([p2[0]], [p2[1]], c='green', s=200, marker='*', \n",
    "                edgecolors='black', linewidth=2, label=f'End: {track2_id}')\n",
    "\n",
    "    # Plot playlist tracks\n",
    "    playlist_points = np.array([[track['PC1'], track['PC2']] for track in playlist])\n",
    "    plt.scatter(\n",
    "        playlist_points[:, 0], playlist_points[:, 1], \n",
    "        c='red', s=100, alpha=0.8, edgecolors='black', linewidth=1, label='Playlist Tracks'\n",
    "    )\n",
    "\n",
    "    # Add track numbers\n",
    "    for track in playlist:\n",
    "        plt.annotate(\n",
    "            str(track['position']), \n",
    "            (track['PC1'], track['PC2']), \n",
    "            xytext=(5, 5), textcoords='offset points',\n",
    "            fontsize=8, fontweight='bold'\n",
    "        )\n",
    "\n",
    "    # Draw lines from target points to actual tracks\n",
    "    for track in playlist:\n",
    "        target = track['target_point']\n",
    "        actual = track['actual_point']\n",
    "        plt.plot([target[0], actual[0]], [target[1], actual[1]], 'r-', alpha=0.3, linewidth=1)\n",
    "\n",
    "    plt.xlabel(f'PC1 ({pca_model.explained_variance_ratio_[0]:.1%} variance)')\n",
    "    plt.ylabel(f'PC2 ({pca_model.explained_variance_ratio_[1]:.1%} variance)')\n",
    "    plt.title(f'Playlist Generation: {track1_id} → {track2_id}')\n",
    "    plt.legend(bbox_to_anchor=(1.05, 1), loc='upper left')\n",
    "    plt.grid(True, alpha=0.3)\n",
    "    plt.tight_layout()\n",
    "    plt.show()\n",
    "\n",
    "# --- Visualiser la playlist générée ---\n",
    "if playlist:\n",
    "    visualize_playlist_keras(pca_df, playlist, line_points, p1, p2, track1, track2)\n",
    "\n",
    "# ## 9. Interactive Playlist Generator"
   ]
  },
  {
   "cell_type": "code",
   "execution_count": 18,
   "id": "36b8dca5",
   "metadata": {},
   "outputs": [
    {
     "name": "stdout",
     "output_type": "stream",
     "text": [
      "Available tracks (first 20 shown):\n",
      " 1. 043698 (International)\n",
      " 2. 100536 (Electronic)\n",
      " 3. 011262 (Electronic)\n",
      " 4. 130683 (Rock)\n",
      " 5. 047506 (Folk)\n",
      " 6. 093921 (Instrumental)\n",
      " 7. 067366 (Pop)\n",
      " 8. 099364 (International)\n",
      " 9. 122473 (Pop)\n",
      "10. 148537 (Rock)\n",
      "11. 107909 (Electronic)\n",
      "12. 045515 (Folk)\n",
      "13. 021860 (Rock)\n",
      "14. 148210 (Folk)\n",
      "15. 054476 (International)\n",
      "16. 038910 (Experimental)\n",
      "17. 098580 (Hip-Hop)\n",
      "18. 119026 (Experimental)\n",
      "19. 116489 (Instrumental)\n",
      "20. 133450 (Instrumental)\n",
      "\n",
      "Example usage:\n",
      "track1 = pca_df.iloc[0]['track_id']  # First track\n",
      "track2 = pca_df.iloc[10]['track_id']  # Eleventh track\n",
      "playlist, line_points, p1, p2 = generate_playlist_line_keras(pca_df, track1, track2, num_tracks=8)\n",
      "visualize_playlist_keras(pca_df, playlist, line_points, p1, p2, track1, track2)\n",
      "\n",
      "================================================================================\n",
      "GENERATING ADDITIONAL EXAMPLE PLAYLISTS\n",
      "================================================================================\n",
      "\n",
      "--- Example Playlist 1 ---\n",
      "Track 1 (110688): PC1=3.191, PC2=-3.702\n",
      "Track 2 (110610): PC1=4.689, PC2=-9.131\n",
      "Playlist from 110688 to 110610:\n",
      "  1. 110688 (Electronic)\n",
      "  2. 045149 (Electronic)\n",
      "  3. 040133 (Rock)\n",
      "  4. 092556 (Electronic)\n",
      "  5. 135986 (Electronic)\n",
      "  6. 072476 (Pop)\n",
      "  7. 110610 (Experimental)\n",
      "  8. 081485 (Instrumental)\n",
      "  Average distance to line: 0.328\n",
      "\n",
      "--- Example Playlist 2 ---\n",
      "Track 1 (121366): PC1=1.611, PC2=0.904\n",
      "Track 2 (087189): PC1=-4.289, PC2=2.071\n",
      "Playlist from 121366 to 087189:\n",
      "  1. 121366 (Experimental)\n",
      "  2. 030636 (Experimental)\n",
      "  3. 140924 (Electronic)\n",
      "  4. 116547 (Rock)\n",
      "  5. 113513 (Rock)\n",
      "  6. 097587 (Folk)\n",
      "  7. 133837 (International)\n",
      "  8. 087189 (Pop)\n",
      "  Average distance to line: 0.259\n",
      "\n",
      "--- Example Playlist 3 ---\n",
      "Track 1 (114411): PC1=-5.917, PC2=-6.326\n",
      "Track 2 (024367): PC1=-1.829, PC2=-3.882\n",
      "Playlist from 114411 to 024367:\n",
      "  1. 114411 (Rock)\n",
      "  2. 045393 (Instrumental)\n",
      "  3. 150268 (Instrumental)\n",
      "  4. 062448 (Pop)\n",
      "  5. 097406 (Experimental)\n",
      "  6. 112734 (Rock)\n",
      "  7. 092872 (Experimental)\n",
      "  8. 024367 (International)\n",
      "  Average distance to line: 0.241\n"
     ]
    }
   ],
   "source": [
    "import random\n",
    "import numpy as np\n",
    "\n",
    "def interactive_playlist_generator_keras(pca_df):\n",
    "    \"\"\"\n",
    "    Interactive function to generate playlists between user-selected tracks\n",
    "    (Keras-compatible)\n",
    "    \"\"\"\n",
    "    print(\"Available tracks (first 20 shown):\")\n",
    "    for i, (idx, row) in enumerate(pca_df.head(20).iterrows()):\n",
    "        print(f\"{i+1:2d}. {row['track_id']} ({row['genre_name']})\")\n",
    "\n",
    "    print(\"\\nExample usage:\")\n",
    "    print(\"track1 = pca_df.iloc[0]['track_id']  # First track\")\n",
    "    print(\"track2 = pca_df.iloc[10]['track_id']  # Eleventh track\")\n",
    "    print(\"playlist, line_points, p1, p2 = generate_playlist_line_keras(pca_df, track1, track2, num_tracks=8)\")\n",
    "    print(\"visualize_playlist_keras(pca_df, playlist, line_points, p1, p2, track1, track2)\")\n",
    "\n",
    "# --- Call the interactive generator ---\n",
    "interactive_playlist_generator_keras(pca_df)\n",
    "\n",
    "# --- Generate a few example playlists ---\n",
    "print(\"\\n\" + \"=\"*80)\n",
    "print(\"GENERATING ADDITIONAL EXAMPLE PLAYLISTS\")\n",
    "print(\"=\"*80)\n",
    "\n",
    "for i in range(3):\n",
    "    print(f\"\\n--- Example Playlist {i+1} ---\")\n",
    "\n",
    "    # Select tracks from different genres\n",
    "    available_tracks = pca_df['track_id'].tolist()\n",
    "    track1 = random.choice(available_tracks)\n",
    "    track2 = random.choice([t for t in available_tracks if t != track1])\n",
    "\n",
    "    playlist, line_points, p1, p2 = generate_playlist_line_keras(pca_df, track1, track2, num_tracks=8)\n",
    "\n",
    "    if playlist:\n",
    "        print(f\"Playlist from {track1} to {track2}:\")\n",
    "        for track in playlist:\n",
    "            print(f\"  {track['position']}. {track['track_id']} ({track['genre']})\")\n",
    "\n",
    "        avg_distance = sum(track['distance_to_line'] for track in playlist) / len(playlist)\n",
    "        print(f\"  Average distance to line: {avg_distance:.3f}\")\n",
    "\n",
    "\n",
    "# ## 10. Advanced Analysis and Metrics"
   ]
  },
  {
   "cell_type": "code",
   "execution_count": 19,
   "id": "ca1891ed",
   "metadata": {},
   "outputs": [
    {
     "name": "stdout",
     "output_type": "stream",
     "text": [
      "PLAYLIST QUALITY ANALYSIS\n",
      "========================================\n",
      "Number of tracks: 8\n",
      "Unique genres: 5\n",
      "Genre diversity ratio: 0.62\n",
      "Average distance to line: 0.241\n",
      "Standard deviation of distances: 0.201\n",
      "Maximum distance to line: 0.536\n",
      "Average smoothness: 0.813\n",
      "\n",
      "Genre distribution:\n",
      "  Rock: 2 tracks\n",
      "  Instrumental: 2 tracks\n",
      "  Experimental: 2 tracks\n",
      "  Pop: 1 tracks\n",
      "  International: 1 tracks\n"
     ]
    },
    {
     "ename": "NameError",
     "evalue": "name 'train_losses' is not defined",
     "output_type": "error",
     "traceback": [
      "\u001b[31m---------------------------------------------------------------------------\u001b[39m",
      "\u001b[31mNameError\u001b[39m                                 Traceback (most recent call last)",
      "\u001b[36mCell\u001b[39m\u001b[36m \u001b[39m\u001b[32mIn[19]\u001b[39m\u001b[32m, line 70\u001b[39m\n\u001b[32m     67\u001b[39m fig, axes = plt.subplots(\u001b[32m2\u001b[39m, \u001b[32m2\u001b[39m, figsize=(\u001b[32m15\u001b[39m, \u001b[32m12\u001b[39m))\n\u001b[32m     69\u001b[39m \u001b[38;5;66;03m# Training history\u001b[39;00m\n\u001b[32m---> \u001b[39m\u001b[32m70\u001b[39m axes[\u001b[32m0\u001b[39m, \u001b[32m0\u001b[39m].plot(\u001b[43mtrain_losses\u001b[49m, label=\u001b[33m'\u001b[39m\u001b[33mTrain Loss\u001b[39m\u001b[33m'\u001b[39m, color=\u001b[33m'\u001b[39m\u001b[33mblue\u001b[39m\u001b[33m'\u001b[39m)\n\u001b[32m     71\u001b[39m axes[\u001b[32m0\u001b[39m, \u001b[32m0\u001b[39m].plot(val_losses, label=\u001b[33m'\u001b[39m\u001b[33mVal Loss\u001b[39m\u001b[33m'\u001b[39m, color=\u001b[33m'\u001b[39m\u001b[33mred\u001b[39m\u001b[33m'\u001b[39m)\n\u001b[32m     72\u001b[39m axes[\u001b[32m0\u001b[39m, \u001b[32m0\u001b[39m].set_title(\u001b[33m'\u001b[39m\u001b[33mTraining History - Loss\u001b[39m\u001b[33m'\u001b[39m)\n",
      "\u001b[31mNameError\u001b[39m: name 'train_losses' is not defined"
     ]
    },
    {
     "data": {
      "image/png": "[encoded data removed]",
      "text/plain": [
       "<Figure size 1500x1200 with 4 Axes>"
      ]
     },
     "metadata": {},
     "output_type": "display_data"
    }
   ],
   "source": [
    "\n",
    "import numpy as np\n",
    "import pandas as pd\n",
    "import matplotlib.pyplot as plt\n",
    "\n",
    "def analyze_playlist_quality_keras(playlist, pca_df):\n",
    "    \"\"\"\n",
    "    Analyze the quality and characteristics of a generated playlist\n",
    "    (Keras-compatible)\n",
    "    \"\"\"\n",
    "    if not playlist:\n",
    "        return None\n",
    "\n",
    "    # Genre diversity\n",
    "    genres_in_playlist = [track['genre'] for track in playlist]\n",
    "    unique_genres = len(set(genres_in_playlist))\n",
    "    genre_distribution = pd.Series(genres_in_playlist).value_counts()\n",
    "\n",
    "    # Distance metrics\n",
    "    distances = [track['distance_to_line'] for track in playlist]\n",
    "    avg_distance = np.mean(distances)\n",
    "    std_distance = np.std(distances)\n",
    "    max_distance = np.max(distances)\n",
    "\n",
    "    # Smoothness (distance between consecutive tracks)\n",
    "    smoothness_distances = []\n",
    "    for i in range(len(playlist) - 1):\n",
    "        p1 = np.array([playlist[i]['PC1'], playlist[i]['PC2']])\n",
    "        p2 = np.array([playlist[i+1]['PC1'], playlist[i+1]['PC2']])\n",
    "        smoothness_distances.append(np.linalg.norm(p2 - p1))\n",
    "\n",
    "    avg_smoothness = np.mean(smoothness_distances) if smoothness_distances else 0\n",
    "\n",
    "    analysis = {\n",
    "        'num_tracks': len(playlist),\n",
    "        'unique_genres': unique_genres,\n",
    "        'genre_diversity_ratio': unique_genres / len(playlist),\n",
    "        'avg_distance_to_line': avg_distance,\n",
    "        'std_distance_to_line': std_distance,\n",
    "        'max_distance_to_line': max_distance,\n",
    "        'avg_smoothness': avg_smoothness,\n",
    "        'genre_distribution': genre_distribution.to_dict()\n",
    "    }\n",
    "\n",
    "    return analysis\n",
    "\n",
    "\n",
    "# --- Analyse de la dernière playlist générée ---\n",
    "if playlist:\n",
    "    analysis = analyze_playlist_quality_keras(playlist, pca_df)\n",
    "\n",
    "    print(\"PLAYLIST QUALITY ANALYSIS\")\n",
    "    print(\"=\"*40)\n",
    "    print(f\"Number of tracks: {analysis['num_tracks']}\")\n",
    "    print(f\"Unique genres: {analysis['unique_genres']}\")\n",
    "    print(f\"Genre diversity ratio: {analysis['genre_diversity_ratio']:.2f}\")\n",
    "    print(f\"Average distance to line: {analysis['avg_distance_to_line']:.3f}\")\n",
    "    print(f\"Standard deviation of distances: {analysis['std_distance_to_line']:.3f}\")\n",
    "    print(f\"Maximum distance to line: {analysis['max_distance_to_line']:.3f}\")\n",
    "    print(f\"Average smoothness: {analysis['avg_smoothness']:.3f}\")\n",
    "    print(\"\\nGenre distribution:\")\n",
    "    for genre, count in analysis['genre_distribution'].items():\n",
    "        genre_name = genre_names[genre] if isinstance(genre, int) else genre\n",
    "        print(f\"  {genre_name}: {count} tracks\")\n",
    "\n",
    "\n",
    "# --- Visualisation récapitulative ---\n",
    "fig, axes = plt.subplots(2, 2, figsize=(15, 12))\n",
    "\n",
    "# Training history\n",
    "axes[0, 0].plot(train_losses, label='Train Loss', color='blue')\n",
    "axes[0, 0].plot(val_losses, label='Val Loss', color='red')\n",
    "axes[0, 0].set_title('Training History - Loss')\n",
    "axes[0, 0].set_xlabel('Epoch')\n",
    "axes[0, 0].set_ylabel('Loss')\n",
    "axes[0, 0].legend()\n",
    "axes[0, 0].grid(True, alpha=0.3)\n",
    "\n",
    "axes[0, 1].plot(train_accs, label='Train Accuracy', color='blue')\n",
    "axes[0, 1].plot(val_accs, label='Val Accuracy', color='red')\n",
    "axes[0, 1].set_title('Training History - Accuracy')\n",
    "axes[0, 1].set_xlabel('Epoch')\n",
    "axes[0, 1].set_ylabel('Accuracy (%)')\n",
    "axes[0, 1].legend()\n",
    "axes[0, 1].grid(True, alpha=0.3)\n",
    "\n",
    "# PCA explained variance\n",
    "pca_components = range(1, len(pca_model.explained_variance_ratio_) + 1)\n",
    "axes[1, 0].bar(pca_components, pca_model.explained_variance_ratio_)\n",
    "axes[1, 0].set_title('PCA Explained Variance Ratio')\n",
    "axes[1, 0].set_xlabel('Principal Component')\n",
    "axes[1, 0].set_ylabel('Explained Variance Ratio')\n",
    "axes[1, 0].grid(True, alpha=0.3)\n",
    "\n",
    "# Genre distribution dans le dataset\n",
    "genre_counts = pca_df['genre_name'].value_counts()\n",
    "axes[1, 1].pie(genre_counts.values, labels=genre_counts.index, autopct='%1.1f%%')\n",
    "axes[1, 1].set_title('Genre Distribution in Test Set')\n",
    "\n",
    "plt.tight_layout()\n",
    "plt.show()\n"
   ]
  }
 ],
 "metadata": {
  "jupytext": {
   "cell_metadata_filter": "-all",
   "encoding": "# coding: utf-8",
   "executable": "/usr/bin/env python",
   "main_language": "python",
   "notebook_metadata_filter": "-all"
  },
  "kernelspec": {
   "display_name": "cine_reco",
   "language": "python",
   "name": "python3"
  },
  "language_info": {
   "codemirror_mode": {
    "name": "ipython",
    "version": 3
   },
   "file_extension": ".py",
   "mimetype": "text/x-python",
   "name": "python",
   "nbconvert_exporter": "python",
   "pygments_lexer": "ipython3",
   "version": "3.12.11"
  }
 },
 "nbformat": 4,
 "nbformat_minor": 5
}
